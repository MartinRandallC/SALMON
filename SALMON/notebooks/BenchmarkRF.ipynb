{
 "cells": [
  {
   "cell_type": "code",
   "execution_count": 1,
   "metadata": {},
   "outputs": [],
   "source": [
    "%matplotlib inline\n",
    "\n",
    "import numpy as np\n",
    "import pandas as pd\n",
    "import seaborn as sns\n",
    "import matplotlib.pyplot as plt\n",
    "from matplotlib.font_manager import FontProperties\n",
    "import pickle\n",
    "\n",
    "from pathlib import Path\n",
    "from tqdm.auto import tqdm\n",
    "\n",
    "# coding: utf-8\n",
    "import time\n",
    "# import cProfile\n",
    "# from mpl_toolkits.mplot3d import Axes3D\n",
    "import random\n",
    "from sklearn.model_selection import train_test_split\n",
    "from sklearn.ensemble import RandomForestClassifier\n",
    "from sklearn import metrics"
   ]
  },
  {
   "cell_type": "code",
   "execution_count": 2,
   "metadata": {},
   "outputs": [],
   "source": [
    "import sys\n",
    "sys.path.append('..')"
   ]
  },
  {
   "cell_type": "code",
   "execution_count": 3,
   "metadata": {},
   "outputs": [],
   "source": [
    "from lib.models import HMM, HMMFilter\n",
    "from lib.policies import StaticRoutingPolicy, MinimalDelayRoutingPolicy\n",
    "from lib.policies import StaticMonitoringPolicy, RecedingHorizonPolicy\n",
    "from lib.simulator import Scenario, Simulator"
   ]
  },
  {
   "cell_type": "code",
   "execution_count": 4,
   "metadata": {},
   "outputs": [],
   "source": [
    "# scenarios_dir = Path('../dataset/NLNOG/scenarios_v2/2_paths/')\n",
    "# scenarios_paths = [x for x in scenarios_dir.iterdir() if x.is_dir()]"
   ]
  },
  {
   "cell_type": "code",
   "execution_count": 5,
   "metadata": {},
   "outputs": [],
   "source": [
    "olivier_scenarios = [\n",
    "    '2_paths/Paris_Tokyo'\n",
    "#     '3_paths/Singapore_HongKong',\n",
    "#     '4_paths/Haifa_Santiago',\n",
    "#     '4_paths/Paris_Santiago'\n",
    "]\n",
    "\n",
    "\n",
    "scenarios_dir = Path('../dataset/NLNOG/scenarios_v2/')\n",
    "scenarios_paths = [scenarios_dir.joinpath(x) for x in olivier_scenarios]"
   ]
  },
  {
   "cell_type": "code",
   "execution_count": null,
   "metadata": {},
   "outputs": [],
   "source": []
  },
  {
   "cell_type": "code",
   "execution_count": 6,
   "metadata": {},
   "outputs": [
    {
     "data": {
      "application/vnd.jupyter.widget-view+json": {
       "model_id": "53045942afa347c989c8dc783a52019e",
       "version_major": 2,
       "version_minor": 0
      },
      "text/plain": [
       "HBox(children=(IntProgress(value=0, max=1), HTML(value='')))"
      ]
     },
     "metadata": {},
     "output_type": "display_data"
    },
    {
     "name": "stdout",
     "output_type": "stream",
     "text": [
      "[249.121 249.061 249.072 ... 247.613 247.601 247.675]\n",
      "[array([249.121, 249.061, 249.072, ..., 247.613, 247.601, 247.675]), array([247.214, 246.946, 247.162, ..., 248.791, 250.347, 248.803])]\n"
     ]
    },
    {
     "data": {
      "application/vnd.jupyter.widget-view+json": {
       "model_id": "9da189051b1c4c20ab388b784bb6dca6",
       "version_major": 2,
       "version_minor": 0
      },
      "text/plain": [
       "HBox(children=(IntProgress(value=0, max=3835), HTML(value='')))"
      ]
     },
     "metadata": {},
     "output_type": "display_data"
    },
    {
     "name": "stdout",
     "output_type": "stream",
     "text": [
      "[array([249.121, 249.061, 249.072, ..., 247.613, 247.601, 247.675]), array([247.214, 246.946, 247.162, ..., 248.791, 250.347, 248.803])]\n"
     ]
    },
    {
     "data": {
      "application/vnd.jupyter.widget-view+json": {
       "model_id": "38fc216e67804ce2bfd422c9bb27d12c",
       "version_major": 2,
       "version_minor": 0
      },
      "text/plain": [
       "HBox(children=(IntProgress(value=0, max=3835), HTML(value='')))"
      ]
     },
     "metadata": {},
     "output_type": "display_data"
    },
    {
     "name": "stdout",
     "output_type": "stream",
     "text": [
      "\n"
     ]
    }
   ],
   "source": [
    "benchmarks = {}\n",
    "\n",
    "# Progress bar\n",
    "p = tqdm(scenarios_paths)\n",
    "\n",
    "series_temp={}\n",
    "for scenario_path in p:\n",
    "    if scenario_path!='.ipynb_checkpoints':\n",
    "        scenario = Scenario.from_path(scenario_path)\n",
    "        # en scenario.timeseries tengo las series temporales para cada ruta\n",
    "        series_temp[scenario.name]=scenario.timeseries\n",
    "        print(scenario.timeseries[0])\n",
    "        benchmark = {'logs': {}}\n",
    "\n",
    "        # Constant monitoring cost\n",
    "        costs = np.ones(scenario.n_paths) * 0.5\n",
    "\n",
    "        # (Routing Policy, Monitoring Policy)\n",
    "        policies = []\n",
    "\n",
    "        # IP Path\n",
    "        policies.append((\n",
    "            StaticRoutingPolicy(0),\n",
    "            StaticMonitoringPolicy(np.zeros(scenario.n_paths))\n",
    "        ))\n",
    "\n",
    "        # Receding Horizon\n",
    "        policies.append((\n",
    "            MinimalDelayRoutingPolicy(),\n",
    "            RecedingHorizonPolicy(scenario.models, costs, τ_max=100, ρ=0.99, H=1, one_route=False)\n",
    "        ))\n",
    "\n",
    "        for routing_policy, monitoring_policy in policies:\n",
    "            policy_name = '{} / {}'.format(routing_policy, monitoring_policy)\n",
    "            p.set_description('{} ({})'.format(scenario.name, policy_name))\n",
    "\n",
    "            try:\n",
    "                sim = Simulator(scenario.timeseries, scenario.models, costs)\n",
    "                print(sim.timeseries)\n",
    "                benchmark['logs'][policy_name] = sim.benchmark(monitoring_policy, routing_policy)\n",
    "            except Exception as e:\n",
    "                print('Failed to simulate {}'.format(policy_name))\n",
    "                print(e)\n",
    "\n",
    "        benchmarks[scenario.name] = benchmark\n"
   ]
  },
  {
   "cell_type": "code",
   "execution_count": null,
   "metadata": {},
   "outputs": [],
   "source": []
  },
  {
   "cell_type": "code",
   "execution_count": 11,
   "metadata": {},
   "outputs": [
    {
     "name": "stdout",
     "output_type": "stream",
     "text": [
      "[[249.121 249.061 249.072 ... 247.613 247.601 247.675]\n",
      " [247.214 246.946 247.162 ... 248.791 250.347 248.803]]\n",
      "24830 24830 24830\n",
      "24830\n"
     ]
    }
   ],
   "source": [
    "# tengo las series temporales en scenario.timeseries[ruta]\n",
    "# for scenario, benchmark in benchmarks.items():\n",
    "#     series_temp[scenario.name]=scenario.timeseries\n",
    "\n",
    "################################\n",
    "# armo vector de entrenamiento #\n",
    "################################\n",
    "ent=0.65\n",
    "largo_ent=int(ent*len(scenario.timeseries[0]))\n",
    "largo_test=len(scenario.timeseries[0])-largo_ent\n",
    "\n",
    "T=10\n",
    "\n",
    "# print(largo_test)\n",
    "# print(scenario.timeseries[0])\n",
    "# print (scenario.timeseries)\n",
    "\n",
    "rutas_mod=np.zeros((len(scenario.timeseries), len(scenario.timeseries[0])))\n",
    "for i in range(len(scenario.timeseries)):\n",
    "    rutas_mod[:][i]=scenario.timeseries[i]\n",
    "\n",
    "print(rutas_mod)\n",
    "\n",
    "# serie es la ruta ideal (ruta 0, ruta 1, ruta 2) y serie_mod es el valor del RTT\n",
    "serie=[]\n",
    "serie_mod=[]\n",
    "# serie_ent[i] es la ruta i para entrenamiento\n",
    "#############################\n",
    "# Cambiar esta linea si cambia el numero de rutas\n",
    "# serie_ent=[[],[],[],[]]\n",
    "serie_ent=[[],[]]\n",
    "for i in range(largo_ent-T+1):\n",
    "    for k in range(T):\n",
    "        serie.append(np.argmin(rutas_mod[:,i+k]))\n",
    "        serie_mod.append(min(rutas_mod[:,i+k]))\n",
    "#         serie_1.append(rutas_mod[0][i])\n",
    "#         serie_2.append(rutas_mod[1][i])\n",
    "        for j in range(len(scenario.timeseries)):\n",
    "            serie_ent[j].append(rutas_mod[j][i])\n",
    "\n",
    "print(len(serie_ent[0]), len(serie_ent[1]), len(serie))\n",
    "# print(serie_1)\n",
    "# print(serie)\n",
    "# print(serie_mod)\n",
    "# print(rutas_mod[0])\n",
    "# print(rutas_mod[1])\n",
    "\n",
    "tiempo=list(range(T))*int(largo_ent-T+1)\n",
    "print(len(tiempo))\n",
    "\n"
   ]
  },
  {
   "cell_type": "code",
   "execution_count": 12,
   "metadata": {},
   "outputs": [],
   "source": [
    "# measures = {'tiempo': tiempo, 'ruta 1': serie_ent[0], 'ruta 2': serie_ent[1], 'ruta 3': serie_ent[2], 'ruta 4': serie_ent[3], 'ruteo': serie}#\n",
    "measures = {'tiempo': tiempo, 'ruta 1': serie_ent[0], 'ruta 2': serie_ent[1], 'ruteo': serie}#\n",
    "\n",
    "# df = pd.DataFrame(measures,columns= ['tiempo', 'ruta 1', 'ruta 2', 'ruta 3', 'ruta 4', 'ruteo'])\n",
    "df = pd.DataFrame(measures,columns= ['tiempo', 'ruta 1', 'ruta 2', 'ruteo'])\n",
    "# print (df)"
   ]
  },
  {
   "cell_type": "code",
   "execution_count": 13,
   "metadata": {},
   "outputs": [],
   "source": [
    "# X = df[['tiempo', 'ruta 1', 'ruta 2', 'ruta 3', 'ruta 4']]\n",
    "X = df[['tiempo', 'ruta 1', 'ruta 2']]\n",
    "y = df['ruteo']"
   ]
  },
  {
   "cell_type": "code",
   "execution_count": 14,
   "metadata": {},
   "outputs": [],
   "source": [
    "X_train,X_test,y_train,y_test = train_test_split(X,y,test_size=0.20,random_state=0)"
   ]
  },
  {
   "cell_type": "code",
   "execution_count": 15,
   "metadata": {},
   "outputs": [],
   "source": [
    "clf = RandomForestClassifier(n_estimators=10)\n",
    "clf.fit(X_train,y_train)\n",
    "y_pred=clf.predict(X_test)"
   ]
  },
  {
   "cell_type": "code",
   "execution_count": 16,
   "metadata": {},
   "outputs": [
    {
     "name": "stdout",
     "output_type": "stream",
     "text": [
      "Accuracy:  0.9732178815948449\n"
     ]
    }
   ],
   "source": [
    "print('Accuracy: ',metrics.accuracy_score(y_test, y_pred))"
   ]
  },
  {
   "cell_type": "code",
   "execution_count": 18,
   "metadata": {},
   "outputs": [],
   "source": [
    "# tengo que ver como armar el vector de entrada para realizar las predicciones\n",
    "prediction=[]\n",
    "# print(len(rutas_mod[1]))\n",
    "for i in range(largo_test):\n",
    "    [ruta]=clf.predict([[i%T, rutas_mod[0][largo_ent+(i-i%T)], rutas_mod[1][largo_ent+(i-i%T)]]])\n",
    "#     [ruta]=clf.predict([[i%T, rutas_mod[0][largo_ent+(i-i%T)], rutas_mod[1][largo_ent+(i-i%T)], rutas_mod[2][largo_ent+(i-i%T)], rutas_mod[3][largo_ent+(i-i%T)]]])\n",
    "    # si elijo la ruta 1\n",
    "#     print(ruta)\n",
    "    prediction.append(rutas_mod[ruta][largo_ent+i])\n",
    "\n",
    "costo_medida_T=(largo_test/T)*costs[0]"
   ]
  },
  {
   "cell_type": "code",
   "execution_count": 19,
   "metadata": {},
   "outputs": [],
   "source": [
    "def get_benchmark_df(benchmarks):\n",
    "    records = []\n",
    "\n",
    "    for scenario, benchmark in benchmarks.items():\n",
    "        for policy, log in benchmark['logs'].items():\n",
    "            records.append({\n",
    "                'scenario': scenario,\n",
    "                'policy': policy,\n",
    "                'avg_delay': log.avg_delay(),\n",
    "                'avg_cost': log.avg_cost(),\n",
    "                'avg_processing_time': log.avg_processing_time() / 1e3,\n",
    "                'avg_n_measures': log.avg_n_measures()\n",
    "            })\n",
    "\n",
    "    return pd.DataFrame.from_records(records)"
   ]
  },
  {
   "cell_type": "code",
   "execution_count": 20,
   "metadata": {},
   "outputs": [
    {
     "data": {
      "text/html": [
       "<div>\n",
       "<style scoped>\n",
       "    .dataframe tbody tr th:only-of-type {\n",
       "        vertical-align: middle;\n",
       "    }\n",
       "\n",
       "    .dataframe tbody tr th {\n",
       "        vertical-align: top;\n",
       "    }\n",
       "\n",
       "    .dataframe thead th {\n",
       "        text-align: right;\n",
       "    }\n",
       "</style>\n",
       "<table border=\"1\" class=\"dataframe\">\n",
       "  <thead>\n",
       "    <tr style=\"text-align: right;\">\n",
       "      <th></th>\n",
       "      <th>avg_cost</th>\n",
       "      <th>avg_delay</th>\n",
       "      <th>avg_n_measures</th>\n",
       "      <th>avg_processing_time</th>\n",
       "      <th>policy</th>\n",
       "      <th>scenario</th>\n",
       "    </tr>\n",
       "  </thead>\n",
       "  <tbody>\n",
       "    <tr>\n",
       "      <th>0</th>\n",
       "      <td>0.000000</td>\n",
       "      <td>248.308882</td>\n",
       "      <td>0.000000</td>\n",
       "      <td>2.595188</td>\n",
       "      <td>Static Route 0 / Never Measure</td>\n",
       "      <td>Paris_Tokyo</td>\n",
       "    </tr>\n",
       "    <tr>\n",
       "      <th>1</th>\n",
       "      <td>0.001173</td>\n",
       "      <td>248.084757</td>\n",
       "      <td>0.002347</td>\n",
       "      <td>1223.921603</td>\n",
       "      <td>Minimal Delay / RH(ρ=0.99,H=1)</td>\n",
       "      <td>Paris_Tokyo</td>\n",
       "    </tr>\n",
       "  </tbody>\n",
       "</table>\n",
       "</div>"
      ],
      "text/plain": [
       "   avg_cost   avg_delay  avg_n_measures  avg_processing_time  \\\n",
       "0  0.000000  248.308882        0.000000             2.595188   \n",
       "1  0.001173  248.084757        0.002347          1223.921603   \n",
       "\n",
       "                           policy     scenario  \n",
       "0  Static Route 0 / Never Measure  Paris_Tokyo  \n",
       "1  Minimal Delay / RH(ρ=0.99,H=1)  Paris_Tokyo  "
      ]
     },
     "execution_count": 20,
     "metadata": {},
     "output_type": "execute_result"
    }
   ],
   "source": [
    "get_benchmark_df(benchmarks)"
   ]
  },
  {
   "cell_type": "code",
   "execution_count": null,
   "metadata": {},
   "outputs": [],
   "source": []
  },
  {
   "cell_type": "code",
   "execution_count": 21,
   "metadata": {},
   "outputs": [
    {
     "name": "stdout",
     "output_type": "stream",
     "text": [
      "Static Route 0 / Never Measure\n",
      "<lib.simulator.Logbook object at 0x7ff198393b50>\n",
      "Minimal Delay / RH(ρ=0.99,H=1)\n",
      "<lib.simulator.Logbook object at 0x7ff19839a450>\n"
     ]
    }
   ],
   "source": [
    "# tomo datos para el RH <-- si uso mas de una politica en benchmarks tengo que encarar aca\n",
    "for scenario, benchmark in benchmarks.items():\n",
    "    for policy, log in benchmark['logs'].items():\n",
    "        print(policy)\n",
    "        print(log)\n",
    "        if policy=='Static Route 0 / Never Measure':\n",
    "            pass\n",
    "        else:\n",
    "            delay_RH=log.get('delay')[largo_ent:]\n",
    "            avg_medidas_RH=log.avg_n_measures()"
   ]
  },
  {
   "cell_type": "code",
   "execution_count": 22,
   "metadata": {},
   "outputs": [
    {
     "name": "stdout",
     "output_type": "stream",
     "text": [
      "0.002346805736636245\n"
     ]
    }
   ],
   "source": [
    "print (avg_medidas_RH)"
   ]
  },
  {
   "cell_type": "code",
   "execution_count": 24,
   "metadata": {},
   "outputs": [
    {
     "name": "stdout",
     "output_type": "stream",
     "text": [
      "costo de ruta 1 332703.97299999994\n",
      "costo de ruta 2 334285.4440000005\n",
      "################## Random Forest #########################\n",
      "mediciones  134.3\n",
      "costo de mediciones  67.15\n",
      "costo de ruta elegida  332728.848\n",
      "costo total RF 332795.998\n",
      "################## Receding Horizon #########################\n",
      "mediciones  5.848239895697523\n",
      "costo de mediciones  2.9241199478487614\n",
      "costo de ruta elegida  332703.97299999994\n",
      "costo total RH 332706.89711994777\n"
     ]
    }
   ],
   "source": [
    "print('costo de ruta 1', sum(rutas_mod[0][largo_ent:]))\n",
    "print('costo de ruta 2', sum(rutas_mod[1][largo_ent:]))\n",
    "# print('costo de ruta 3', sum(rutas_mod[2][largo_ent:]))\n",
    "# print('costo de ruta 4', sum(rutas_mod[3][largo_ent:]))\n",
    "# print('costo de ruta ideal ', sum(ruta_ideal))\n",
    "print('################## Random Forest #########################')\n",
    "print('mediciones ', largo_test/T)\n",
    "print('costo de mediciones ', costo_medida_T)\n",
    "print('costo de ruta elegida ', sum(prediction))\n",
    "print('costo total RF', costo_medida_T+sum(prediction))\n",
    "print('################## Receding Horizon #########################')\n",
    "print('mediciones ', largo_ent*avg_medidas_RH)\n",
    "print('costo de mediciones ', costs[0]*largo_ent*avg_medidas_RH)\n",
    "print('costo de ruta elegida ', sum(delay_RH))\n",
    "print('costo total RH', sum(delay_RH)+costs[0]*largo_ent*avg_medidas_RH)\n",
    "\n",
    "# x=np.arange(largo_test)\n",
    "# plt.plot(x, rutas_mod[0][largo_ent:], '-g', x, rutas_mod[1][largo_ent:], '-r', x, rutas_mod[2][largo_ent:], '-b', x, prediction, '*m', x, delay_RH, '+k')\n",
    "# plt.show()\n",
    "# plt.plot(x, rutas_mod[0][largo_ent:], '-g', x, rutas_mod[1][largo_ent:], '-r', x, prediction, '*m', x, delay_RH, '+k')\n",
    "# plt.show()\n",
    "# plt.savefig('Delay'+str(scenario)+'RF.pdf')"
   ]
  },
  {
   "cell_type": "code",
   "execution_count": null,
   "metadata": {},
   "outputs": [],
   "source": []
  },
  {
   "cell_type": "code",
   "execution_count": null,
   "metadata": {},
   "outputs": [],
   "source": []
  },
  {
   "cell_type": "code",
   "execution_count": null,
   "metadata": {},
   "outputs": [],
   "source": []
  },
  {
   "cell_type": "code",
   "execution_count": null,
   "metadata": {},
   "outputs": [],
   "source": []
  },
  {
   "cell_type": "code",
   "execution_count": null,
   "metadata": {},
   "outputs": [],
   "source": []
  },
  {
   "cell_type": "code",
   "execution_count": null,
   "metadata": {},
   "outputs": [],
   "source": []
  },
  {
   "cell_type": "code",
   "execution_count": null,
   "metadata": {},
   "outputs": [],
   "source": []
  },
  {
   "cell_type": "code",
   "execution_count": null,
   "metadata": {},
   "outputs": [],
   "source": []
  },
  {
   "cell_type": "code",
   "execution_count": null,
   "metadata": {},
   "outputs": [],
   "source": []
  },
  {
   "cell_type": "code",
   "execution_count": null,
   "metadata": {},
   "outputs": [],
   "source": []
  },
  {
   "cell_type": "code",
   "execution_count": null,
   "metadata": {},
   "outputs": [],
   "source": [
    "infile = open('DatosH3_NOoneroute.pickle','rb')\n",
    "benchmarks = pickle.load(infile)\n",
    "infile.close()\n",
    "print(benchmarks)"
   ]
  },
  {
   "cell_type": "code",
   "execution_count": null,
   "metadata": {},
   "outputs": [],
   "source": [
    "# ploteo el RH y el RF para el test\n",
    "\n",
    "legend_properties = {'weight':'bold', 'size':'24'}\n",
    "proxies={'Paris_Tokyo': ['IP path', 'via Calgary'], 'Singapore_HongKong': ['IP path', 'via Tokyo', 'via Narita'], 'Haifa_Santiago': ['IP path', 'via Curitiva', 'via Dublin', 'via Boston'], 'Paris_Santiago': ['IP path', 'via Cocoa', 'via Boston', 'via Dublin']}\n",
    "for scenario, benchmark in benchmarks.items():\n",
    "    print(scenario)\n",
    "    print(benchmark)\n",
    "    fig=plt.figure(figsize=(16,16))\n",
    "    ax=fig.add_subplot(1,1,1)\n",
    "    for policy, log in benchmark['logs'].items():\n",
    "#         print(policy)\n",
    "#         print(log)\n",
    "        if policy=='Static Route 0 / Never Measure':\n",
    "            ax.plot(log.get('delay')[largo_ent:], label='IP path')\n",
    "        else:\n",
    "            ax.plot(log.get('delay')[largo_ent:], 'o', label=policy)\n",
    "    for paths in range(1, len(proxies[scenario])):\n",
    "        print(series_temp[scenario][paths])\n",
    "        ax.plot(series_temp[scenario][paths][largo_ent:], label=proxies[scenario][paths])\n",
    "    \n",
    "    ax.plot(prediction, '*', label='Random Forest')\n",
    "    ax.set_xlabel('Time (minutes)', fontsize=24, weight='bold')\n",
    "    ax.set_ylabel('Delay (ms)', fontsize=24, weight='bold')\n",
    "    ax.set_title(str(scenario), fontsize=24, weight='bold')\n",
    "    plt.legend(prop=legend_properties)\n",
    "    plt.savefig('Delay'+str(scenario)+'.pdf')\n",
    "    #     plt.show()\n",
    "\n"
   ]
  },
  {
   "cell_type": "code",
   "execution_count": null,
   "metadata": {},
   "outputs": [],
   "source": []
  },
  {
   "cell_type": "code",
   "execution_count": null,
   "metadata": {},
   "outputs": [],
   "source": [
    "# print(scenario.models)\n",
    "# print(sim.timeseries)\n",
    "legend_properties = {'weight':'bold', 'size':'24'}\n",
    "proxies={'Paris_Tokyo': ['IP path', 'via Calgary'], 'Singapore_HongKong': ['IP path', 'via Tokyo', 'via Narita'], 'Haifa_Santiago': ['IP path', 'via Curitiva', 'via Dublin', 'via Boston'], 'Paris_Santiago': ['IP path', 'via Cocoa', 'via Boston', 'via Dublin']}\n",
    "for scenario, benchmark in benchmarks.items():\n",
    "    print(scenario)\n",
    "    print(benchmark)\n",
    "    fig=plt.figure(figsize=(16,16))\n",
    "    ax=fig.add_subplot(1,1,1)\n",
    "    for policy, log in benchmark['logs'].items():\n",
    "#         print(policy)\n",
    "#         print(log)\n",
    "        if policy=='Static Route 0 / Never Measure':\n",
    "            ax.plot(log.get('delay'), label='IP path')\n",
    "        else:\n",
    "            ax.plot(log.get('delay'), 'o', label=policy)\n",
    "    print(series_temp[scenario][0])\n",
    "    for paths in range(1, len(proxies[scenario])):\n",
    "        print(series_temp[scenario][paths])\n",
    "        ax.plot(series_temp[scenario][paths], label=proxies[scenario][paths])\n",
    "    ax.set_xlabel('Time (minutes)', fontsize=24, weight='bold')\n",
    "    ax.set_ylabel('Delay (ms)', fontsize=24, weight='bold')\n",
    "    ax.set_title(str(scenario), fontsize=24, weight='bold')\n",
    "    plt.legend(prop=legend_properties)\n",
    "    plt.savefig('Delay'+str(scenario)+'.pdf')\n",
    "#     plt.show()"
   ]
  },
  {
   "cell_type": "code",
   "execution_count": null,
   "metadata": {},
   "outputs": [],
   "source": []
  },
  {
   "cell_type": "code",
   "execution_count": null,
   "metadata": {},
   "outputs": [],
   "source": []
  },
  {
   "cell_type": "code",
   "execution_count": null,
   "metadata": {},
   "outputs": [],
   "source": []
  },
  {
   "cell_type": "code",
   "execution_count": null,
   "metadata": {},
   "outputs": [],
   "source": []
  },
  {
   "cell_type": "code",
   "execution_count": null,
   "metadata": {},
   "outputs": [],
   "source": [
    "# print(scenario.models)\n",
    "# print(sim.timeseries)\n",
    "for scenario, benchmark in benchmarks.items():\n",
    "    print(scenario)\n",
    "#     print(benchmark['logs'].items())\n",
    "    for policy, log in benchmark['logs'].items():\n",
    "        gap=0\n",
    "        no_min=0\n",
    "        delay=log.get('delay')\n",
    "        minimo=[]\n",
    "#         minimo=delay\n",
    "#         print(minimo)\n",
    "        for i in range(len(delay)):\n",
    "            menor=False\n",
    "            minimo.append(delay[i])\n",
    "            for j in range(len(series_temp[scenario])):\n",
    "                if delay[i]>series_temp[scenario][j][i]:\n",
    "                    menor=True\n",
    "                    minimo[i]=series_temp[scenario][j][i]\n",
    "            gap+=(delay[i]-minimo[i])/minimo[i]\n",
    "            if menor==True:\n",
    "                no_min+=1\n",
    "        print(policy, 1-no_min*1./len(delay), gap*1./len(delay))"
   ]
  },
  {
   "cell_type": "code",
   "execution_count": null,
   "metadata": {},
   "outputs": [],
   "source": []
  },
  {
   "cell_type": "code",
   "execution_count": null,
   "metadata": {},
   "outputs": [],
   "source": [
    "get_benchmark_df(benchmarks)"
   ]
  },
  {
   "cell_type": "code",
   "execution_count": null,
   "metadata": {},
   "outputs": [],
   "source": []
  },
  {
   "cell_type": "code",
   "execution_count": null,
   "metadata": {},
   "outputs": [],
   "source": []
  },
  {
   "cell_type": "code",
   "execution_count": null,
   "metadata": {},
   "outputs": [],
   "source": [
    "import pickle\n",
    "filename = 'Paris_Tokyo'\n",
    "outfile = open(filename,'wb')\n",
    "pickle.dump(benchmarks,outfile)\n",
    "outfile.close()"
   ]
  },
  {
   "cell_type": "code",
   "execution_count": null,
   "metadata": {},
   "outputs": [],
   "source": []
  },
  {
   "cell_type": "code",
   "execution_count": null,
   "metadata": {},
   "outputs": [],
   "source": []
  },
  {
   "cell_type": "code",
   "execution_count": 12,
   "metadata": {},
   "outputs": [
    {
     "name": "stdout",
     "output_type": "stream",
     "text": [
      "{'Haifa_Santiago': {'logs': {'Static Route 0 / Never Measure': <lib.simulator.Logbook object at 0x7fc53c1a3590>, 'Minimal Delay / RH(ρ=0.99,H=3)': <lib.simulator.Logbook object at 0x7fc535f1aa10>}}}\n"
     ]
    }
   ],
   "source": [
    "infile = open(filename,'rb')\n",
    "new_dict = pickle.load(infile)\n",
    "infile.close()\n",
    "print(new_dict)"
   ]
  },
  {
   "cell_type": "code",
   "execution_count": null,
   "metadata": {},
   "outputs": [],
   "source": []
  },
  {
   "cell_type": "code",
   "execution_count": 60,
   "metadata": {},
   "outputs": [
    {
     "data": {
      "text/plain": [
       "<matplotlib.axes._subplots.AxesSubplot at 0x7f343fe91f10>"
      ]
     },
     "execution_count": 60,
     "metadata": {},
     "output_type": "execute_result"
    },
    {
     "data": {
      "image/png": "[encoded data removed]",
      "text/plain": [
       "<Figure size 1152x576 with 1 Axes>"
      ]
     },
     "metadata": {
      "needs_background": "light"
     },
     "output_type": "display_data"
    }
   ],
   "source": [
    "df = get_benchmark_df(benchmarks)\n",
    "plt.figure(figsize=(16,8))\n",
    "sns.barplot(x='scenario', y='avg_delay', hue='policy', data=df)\n",
    "# plt.savefig('../figures/benchmark_delay_v2.png', bbox_inches='tight', dpi=300)"
   ]
  },
  {
   "cell_type": "code",
   "execution_count": 61,
   "metadata": {},
   "outputs": [
    {
     "data": {
      "text/plain": [
       "<matplotlib.axes._subplots.AxesSubplot at 0x7f34441f7b10>"
      ]
     },
     "execution_count": 61,
     "metadata": {},
     "output_type": "execute_result"
    },
    {
     "data": {
      "image/png": "[encoded data removed]",
      "text/plain": [
       "<Figure size 1152x576 with 1 Axes>"
      ]
     },
     "metadata": {
      "needs_background": "light"
     },
     "output_type": "display_data"
    }
   ],
   "source": [
    "df = get_benchmark_df(benchmarks)\n",
    "plt.figure(figsize=(16,8))\n",
    "sns.barplot(x='scenario', y='avg_n_measures', hue='policy', data=df)\n",
    "# plt.savefig('../figures/benchmark_cost_v2.png', bbox_inches='tight', dpi=300)"
   ]
  },
  {
   "cell_type": "code",
   "execution_count": 62,
   "metadata": {},
   "outputs": [
    {
     "data": {
      "text/plain": [
       "<matplotlib.axes._subplots.AxesSubplot at 0x7f34442104d0>"
      ]
     },
     "execution_count": 62,
     "metadata": {},
     "output_type": "execute_result"
    },
    {
     "data": {
      "image/png": "[encoded data removed]",
      "text/plain": [
       "<Figure size 1152x576 with 1 Axes>"
      ]
     },
     "metadata": {
      "needs_background": "light"
     },
     "output_type": "display_data"
    }
   ],
   "source": [
    "df = get_benchmark_df(benchmarks)\n",
    "plt.figure(figsize=(16,8))\n",
    "sns.barplot(x='scenario', y='avg_cost', hue='policy', data=df)\n",
    "# plt.savefig('../figures/benchmark_cost_v2.png', bbox_inches='tight', dpi=300)"
   ]
  },
  {
   "cell_type": "code",
   "execution_count": 63,
   "metadata": {},
   "outputs": [
    {
     "data": {
      "text/plain": [
       "<matplotlib.axes._subplots.AxesSubplot at 0x7f344410f4d0>"
      ]
     },
     "execution_count": 63,
     "metadata": {},
     "output_type": "execute_result"
    },
    {
     "data": {
      "image/png": "[encoded data removed]",
      "text/plain": [
       "<Figure size 1152x576 with 1 Axes>"
      ]
     },
     "metadata": {
      "needs_background": "light"
     },
     "output_type": "display_data"
    }
   ],
   "source": [
    "df = get_benchmark_df(benchmarks)\n",
    "plt.figure(figsize=(16,8))\n",
    "sns.barplot(x='scenario', y='avg_processing_time', hue='policy', data=df)\n",
    "# plt.savefig('../figures/benchmark_acc_v2.png', bbox_inches='tight', dpi=300)"
   ]
  },
  {
   "cell_type": "code",
   "execution_count": null,
   "metadata": {},
   "outputs": [],
   "source": []
  },
  {
   "cell_type": "code",
   "execution_count": null,
   "metadata": {},
   "outputs": [],
   "source": []
  }
 ],
 "metadata": {
  "kernelspec": {
   "display_name": "Python 3",
   "language": "python",
   "name": "python3"
  },
  "language_info": {
   "codemirror_mode": {
    "name": "ipython",
    "version": 3
   },
   "file_extension": ".py",
   "mimetype": "text/x-python",
   "name": "python",
   "nbconvert_exporter": "python",
   "pygments_lexer": "ipython3",
   "version": "3.7.5"
  }
 },
 "nbformat": 4,
 "nbformat_minor": 4
}
