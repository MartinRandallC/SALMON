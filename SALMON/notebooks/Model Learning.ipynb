{
 "cells": [
  {
   "cell_type": "code",
   "execution_count": null,
   "metadata": {},
   "outputs": [],
   "source": [
    "using Glob\n",
    "using JSON\n",
    "using PyPlot"
   ]
  },
  {
   "cell_type": "code",
   "execution_count": null,
   "metadata": {},
   "outputs": [],
   "source": [
    "include(\"../lib/julia/models.jl\");\n",
    "include(\"../lib/julia/plots.jl\");"
   ]
  },
  {
   "cell_type": "markdown",
   "metadata": {},
   "source": [
    "### NLNOG dataset "
   ]
  },
  {
   "cell_type": "code",
   "execution_count": null,
   "metadata": {
    "collapsed": true,
    "jupyter": {
     "outputs_hidden": true
    }
   },
   "outputs": [],
   "source": [
    "for file in glob(\"*.csv\", \"../dataset/NLNOG/pairs/\")\n",
    "    try\n",
    "        timestamps, observations = read_msm_csv(file)\n",
    "        seq, model = fit_model(observations)\n",
    "\n",
    "        hmm = to_hmm(observations, seq, model, refit_states=true);\n",
    "        hmm_dict = to_dict(hmm)\n",
    "        \n",
    "        fname = splitext(basename(file))[1]\n",
    "        write(\"$(dirname(file))/../models/$(fname).json\", json(hmm_dict))\n",
    "    catch e\n",
    "        (e isa InterruptException) && throw(e)\n",
    "        println(file, \" \", e)\n",
    "    end\n",
    "end"
   ]
  },
  {
   "cell_type": "markdown",
   "metadata": {},
   "source": [
    "### NLNOG scenarios"
   ]
  },
  {
   "cell_type": "code",
   "execution_count": null,
   "metadata": {},
   "outputs": [],
   "source": [
    "for file in glob(\"**/*.csv\", \"../dataset/NLNOG/scenarios/\")\n",
    "    try\n",
    "        timestamps, observations = read_msm_csv(file)\n",
    "        seq, model = fit_model(observations)\n",
    "\n",
    "        hmm = to_hmm(observations, seq, model, refit_states=true);\n",
    "        hmm_dict = to_dict(hmm)\n",
    "        \n",
    "        fname = splitext(basename(file))[1]\n",
    "        write(\"$(dirname(file))/$(fname).json\", json(hmm_dict))\n",
    "    catch e\n",
    "        (e isa InterruptException) && throw(e)\n",
    "        println(file, \" \", e)\n",
    "    end\n",
    "end"
   ]
  },
  {
   "cell_type": "markdown",
   "metadata": {},
   "source": [
    "### NLNOG scenarios v2"
   ]
  },
  {
   "cell_type": "code",
   "execution_count": null,
   "metadata": {},
   "outputs": [],
   "source": [
    "for file in glob(\"**/**/*.csv\", \"../dataset/NLNOG/scenarios_v2/\")\n",
    "    try\n",
    "        timestamps, observations = read_msm_csv(file)\n",
    "        seq, model = fit_model(observations)\n",
    "\n",
    "        hmm = to_hmm(observations, seq, model, refit_states=true);\n",
    "        hmm_dict = to_dict(hmm)\n",
    "        \n",
    "        fname = splitext(basename(file))[1]\n",
    "        write(\"$(dirname(file))/$(fname).json\", json(hmm_dict))\n",
    "    catch e\n",
    "        (e isa InterruptException) && throw(e)\n",
    "        println(file, \" \", e)\n",
    "    end\n",
    "end"
   ]
  },
  {
   "cell_type": "code",
   "execution_count": null,
   "metadata": {},
   "outputs": [],
   "source": []
  }
 ],
 "metadata": {
  "kernelspec": {
   "display_name": "Python 3",
   "language": "python",
   "name": "python3"
  },
  "language_info": {
   "codemirror_mode": {
    "name": "ipython",
    "version": 3
   },
   "file_extension": ".py",
   "mimetype": "text/x-python",
   "name": "python",
   "nbconvert_exporter": "python",
   "pygments_lexer": "ipython3",
   "version": "3.7.4"
  }
 },
 "nbformat": 4,
 "nbformat_minor": 4
}
