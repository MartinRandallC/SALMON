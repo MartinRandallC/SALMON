{
 "cells": [
  {
   "cell_type": "code",
   "execution_count": 1,
   "metadata": {},
   "outputs": [],
   "source": [
    "%matplotlib inline\n",
    "\n",
    "import json\n",
    "import numpy as np\n",
    "import pandas as pd\n",
    "import matplotlib.pyplot as plt\n",
    "\n",
    "from collections import defaultdict\n",
    "from pathlib import Path\n",
    "from tqdm.auto import tqdm"
   ]
  },
  {
   "cell_type": "code",
   "execution_count": 2,
   "metadata": {},
   "outputs": [],
   "source": [
    "import sys; sys.path.append('..')\n",
    "from lib.datasets import NLNOGDataset\n",
    "from lib.models import HMM"
   ]
  },
  {
   "cell_type": "code",
   "execution_count": 3,
   "metadata": {},
   "outputs": [],
   "source": [
    "dataset = NLNOGDataset.from_file('../dataset/NLNOG/nlnog_topology.txt', '../dataset/NLNOG/rtt_matrix.log')"
   ]
  },
  {
   "cell_type": "markdown",
   "metadata": {},
   "source": [
    "### Find scenarios"
   ]
  },
  {
   "cell_type": "code",
   "execution_count": 6,
   "metadata": {},
   "outputs": [
    {
     "data": {
      "application/vnd.jupyter.widget-view+json": {
       "model_id": "f4975932254c468493b6ffd30e4b6d09",
       "version_major": 2,
       "version_minor": 0
      },
      "text/plain": [
       "HBox(children=(IntProgress(value=1, bar_style='info', max=1), HTML(value='')))"
      ]
     },
     "metadata": {},
     "output_type": "display_data"
    },
    {
     "name": "stderr",
     "output_type": "stream",
     "text": [
      "/home/martin/.local/share/virtualenvs/INFOCOM2020-master-aTTZR-tG/lib/python3.7/site-packages/ipykernel_launcher.py:14: RuntimeWarning: invalid value encountered in less\n",
      "  \n"
     ]
    },
    {
     "name": "stdout",
     "output_type": "stream",
     "text": [
      "\n"
     ]
    }
   ],
   "source": [
    "scenarios = []\n",
    "\n",
    "for pair in tqdm(dataset.pairs):\n",
    "    direct_rtt = dataset.get_rtt(*pair)\n",
    "    proxies = []\n",
    "\n",
    "    # Find *interesting* proxy nodes\n",
    "    for node in dataset.nodes:\n",
    "        if node in pair:\n",
    "            continue\n",
    "\n",
    "        # Compute percentage of time the alternative path is shorter\n",
    "        alt_rtt = dataset.get_rtt(pair[0], node) + dataset.get_rtt(node, pair[1])\n",
    "        ratio = np.mean(alt_rtt < direct_rtt)\n",
    "\n",
    "        if ratio > 0.1:\n",
    "            proxies.append((node, ratio))\n",
    "               \n",
    "    scenarios.append({\n",
    "        'origin': pair[0],\n",
    "        'destination': pair[1],\n",
    "        'proxies': proxies\n",
    "    })"
   ]
  },
  {
   "cell_type": "code",
   "execution_count": 5,
   "metadata": {},
   "outputs": [
    {
     "name": "stdout",
     "output_type": "stream",
     "text": [
      "Scenarios with 0 alternative path(s): 165\n",
      "Scenarios with 1 alternative path(s): 72\n",
      "Scenarios with 2 alternative path(s): 27\n",
      "Scenarios with 3 alternative path(s): 20\n",
      "Scenarios with 4 alternative path(s): 23\n",
      "Scenarios with 5 alternative path(s): 10\n",
      "Scenarios with 6 alternative path(s): 6\n",
      "Scenarios with 7 alternative path(s): 9\n",
      "Scenarios with 8 alternative path(s): 7\n",
      "Scenarios with 9 alternative path(s): 1\n",
      "Scenarios with 10 alternative path(s): 2\n"
     ]
    }
   ],
   "source": [
    "n_proxies = [len(x['proxies']) for x in scenarios]\n",
    "for i, count in enumerate(np.bincount(n_proxies)):\n",
    "    print('Scenarios with {} alternative path(s): {}'.format(i, count))"
   ]
  },
  {
   "cell_type": "markdown",
   "metadata": {},
   "source": [
    "### Save scenarios"
   ]
  },
  {
   "cell_type": "code",
   "execution_count": null,
   "metadata": {},
   "outputs": [],
   "source": [
    "scenarios_dir = Path('../dataset/NLNOG/scenarios_v2')"
   ]
  },
  {
   "cell_type": "code",
   "execution_count": null,
   "metadata": {},
   "outputs": [],
   "source": [
    "def get_scenario_dir(scenario):\n",
    "    return scenarios_dir \\\n",
    "        .joinpath('{}_paths'.format(len(scenario['proxies'])+1)) \\\n",
    "        .joinpath('{}_{}'.format(scenario['origin'], scenario['destination']))"
   ]
  },
  {
   "cell_type": "code",
   "execution_count": null,
   "metadata": {},
   "outputs": [],
   "source": [
    "for scenario in tqdm(scenarios):\n",
    "    origin = scenario['origin']\n",
    "    destination = scenario['destination']\n",
    "    n_proxies = len(scenario['proxies'])\n",
    "\n",
    "    # Filter on the number of proxies\n",
    "    if n_proxies < 1:\n",
    "        continue\n",
    "\n",
    "    # Create the fs structure\n",
    "    scenario_dir = get_scenario_dir(scenario)\n",
    "    scenario_dir.mkdir(parents=True, exist_ok=True)\n",
    "    \n",
    "    # Save RTTs\n",
    "    direct_rtt = dataset.get_rtt(origin, destination)\n",
    "    direct_file = scenario_dir.joinpath('{}_{}'.format(origin, destination)).with_suffix('.csv')\n",
    "    pd.DataFrame(direct_rtt).to_csv(direct_file, header=False)\n",
    "    \n",
    "    for proxy, _ in scenario['proxies']:\n",
    "        alt_rtt = dataset.get_rtt(origin, proxy) + dataset.get_rtt(proxy, destination)\n",
    "        alt_file = scenario_dir.joinpath('{}_{}_{}'.format(origin, proxy, destination)).with_suffix('.csv')\n",
    "        pd.DataFrame(alt_rtt).to_csv(alt_file, header=False)"
   ]
  },
  {
   "cell_type": "markdown",
   "metadata": {},
   "source": [
    "### Plot scenarios"
   ]
  },
  {
   "cell_type": "code",
   "execution_count": null,
   "metadata": {},
   "outputs": [],
   "source": [
    "for scenario in tqdm(scenarios):\n",
    "    origin = scenario['origin']\n",
    "    destination = scenario['destination']\n",
    "    n_proxies = len(scenario['proxies'])\n",
    "\n",
    "    # Filter on the number of proxies\n",
    "    if n_proxies < 1:\n",
    "        continue\n",
    "    \n",
    "    plt.figure(figsize=(16,4))\n",
    "    \n",
    "    direct_rtt = dataset.get_rtt(origin, destination)\n",
    "    plt.plot(direct_rtt, label='Direct', lw=1.0)\n",
    "    \n",
    "    for proxy, _ in scenario['proxies']:\n",
    "        alt_rtt = dataset.get_rtt(origin, proxy) + dataset.get_rtt(proxy, destination)\n",
    "        plt.plot(alt_rtt, label='via {}'.format(proxy), lw=1.0)\n",
    "    \n",
    "    plt.xlim(0, len(direct_rtt))\n",
    "    plt.ylabel('RTT (ms)')\n",
    "    plt.legend(loc='upper right')\n",
    "    plt.title('{} ↔ {}'.format(origin, destination))\n",
    "    \n",
    "    scenario_dir = get_scenario_dir(scenario)\n",
    "    scenario_name = '{}_{}'.format(origin, destination)\n",
    "    plot_file = scenario_dir.joinpath(scenario_name).with_suffix('.png')\n",
    "\n",
    "    plt.savefig(plot_file, bbox_inches='tight', dpi=200)\n",
    "    plt.close()"
   ]
  },
  {
   "cell_type": "markdown",
   "metadata": {},
   "source": [
    "### Plot all scenarios"
   ]
  },
  {
   "cell_type": "code",
   "execution_count": null,
   "metadata": {},
   "outputs": [],
   "source": [
    "scenarios_by_size = defaultdict(list)\n",
    "for scenario in scenarios:\n",
    "    n_proxies = len(scenario['proxies'])\n",
    "    scenarios_by_size[n_proxies].append(scenario)"
   ]
  },
  {
   "cell_type": "code",
   "execution_count": null,
   "metadata": {},
   "outputs": [],
   "source": [
    "for size, scenarios in scenarios_by_size.items():\n",
    "    n_scenarios = len(scenarios)\n",
    "    fig, axes = plt.subplots(nrows=n_scenarios, figsize=(16, n_scenarios*3), gridspec_kw={'hspace': 0.35})\n",
    "    \n",
    "    for (ax, scenario) in tqdm(zip(axes, scenarios)):\n",
    "        origin = scenario['origin']\n",
    "        destination = scenario['destination']\n",
    "\n",
    "        direct_rtt = dataset.get_rtt(origin, destination)\n",
    "        ax.plot(direct_rtt, label='Direct', lw=1.0)\n",
    "\n",
    "        for proxy, _ in scenario['proxies']:\n",
    "            alt_rtt = dataset.get_rtt(origin, proxy) + dataset.get_rtt(proxy, destination)\n",
    "            ax.plot(alt_rtt, label='via {}'.format(proxy), lw=1.0)\n",
    "\n",
    "        ax.set_xlim(0, len(direct_rtt))\n",
    "        ax.set_ylabel('RTT (ms)')\n",
    "        ax.legend(loc='upper right')\n",
    "        ax.set_title('{} ↔ {}'.format(origin, destination))\n",
    "    \n",
    "    plt.savefig('../figures/{}_paths.pdf'.format(size+1), bbox_inches='tight', dpi=200)\n",
    "    plt.close()"
   ]
  },
  {
   "cell_type": "code",
   "execution_count": null,
   "metadata": {},
   "outputs": [],
   "source": []
  },
  {
   "cell_type": "markdown",
   "metadata": {},
   "source": [
    "# OLD"
   ]
  },
  {
   "cell_type": "code",
   "execution_count": null,
   "metadata": {},
   "outputs": [],
   "source": [
    "def plot_scenario(scenario, direct_rtt, proxy_rtt):\n",
    "    origin, destination, proxy = scenario\n",
    "    plt.figure(figsize=(16, 4))\n",
    "    plt.plot(direct_rtt, label='Direct')\n",
    "    plt.plot(proxy_rtt, label='via {}'.format(proxy))\n",
    "    plt.ylabel('RTT (ms)')\n",
    "    plt.xlim(0, len(direct_rtt))\n",
    "    plt.legend(loc='upper right')\n",
    "    plt.title('{} ↔ {}'.format(origin, destination))"
   ]
  },
  {
   "cell_type": "code",
   "execution_count": null,
   "metadata": {},
   "outputs": [],
   "source": [
    "dataset = NLNOGDataset.from_file('../dataset/NLNOG/nlnog_topology.txt', '../dataset/NLNOG/rtt_matrix.log')"
   ]
  },
  {
   "cell_type": "code",
   "execution_count": null,
   "metadata": {},
   "outputs": [],
   "source": [
    "scenarios = [\n",
    "    # origin, destination, proxy\n",
    "    ('Narita', 'Boston', 'San_Francisco'),\n",
    "    ('Oslo', 'Singapore', 'Warsaw'),\n",
    "    ('Warsaw', 'HongKong', 'Singapore'),\n",
    "    ('HongKong', 'Calgary', 'Singapore'),\n",
    "    ('Boston', 'Singapore', 'Calgary'),\n",
    "    ('Singapore', 'Haifa', 'Warsaw')\n",
    "]"
   ]
  },
  {
   "cell_type": "code",
   "execution_count": null,
   "metadata": {},
   "outputs": [],
   "source": [
    "scenarios_dir = Path('../dataset/NLNOG/scenarios/')"
   ]
  },
  {
   "cell_type": "code",
   "execution_count": null,
   "metadata": {
    "collapsed": true,
    "jupyter": {
     "outputs_hidden": true
    }
   },
   "outputs": [],
   "source": [
    "for scenario in scenarios:\n",
    "    origin, destination, proxy = scenario\n",
    "    direct_rtt = dataset.get_rtt(origin, destination)\n",
    "    proxy_rtt = dataset.get_rtt(origin, proxy) + dataset.get_rtt(proxy, destination)\n",
    "    plot_scenario(scenario, direct_rtt, proxy_rtt)"
   ]
  },
  {
   "cell_type": "code",
   "execution_count": null,
   "metadata": {},
   "outputs": [],
   "source": [
    "for scenario in scenarios:\n",
    "    origin, destination, proxy = scenario\n",
    "    direct_rtt = dataset.get_rtt(origin, destination)\n",
    "    proxy_rtt = dataset.get_rtt(origin, proxy) + dataset.get_rtt(proxy, destination)\n",
    "    \n",
    "    direct_file = scenario_dir.joinpath('{}_{}'.format(origin, destination)).with_suffix('.csv')\n",
    "    pd.DataFrame(direct_rtt).to_csv(direct_file, header=False)\n",
    "    \n",
    "    proxy_file = scenario_dir.joinpath('{}_{}_{}'.format(origin, proxy, destination)).with_suffix('.csv')\n",
    "    pd.DataFrame(proxy_rtt).to_csv(proxy_file, header=False)"
   ]
  },
  {
   "cell_type": "code",
   "execution_count": null,
   "metadata": {},
   "outputs": [],
   "source": [
    "# Plot with sample trajectories\n",
    "for scenario in scenarios:\n",
    "    origin, destination, proxy = scenario\n",
    "    direct_rtt = dataset.get_rtt(origin, destination)\n",
    "    proxy_rtt = dataset.get_rtt(origin, proxy) + dataset.get_rtt(proxy, destination)\n",
    "    \n",
    "    scenario_name = '{}_{}_via_{}'.format(*scenario)\n",
    "    scenario_dir = scenarios_dir.joinpath(scenario_name)\n",
    "    \n",
    "    fig, axes = plt.subplots(nrows=3, figsize=(16, 3*4))\n",
    "    \n",
    "    axes[0].plot(direct_rtt, label='Direct')\n",
    "    axes[0].plot(proxy_rtt, label='via {}'.format(proxy))\n",
    "    axes[0].set_title('{} ↔ {}'.format(origin, destination))\n",
    "\n",
    "    direct_model_file = scenario_dir.joinpath('{}_{}'.format(origin, destination)).with_suffix('.json')\n",
    "    with open(direct_model_file) as f:\n",
    "        direct_model = HMM.from_dict(json.load(f))\n",
    "        \n",
    "    proxy_model_file = scenario_dir.joinpath('{}_{}_{}'.format(origin, proxy, destination)).with_suffix('.json')\n",
    "    with open(proxy_model_file) as f:\n",
    "        proxy_model = HMM.from_dict(json.load(f))\n",
    "\n",
    "    _, direct_obs = direct_model.sample(len(direct_rtt))\n",
    "    _, proxy_obs = proxy_model.sample(len(proxy_rtt))\n",
    "\n",
    "    axes[1].plot(direct_obs, label='Direct')\n",
    "    axes[1].plot(proxy_obs, label='via {}'.format(proxy))\n",
    "    axes[1].set_title('HMM models - Sample trajectory #1')\n",
    "    \n",
    "    _, direct_obs = direct_model.sample(len(direct_rtt))\n",
    "    _, proxy_obs = proxy_model.sample(len(proxy_rtt))\n",
    "    \n",
    "    axes[2].plot(direct_obs, label='Direct')\n",
    "    axes[2].plot(proxy_obs, label='via {}'.format(proxy))\n",
    "    axes[2].set_title('HMM models - Sample trajectory #2')\n",
    "\n",
    "    for ax in axes:\n",
    "        ax.set_xlim(0, len(direct_rtt))\n",
    "        ax.set_ylabel('RTT (ms)')\n",
    "        ax.legend(loc='upper right')\n",
    "    \n",
    "    plot_file = scenario_dir.joinpath(scenario_name).with_suffix('.png')\n",
    "    plt.savefig(plot_file, bbox_inches='tight', dpi=200)"
   ]
  },
  {
   "cell_type": "code",
   "execution_count": null,
   "metadata": {},
   "outputs": [],
   "source": []
  },
  {
   "cell_type": "code",
   "execution_count": null,
   "metadata": {},
   "outputs": [],
   "source": []
  }
 ],
 "metadata": {
  "kernelspec": {
   "display_name": "Python 3",
   "language": "python",
   "name": "python3"
  },
  "language_info": {
   "codemirror_mode": {
    "name": "ipython",
    "version": 3
   },
   "file_extension": ".py",
   "mimetype": "text/x-python",
   "name": "python",
   "nbconvert_exporter": "python",
   "pygments_lexer": "ipython3",
   "version": "3.7.4"
  }
 },
 "nbformat": 4,
 "nbformat_minor": 4
}
