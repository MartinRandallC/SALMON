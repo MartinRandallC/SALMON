{
 "cells": [
  {
   "cell_type": "code",
   "execution_count": 1,
   "metadata": {},
   "outputs": [],
   "source": [
    "%matplotlib inline\n",
    "\n",
    "import numpy as np\n",
    "import pandas as pd\n",
    "import seaborn as sns\n",
    "import matplotlib.pyplot as plt\n",
    "from matplotlib.font_manager import FontProperties\n",
    "from matplotlib.backends.backend_pdf import PdfPages\n",
    "from math import *\n",
    "import pickle\n",
    "\n",
    "from pathlib import Path\n",
    "from tqdm.auto import tqdm\n",
    "\n",
    "# coding: utf-8\n",
    "import time\n",
    "# import cProfile\n",
    "# from mpl_toolkits.mplot3d import Axes3D\n",
    "import random\n",
    "from sklearn.model_selection import train_test_split\n",
    "from sklearn.ensemble import RandomForestClassifier\n",
    "from sklearn import metrics\n",
    "\n",
    "# from FuncionesAuxFinal import *"
   ]
  },
  {
   "cell_type": "code",
   "execution_count": null,
   "metadata": {},
   "outputs": [],
   "source": [
    "import sys\n",
    "sys.path.append('..')"
   ]
  },
  {
   "cell_type": "code",
   "execution_count": null,
   "metadata": {},
   "outputs": [],
   "source": [
    "from lib.models import HMM, HMMFilter\n",
    "from lib.policies import StaticRoutingPolicy, MinimalDelayRoutingPolicy\n",
    "from lib.policies import StaticMonitoringPolicy, RecedingHorizonPolicy\n",
    "from lib.simulator import Scenario, Simulator, DiscreteFilter, Logbook"
   ]
  },
  {
   "cell_type": "code",
   "execution_count": 66,
   "metadata": {},
   "outputs": [],
   "source": [
    "# scenarios_dir = Path('../dataset/NLNOG/scenarios_v2/2_paths/')\n",
    "# scenarios_paths = [x for x in scenarios_dir.iterdir() if x.is_dir()]"
   ]
  },
  {
   "cell_type": "code",
   "execution_count": 67,
   "metadata": {},
   "outputs": [],
   "source": [
    "olivier_scenarios = [\n",
    "   '2_paths/Paris_Tokyo'\n",
    "#     '3_paths/Singapore_HongKong',\n",
    "#      '4_paths/Haifa_Santiago',\n",
    "#     '4_paths/Paris_Santiago'\n",
    "]\n",
    "\n",
    "\n",
    "scenarios_dir = Path('../dataset/NLNOG/scenarios_v2/')\n",
    "scenarios_paths = [scenarios_dir.joinpath(x) for x in olivier_scenarios]"
   ]
  },
  {
   "cell_type": "code",
   "execution_count": null,
   "metadata": {},
   "outputs": [],
   "source": []
  },
  {
   "cell_type": "code",
   "execution_count": 69,
   "metadata": {},
   "outputs": [
    {
     "data": {
      "application/vnd.jupyter.widget-view+json": {
       "model_id": "0186ebcbb7df48c989f1f1f0079e62e8",
       "version_major": 2,
       "version_minor": 0
      },
      "text/plain": [
       "HBox(children=(IntProgress(value=0, max=1), HTML(value='')))"
      ]
     },
     "metadata": {},
     "output_type": "display_data"
    },
    {
     "name": "stdout",
     "output_type": "stream",
     "text": [
      "[249.121 249.061 249.072 ... 247.613 247.601 247.675]\n",
      "[array([249.121, 249.061, 249.072, ..., 247.613, 247.601, 247.675]), array([247.214, 246.946, 247.162, ..., 248.791, 250.347, 248.803])]\n"
     ]
    },
    {
     "data": {
      "application/vnd.jupyter.widget-view+json": {
       "model_id": "",
       "version_major": 2,
       "version_minor": 0
      },
      "text/plain": [
       "HBox(children=(IntProgress(value=0, max=3835), HTML(value='')))"
      ]
     },
     "metadata": {},
     "output_type": "display_data"
    },
    {
     "name": "stdout",
     "output_type": "stream",
     "text": [
      "[array([249.121, 249.061, 249.072, ..., 247.613, 247.601, 247.675]), array([247.214, 246.946, 247.162, ..., 248.791, 250.347, 248.803])]\n"
     ]
    },
    {
     "data": {
      "application/vnd.jupyter.widget-view+json": {
       "model_id": "",
       "version_major": 2,
       "version_minor": 0
      },
      "text/plain": [
       "HBox(children=(IntProgress(value=0, max=3835), HTML(value='')))"
      ]
     },
     "metadata": {},
     "output_type": "display_data"
    },
    {
     "name": "stdout",
     "output_type": "stream",
     "text": [
      "\n"
     ]
    }
   ],
   "source": [
    "benchmarks = {}\n",
    "\n",
    "# Progress bar\n",
    "p = tqdm(scenarios_paths)\n",
    "\n",
    "series_temp={}\n",
    "for scenario_path in p:\n",
    "    if scenario_path!='.ipynb_checkpoints':\n",
    "        scenario = Scenario.from_path(scenario_path)\n",
    "        # en scenario.timeseries tengo las series temporales para cada ruta\n",
    "        series_temp[scenario.name]=scenario.timeseries\n",
    "        print(scenario.timeseries[0])\n",
    "        benchmark = {'logs': {}}\n",
    "\n",
    "        # Constant monitoring cost\n",
    "        costs = np.ones(scenario.n_paths) * 0.5\n",
    "\n",
    "        # (Routing Policy, Monitoring Policy)\n",
    "        policies = []\n",
    "\n",
    "        # IP Path\n",
    "        policies.append((\n",
    "            StaticRoutingPolicy(0),\n",
    "            StaticMonitoringPolicy(np.zeros(scenario.n_paths))\n",
    "        ))\n",
    "\n",
    "        # Receding Horizon\n",
    "        policies.append((\n",
    "            MinimalDelayRoutingPolicy(),\n",
    "            RecedingHorizonPolicy(scenario.models, costs, τ_max=100, ρ=0.9, H=4, one_route=False)\n",
    "        ))\n",
    "        \n",
    "        for routing_policy, monitoring_policy in policies:\n",
    "            policy_name = '{} / {}'.format(routing_policy, monitoring_policy)\n",
    "            p.set_description('{} ({})'.format(scenario.name, policy_name))\n",
    "\n",
    "            try:\n",
    "                sim = Simulator(scenario.timeseries, scenario.models, costs)\n",
    "                print(sim.timeseries)\n",
    "                benchmark['logs'][policy_name] = sim.benchmark(monitoring_policy, routing_policy)\n",
    "            except Exception as e:\n",
    "                print('Failed to simulate {}'.format(policy_name))\n",
    "                print(e)\n",
    "\n",
    "        benchmarks[scenario.name] = benchmark\n"
   ]
  },
  {
   "cell_type": "code",
   "execution_count": 70,
   "metadata": {},
   "outputs": [
    {
     "name": "stdout",
     "output_type": "stream",
     "text": [
      "Paris_Tokyo scenario with 2 paths\n",
      "- K = [1, 6]\n",
      "- Avg. delays = [248.31, 248.55]\n"
     ]
    },
    {
     "data": {
      "application/vnd.jupyter.widget-view+json": {
       "model_id": "",
       "version_major": 2,
       "version_minor": 0
      },
      "text/plain": [
       "HBox(children=(IntProgress(value=0, max=3835), HTML(value='')))"
      ]
     },
     "metadata": {},
     "output_type": "display_data"
    },
    {
     "name": "stdout",
     "output_type": "stream",
     "text": [
      "\r"
     ]
    }
   ],
   "source": [
    "# tomo datos para el RH <-- si uso mas de una politica en benchmarks tengo que encarar aca\n",
    "# for scenario, benchmark in benchmarks.items():\n",
    "#     for policy, log in benchmark['logs'].items():\n",
    "#         print(policy)\n",
    "#         print(log)\n",
    "#         if policy=='Static Route 0 / Never Measure':\n",
    "#             pass\n",
    "#         else:\n",
    "#             rutas=log.get('state')[:]\n",
    "# print (rutas)\n",
    "\n",
    "###################################\n",
    "\n",
    "for scenario_path in p:\n",
    "    if scenario_path!='.ipynb_checkpoints':\n",
    "        scenario = Scenario.from_path(scenario_path)\n",
    "\n",
    "print(scenario)\n",
    "T = len(scenario.timeseries[0])\n",
    "\n",
    "# Filters\n",
    "# TODO: Start in stationnary dist. (τ_init = τ_max) ?\n",
    "\n",
    "routing_policy=MinimalDelayRoutingPolicy()\n",
    "monitoring_policy=RecedingHorizonPolicy(scenario.models, np.array([0, 0]), τ_max=100, ρ=0.9, H=1, one_route=False)\n",
    "\n",
    "# print(benchmark['logs']['{} / {}'.format(routing_policy, monitoring_policy)])\n",
    "\n",
    "hmm_filters = [HMMFilter(model) for model in scenario.models]\n",
    "mdp_filters = [DiscreteFilter(model, τ_init=0) for model in scenario.models]\n",
    "\n",
    "rutas=[[],[], [], []]\n",
    "# rutas=[]\n",
    "\n",
    "for t in tqdm(range(T), leave=False):\n",
    "#     print(mdp_filters[0].z, mdp_filters[0].τ, mdp_filters[1].z, mdp_filters[1].τ)\n",
    "    start_time = time.process_time_ns()\n",
    "#     action = monitoring_policy.action(mdp_filters)\n",
    "    action = [1, 1]\n",
    "    processing_time = time.process_time_ns() - start_time\n",
    "#     print(action)\n",
    "    for i, a in enumerate(action):\n",
    "        if a:\n",
    "            hmm_filters[i].update(scenario.timeseries[i][t])\n",
    "            mdp_filters[i].update(np.argmax(hmm_filters[i].belief))\n",
    "        else:\n",
    "#             hmm_filters[i].predict()\n",
    "#             mdp_filters[i].predict()\n",
    "            hmm_filters[i].update(scenario.timeseries[i][t])\n",
    "            mdp_filters[i].update(np.argmax(hmm_filters[i].belief))\n",
    "    rutas[0].append(mdp_filters[0].z)\n",
    "    rutas[1].append(mdp_filters[1].z)\n",
    "#     rutas[2].append(mdp_filters[2].z)\n",
    "#     rutas[3].append(mdp_filters[3].z)\n",
    "\n",
    "# print(rutas)\n"
   ]
  },
  {
   "cell_type": "code",
   "execution_count": 71,
   "metadata": {},
   "outputs": [],
   "source": [
    "def Value_Func(estados, RTT, ro, cost_measure, max_slots):\n",
    "    # RTT es el vector de valores que va tomando el camino elegido en cada time_slot\n",
    "    # ro factor de descuento\n",
    "    # cost_measure vector de costo de medida en cada time_slot\n",
    "    # max_slots es que tanto considero el futuro\n",
    "    # en V guardo el promedio de la value function del estado que supero N visitas, y cuantas veces pase por ese estado\n",
    "    V={}\n",
    "    val=np.zeros(len(RTT)-max_slots)\n",
    "    vector_ro=(np.ones(max_slots)*ro)**np.arange(max_slots)\n",
    "    RTT=np.array(RTT)\n",
    "    cost_measure=np.array(cost_measure)\n",
    "    # print(max_slots)\n",
    "    # print(vector_ro)\n",
    "    # print(RTT)\n",
    "    # print(cost_measure)\n",
    "    for i in range(len(RTT)-max_slots):\n",
    "        # print(i)\n",
    "        val[i]=sum((RTT[i:i+max_slots]+cost_measure[i:i+max_slots])*vector_ro.T)\n",
    "        # print(val[i])\n",
    "        if estados[i] in V:\n",
    "            V[estados[i]]=[(val[i]+V[estados[i]][0]*V[estados[i]][1])/(V[estados[i]][1]+1), V[estados[i]][1]+1]\n",
    "            # print(V[estados[i]])\n",
    "        # print(RTT[i:i+max_slots]+cost_measure[i:i+max_slots])\n",
    "        else:\n",
    "            V[estados[i]]=[val[i], 1]\n",
    "    return V\n"
   ]
  },
  {
   "cell_type": "code",
   "execution_count": null,
   "metadata": {},
   "outputs": [],
   "source": [
    "# vector_t=[2, 3, 4, 5]#, 6, 7, 8, 9, 10, 12, 15, 20, 25, 30, 40, 50, 60, 70, 80, 90, 100]\n",
    "vector_t=[2, 3, 4, 5, 6, 7, 8, 9, 10, 12, 15, 17, 20]#, 22, 25, 27, 30]#, 40, 50, 60, 70, 80, 90, 100]\n",
    "\n",
    "# tengo las series temporales en scenario.timeseries[ruta]\n",
    "# for scenario, benchmark in benchmarks.items():\n",
    "#     series_temp[scenario.name]=scenario.timeseries\n",
    "ro=0.9\n",
    "################################\n",
    "# armo vector de entrenamiento #\n",
    "################################\n",
    "ent=0.40\n",
    "val=0.10\n",
    "ent2=0.0\n",
    "largo_ent=int(ent*len(scenario.timeseries[0]))\n",
    "largo_val=int(val*len(scenario.timeseries[0]))\n",
    "largo_ent2=int(ent2*len(scenario.timeseries[0]))\n",
    "largo_test=len(scenario.timeseries[0])-largo_ent-largo_val-largo_ent2\n",
    "# largo de la muestra total \n",
    "# largo_ent=4000\n",
    "# largo_val=1000\n",
    "# largo_ent2=4000\n",
    "# largo_test=3000\n",
    "largo_total=largo_ent+largo_val+largo_ent2+largo_test\n",
    "\n",
    "print(largo_ent, largo_val, largo_ent2, largo_test)\n",
    "# print(scenario.timeseries[0])\n",
    "# print (scenario.timeseries)\n",
    "\n",
    "rutas_mod=np.zeros((len(scenario.timeseries), len(scenario.timeseries[0])))\n",
    "for i in range(len(scenario.timeseries)):\n",
    "    rutas_mod[:][i]=scenario.timeseries[i]\n",
    "\n",
    "print(rutas_mod)"
   ]
  },
  {
   "cell_type": "code",
   "execution_count": null,
   "metadata": {},
   "outputs": [],
   "source": [
    "\n",
    "###########################\n",
    "# Random Forest, T select #\n",
    "###########################\n",
    "\n",
    "# armo vector de ent. y de val.\n",
    "\n",
    "factor=int((largo_ent+largo_val)/largo_val)\n",
    "\n",
    "dic_rf={}\n",
    "\n",
    "# creo diccionario para ir guardando los valores\n",
    "for T in vector_t:\n",
    "    dic_rf[T]=[[],0]\n",
    "\n",
    "for f in range(factor):\n",
    "\n",
    "    ini_muestras_val=f*largo_val\n",
    "    muestras_val=rutas_mod[:, ini_muestras_val:ini_muestras_val+largo_val]\n",
    "    muestras_ent=np.concatenate((rutas_mod[:,:ini_muestras_val],rutas_mod[:,ini_muestras_val+largo_val:largo_ent+largo_val]),axis=1)\n",
    "\n",
    "    ################################\n",
    "    # armo vector de entrenamiento #\n",
    "    ################################\n",
    "    accur=[]\n",
    "    for T in vector_t:\n",
    "        # serie es la ruta ideal (ruta 0, ruta 1, ruta 2) y serie_mod es el valor del RTT\n",
    "        serie=[]\n",
    "        serie_mod=[]\n",
    "        # serie_ent[i] es la ruta i para entrenamiento\n",
    "        serie_ent=[[],[],[], []]\n",
    "        for i in range(largo_ent-T+1):\n",
    "            for k in range(T):\n",
    "                serie.append(np.argmin(muestras_ent[:,i+k]))\n",
    "                serie_mod.append(min(muestras_ent[:,i+k]))\n",
    "        #         serie_1.append(rutas_mod[0][i])\n",
    "        #         serie_2.append(rutas_mod[1][i])\n",
    "                for j in range(len(rutas_mod)):\n",
    "                    serie_ent[j].append(muestras_ent[j][i])\n",
    "        tiempo=list(range(T))*int(largo_ent-T+1)\n",
    "        ######################################\n",
    "        # armo el problema a resolver con RF #\n",
    "        ######################################\n",
    "#         measures = {'tiempo': tiempo, 'ruta 1': serie_ent[0], 'ruta 2': serie_ent[1], 'ruta 3': serie_ent[2], 'ruta 4': serie_ent[3], 'ruteo': serie}\n",
    "#         df = pd.DataFrame(measures,columns= ['tiempo', 'ruta 1', 'ruta 2', 'ruta 3', 'ruta 4', 'ruteo'])\n",
    "        measures = {'tiempo': tiempo, 'ruta 1': serie_ent[0], 'ruta 2': serie_ent[1], 'ruteo': serie}\n",
    "        df = pd.DataFrame(measures,columns= ['tiempo', 'ruta 1', 'ruta 2', 'ruteo'])\n",
    "        # print (df)\n",
    "        X = df[['tiempo', 'ruta 1', 'ruta 2']]\n",
    "#         X = df[['tiempo', 'ruta 1', 'ruta 2', 'ruta 3', 'ruta 4']]\n",
    "        y = df['ruteo']\n",
    "        X_train,X_test,y_train,y_test = train_test_split(X,y,test_size=0.1,random_state=0)\n",
    "        clf = RandomForestClassifier(n_estimators=100)\n",
    "        clf.fit(X_train,y_train)\n",
    "        y_pred=clf.predict(X_test)\n",
    "        accur.append(metrics.accuracy_score(y_test, y_pred))\n",
    "        # confusion_matrix = pd.crosstab(y_test, y_pred, rownames=['Actual'], colnames=['Predicted'])\n",
    "        # sn.heatmap(confusion_matrix, annot=True)\n",
    "        # print (X_test) #test dataset (without the actual outcome)\n",
    "        # print (y_pred) #predicted values\n",
    "        # tengo que ver como armar el vector de entrada para realizar las predicciones\n",
    "        prediction=[]\n",
    "        estado_rf=[]\n",
    "        # print(len(rutas_mod[1]))\n",
    "        k=30\n",
    "        for i in range(largo_val):\n",
    "#             [ruta]=clf.predict([[i%T, muestras_val[0][(i-i%T)], muestras_val[1][(i-i%T)], muestras_val[2][(i-i%T)], muestras_val[3][(i-i%T)]]])\n",
    "#             estado_rf.append((rutas[0][ini_muestras_val+(i-i%T)], i%T, rutas[1][ini_muestras_val+(i-i%T)], i%T, rutas[2][ini_muestras_val+(i-i%T)], i%T, rutas[3][ini_muestras_val+(i-i%T)], i%T))\n",
    "            [ruta]=clf.predict([[i%T, muestras_val[0][(i-i%T)], muestras_val[1][(i-i%T)]]])\n",
    "            estado_rf.append((rutas[0][ini_muestras_val+(i-i%T)], i%T, rutas[1][ini_muestras_val+(i-i%T)], i%T))\n",
    "            # si elijo la ruta 1\n",
    "            prediction.append(muestras_val[ruta][i])\n",
    "        costo_medida_T=(largo_val/T)*sum(costs)\n",
    "        # print(costo_medida_T)\n",
    "        costo_RF=[0]*T\n",
    "        costo_RF[0]=sum(costs)\n",
    "        costo_RF=costo_RF*(int(largo_val/T)+1)\n",
    "        val_rf_test=Value_Func(estado_rf, prediction, ro, costo_RF, k)# min(max_slots))\n",
    "        v_medio_rf=0\n",
    "        v_muestras_rf=0\n",
    "        for key in val_rf_test.keys():\n",
    "            v_medio_rf=(v_medio_rf*v_muestras_rf+val_rf_test[key][0]*val_rf_test[key][1])/(v_muestras_rf+val_rf_test[key][1])\n",
    "            v_muestras_rf+=val_rf_test[key][1]\n",
    "        dic_rf[T]=[clf, (v_medio_rf+dic_rf[T][1]*f)/(f+1)]\n",
    "\n",
    "# print(dic_rf)\n",
    "T_min=min(dic_rf.items(), key=lambda x: x[1][1])[0]\n",
    "T=T_min\n",
    "clf=min(dic_rf.items(), key=lambda x: x[1][1])[1]\n",
    "# print(clf)\n",
    "fval_T=dic_rf[T][1]\n",
    "print(T, fval_T)"
   ]
  },
  {
   "cell_type": "code",
   "execution_count": null,
   "metadata": {},
   "outputs": [],
   "source": [
    "legend_properties = {'weight':'bold', 'size':'24'}\n",
    "fig=plt.figure(figsize=(16,16))\n",
    "ax=fig.add_subplot(1,1,1)\n",
    "ax.plot(vector_t, accur, label='IP path')\n",
    "#     ax.plot(prediction, '*', label='Random Forest')\n",
    "ax.set_xlabel('T', fontsize=24, weight='bold')\n",
    "ax.set_ylabel('Accuracy', fontsize=24, weight='bold')\n",
    "ax.set_title('Accuracy'+str(scenario), fontsize=24, weight='bold')\n",
    "plt.legend(prop=legend_properties)\n",
    "plt.savefig('Accuracy'+str(scenario)+str(T)'.pdf')\n",
    "#     plt.show()"
   ]
  },
  {
   "cell_type": "code",
   "execution_count": null,
   "metadata": {},
   "outputs": [],
   "source": [
    "###########################\n",
    "# T variable, armo series #\n",
    "###########################\n",
    "# Voy a empezar probando sobre las mismas muestras que ya use para elegir T\n",
    "# las series de entrenamiento\n",
    "# serian la combinacion (T, T), (T-1, T), (T, T-1), (T+1, T), (T, T+1)\n",
    "\n",
    "dic_rf_Ti={}\n",
    "vector_Ti=[]\n",
    "if T>3:\n",
    "    I=3\n",
    "else:\n",
    "    I=T\n",
    "\n",
    "for i in range(1,I):\n",
    "    vector_Ti.append((T-i,T))\n",
    "    vector_Ti.append((T+i,T))\n",
    "    vector_Ti.append((T,T-i))\n",
    "    vector_Ti.append((T,T+i))\n",
    "\n",
    "print(vector_Ti)\n",
    "vector_Ti.append((T,T))\n",
    "\n",
    "##############################\n",
    "# me armo las series de ent. #\n",
    "##############################\n",
    "\n",
    "# en cuanto parto el espacio ent/val\n",
    "factor=4\n",
    "\n",
    "largo_val2=int(largo_ent2/factor)\n",
    "print(largo_val2)\n",
    "# muestras_ent2=[[],[]]\n",
    "\n",
    "for (T1, T2) in vector_Ti:\n",
    "    dic_rf_Ti[(T1, T2)]=[[],0]\n",
    "\n",
    "for f in range(factor):\n",
    "    ini_muestras_val2=f*largo_val2+largo_ent+largo_val\n",
    "#     print(ini_muestras_val2)\n",
    "    muestras_val2=rutas_mod[:, ini_muestras_val2:ini_muestras_val2+largo_val2]\n",
    "    muestras_ent2=np.concatenate((rutas_mod[:,largo_ent+largo_val:ini_muestras_val2],rutas_mod[:,ini_muestras_val2+largo_val2:largo_ent+largo_val+largo_ent2]),axis=1)\n",
    "#     print(len(muestras_val2[0]), len(muestras_ent2[0]))\n",
    "    for (T1, T2) in vector_Ti:\n",
    "        # serie es la ruta ideal (ruta 0, ruta 1, ruta 2) y serie_mod es el valor del RTT\n",
    "        # print(T1, T2)\n",
    "        serie=[]\n",
    "        serie_mod=[]\n",
    "        # serie_ent[i] es la ruta i para entrenamiento\n",
    "        serie_ent=[[],[]]\n",
    "        tiempo=[[],[]]\n",
    "        for i in range(largo_ent2-largo_val2-T2*T1+1):\n",
    "            for k in range(T1*T2):\n",
    "                serie.append(np.argmin(muestras_ent2[:,i+k]))\n",
    "                serie_mod.append(min(muestras_ent2[:,i+k]))\n",
    "        #         serie_1.append(rutas_mod[0][i])\n",
    "        #         serie_2.append(rutas_mod[1][i])\n",
    "                serie_ent[0].append(muestras_ent2[0][i+trunc(k/T1)*T1])\n",
    "                serie_ent[1].append(muestras_ent2[1][i+trunc(k/T2)*T2])\n",
    "                # tengo que dejar el tiempo como dos columnas, 1..T,1..T.. y 1..T-1,1..T-1..\n",
    "                tiempo[0].append(i+k%T1)\n",
    "                tiempo[1].append(i+k%T2)\n",
    "        #     print(serie, serie_mod, serie_ent, tiempo)\n",
    "\n",
    "        ######################################\n",
    "        # armo el problema a resolver con RF #\n",
    "        ######################################\n",
    "        # measures = {'tiempo': tiempo, 'ruta 1': serie_ent[0], 'ruta 2': serie_ent[1], 'ruta 3': serie_ent[2], 'ruteo': serie}\n",
    "        # df = pd.DataFrame(measures,columns= ['tiempo', 'ruta 1', 'ruta 2', 'ruta 3', 'ruteo'])\n",
    "        measures = {'tiempo ruta 1': tiempo[0], 'tiempo ruta 2': tiempo[1], 'ruta 1': serie_ent[0], 'ruta 2': serie_ent[1], 'ruteo': serie}\n",
    "        df = pd.DataFrame(measures,columns= ['tiempo ruta 1', 'tiempo ruta 2', 'ruta 1', 'ruta 2', 'ruteo'])\n",
    "#         print (df)\n",
    "        # X = df[['tiempo', 'ruta 1', 'ruta 2', 'ruta 3']]\n",
    "        X = df[['tiempo ruta 1', 'tiempo ruta 2', 'ruta 1', 'ruta 2']]\n",
    "        y = df['ruteo']\n",
    "#         print(len(tiempo[0]))\n",
    "        X_train,X_test,y_train,y_test = train_test_split(X,y,test_size=0.01,random_state=0)\n",
    "        clf = RandomForestClassifier(n_estimators=30)\n",
    "        clf.fit(X_train,y_train)\n",
    "        y_pred=clf.predict(X_test)\n",
    "        # print('Accuracy: ',metrics.accuracy_score(y_test, y_pred))\n",
    "        # confusion_matrix = pd.crosstab(y_test, y_pred, rownames=['Actual'], colnames=['Predicted'])\n",
    "        # sn.heatmap(confusion_matrix, annot=True)\n",
    "        # print (X_test) #test dataset (without the actual outcome)\n",
    "        # print (y_pred) #predicted values\n",
    "        # tengo que ver como armar el vector de entrada para realizar las predicciones\n",
    "        prediction=[]\n",
    "        estado_rf=[]\n",
    "        # print(len(rutas_mod[1]))\n",
    "        k=30\n",
    "        for i in range(largo_val2):\n",
    "            [ruta]=clf.predict([[i%T1, i%T2, muestras_val2[0][(i-i%T1)], muestras_val2[1][(i-i%T2)]]])\n",
    "            estado_rf.append((rutas[0][ini_muestras_val2+(i-i%T1)], i%T1, rutas[1][ini_muestras_val2+(i-i%T2)], i%T2))\n",
    "            # si elijo la ruta 1\n",
    "            prediction.append(muestras_val2[ruta][i])\n",
    "        # cambia el costo!\n",
    "        costo_medida_T=(largo_val2/T1)*costs[0]+(largo_val2/T2)*costs[1]\n",
    "#         print(costo_medida_T)\n",
    "        costo_RF1=[0]*T1\n",
    "        costo_RF2=[0]*T2\n",
    "        costo_RF1[0]=costs[0]\n",
    "        costo_RF2[0]=costs[1]\n",
    "        costo_RF1=np.array(costo_RF1*(int(largo_val2/T1)+1))\n",
    "        costo_RF2=np.array(costo_RF2*(int(largo_val2/T2)+1))\n",
    "        costo_RF=costo_RF1[0:min(len(costo_RF1), len(costo_RF2))]+costo_RF2[0:min(len(costo_RF1), len(costo_RF2))]\n",
    "        val_rf_test=Value_Func(estado_rf, prediction, ro, costo_RF, k)# min(max_slots))\n",
    "        v_medio_rf=0\n",
    "        v_muestras_rf=0\n",
    "        for key in val_rf_test.keys():\n",
    "            v_medio_rf=(v_medio_rf*v_muestras_rf+val_rf_test[key][0]*val_rf_test[key][1])/(v_muestras_rf+val_rf_test[key][1])\n",
    "            v_muestras_rf+=val_rf_test[key][1]\n",
    "#         print(v_medio_rf)\n",
    "        dic_rf_Ti[(T1,T2)]=[clf, (v_medio_rf+dic_rf_Ti[(T1,T2)][1]*f)/(f+1)]\n",
    "#         print(dic_rf_Ti[(T1,T2)][1])\n",
    "\n",
    "print(dic_rf_Ti)\n",
    "T_min=min(dic_rf_Ti.items(), key=lambda x: x[1][1])[0]\n",
    "Ti=T_min\n",
    "fval_Ti=dic_rf_Ti[Ti][1]\n",
    "print(T, fval_T)\n",
    "print(Ti, fval_Ti)"
   ]
  },
  {
   "cell_type": "code",
   "execution_count": null,
   "metadata": {},
   "outputs": [],
   "source": [
    "flag_Ti=False\n",
    "\n",
    "#para deshabilitar\n",
    "fval_Ti=10e4\n",
    "\n",
    "# if fval_T>fval_Ti:\n",
    "#     clf=min(dic_rf_Ti.items(), key=lambda x: x[1][1])[1]\n",
    "#     flag_Ti=True\n",
    "#     T=Ti\n",
    "# else:\n",
    "clf=min(dic_rf.items(), key=lambda x: x[1][1])[1]\n",
    "T=min(dic_rf.items(), key=lambda x: x[1][1])[0]\n",
    "\n",
    "# print(benchmark)\n",
    "# print(benchmarks)\n",
    "# print(costs)\n",
    "logbook = Logbook(costs)\n",
    "\n",
    "# tengo que ver como armar el vector de entrada para realizar las predicciones\n",
    "prediction=[]\n",
    "estado_rf=[]\n",
    "# print(len(rutas_mod[1]))\n",
    "if flag_Ti==True:\n",
    "    T1=T[0]\n",
    "    T2=T[1]\n",
    "    for i in range(largo_test):\n",
    "        costo_accion=0\n",
    "        start_time = time.process_time_ns()\n",
    "        # [ruta]=clf.predict([[i%T, rutas_mod[0][largo_ent+(i-i%T)], rutas_mod[1][largo_ent+(i-i%T)], rutas_mod[2][largo_ent+(i-i%T)]]])\n",
    "        [ruta]=clf[0].predict([[i%T1, i%T2, rutas_mod[0][largo_ent+largo_val+largo_ent2+(i-i%T1)], rutas_mod[1][largo_ent+largo_val+largo_ent2+(i-i%T2)]]])\n",
    "        processing_time = time.process_time_ns() - start_time\n",
    "        estado_rf.append((rutas[0][largo_ent+largo_val+largo_ent2+(i-i%T1)], i%T1, rutas[1][largo_ent+largo_val+largo_ent2+(i-i%T2)], i%T2))\n",
    "        if i%T1==0:\n",
    "            costo_accion+=costs[0]\n",
    "        if i%T2==0:\n",
    "            costo_accion+=costs[1]\n",
    "        prediction.append(rutas_mod[ruta][largo_ent+largo_val+largo_ent2+i])\n",
    "        logbook.record({\n",
    "        #         'hmm_filters': hmm_filters,\n",
    "        #         'mdp_filters': mdp_filters,\n",
    "            'action': costo_accion,\n",
    "            'delay': prediction,\n",
    "            'route_pred': ruta,\n",
    "            'estado_rf': estado_rf,\n",
    "            'processing_time': processing_time,\n",
    "        })\n",
    "        \n",
    "    costo_medida_T=(largo_test/T1)*costs[0]+(largo_test/T2)*costs[1]\n",
    "    # print(costo_medida_T)\n",
    "    numero_medidas=largo_test/T1+largo_test/T2\n",
    "    costo_RF1=[0]*T1\n",
    "    costo_RF2=[0]*T2\n",
    "    costo_RF1[0]=costs[0]\n",
    "    costo_RF2[0]=costs[1]\n",
    "    costo_RF1=np.array(costo_RF1*(int(largo_test/T1)+1))\n",
    "    costo_RF2=np.array(costo_RF2*(int(largo_test/T2)+1))\n",
    "    costo_RF=costo_RF1[0:min(len(costo_RF1), len(costo_RF2))]+costo_RF2[0:min(len(costo_RF1), len(costo_RF2))]\n",
    "else:\n",
    "    for i in range(largo_test):\n",
    "        costo_accion=0\n",
    "        start_time = time.process_time_ns()\n",
    "        [ruta]=clf[0].predict([[i%T, rutas_mod[0][largo_ent+largo_val+largo_ent2+(i-i%T)], rutas_mod[1][largo_ent+largo_val+largo_ent2+(i-i%T)]]])\n",
    "        #[ruta]=clf[0].predict([[i%T, rutas_mod[0][largo_ent+largo_val+largo_ent2+(i-i%T)], rutas_mod[1][largo_ent+largo_val+largo_ent2+(i-i%T)], rutas_mod[2][largo_ent+largo_val+largo_ent2+(i-i%T)], rutas_mod[3][largo_ent+largo_val+largo_ent2+(i-i%T)]]])\n",
    "        processing_time = time.process_time_ns() - start_time\n",
    "        estado_rf.append((rutas[0][largo_ent+largo_val+largo_ent2+(i-i%T)], i%T, rutas[1][largo_ent+largo_val+largo_ent2+(i-i%T)], i%T))\n",
    "        #estado_rf.append((rutas[0][largo_ent+largo_val+largo_ent2+(i-i%T)], i%T, rutas[1][largo_ent+largo_val+largo_ent2+(i-i%T)], i%T, rutas[2][largo_ent+largo_val+largo_ent2+(i-i%T)], i%T, rutas[3][largo_ent+largo_val+largo_ent2+(i-i%T)], i%T))\n",
    "        # si elijo la ruta 1\n",
    "        if i%T==0:\n",
    "            costo_accion=sum(costs)\n",
    "        prediction.append(rutas_mod[ruta][largo_ent+largo_val+largo_ent2+i])\n",
    "        logbook.record({\n",
    "        #         'hmm_filters': hmm_filters,\n",
    "        #         'mdp_filters': mdp_filters,\n",
    "            # guardo T en action pa saber...\n",
    "            'action': costo_accion,\n",
    "            'delay': rutas_mod[ruta][largo_ent+largo_val+largo_ent2+i],\n",
    "            'route_pred': ruta,\n",
    "            'estado_rf': estado_rf,\n",
    "            'processing_time': processing_time,\n",
    "        })\n",
    "    costo_medida_T=(largo_test/T)*sum(costs)\n",
    "    # print(costo_medida_T)\n",
    "    numero_medidas=2*largo_test/T\n",
    "    costo_RF=[0]*T\n",
    "    costo_RF[0]=sum(costs)\n",
    "    costo_RF=costo_RF*(int(largo_test/T)+1)\n",
    "benchmark['logs']['Random Forest']=logbook\n",
    "print(benchmark['logs'])\n",
    "# print(benchmark['logs']['Random Forest'])"
   ]
  },
  {
   "cell_type": "code",
   "execution_count": null,
   "metadata": {},
   "outputs": [],
   "source": [
    "def get_benchmark_df(benchmarks):\n",
    "    records = []\n",
    "\n",
    "    for scenario, benchmark in benchmarks.items():\n",
    "        for policy, log in benchmark['logs'].items():\n",
    "            if policy=='Random Forest':\n",
    "                records.append({\n",
    "                    'scenario': scenario,\n",
    "                    'policy': policy,\n",
    "                    'avg_delay': np.mean(log.get('delay')),\n",
    "                    'avg_cost': log.avg_cost(),\n",
    "                    'avg_processing_time': log.avg_processing_time() / 1e3,\n",
    "                    'avg_n_measures': log.avg_n_measures()\n",
    "                })\n",
    "            else:\n",
    "                records.append({\n",
    "                    'scenario': scenario,\n",
    "                    'policy': policy,\n",
    "                    'avg_delay': np.mean(log.get('delay')[largo_ent+largo_val+largo_ent2:]),\n",
    "                    'avg_cost': log.avg_cost(),\n",
    "                    'avg_processing_time': log.avg_processing_time() / 1e3,\n",
    "                    'avg_n_measures': log.avg_n_measures()\n",
    "                })\n",
    "            \n",
    "    return pd.DataFrame.from_records(records)"
   ]
  },
  {
   "cell_type": "code",
   "execution_count": null,
   "metadata": {},
   "outputs": [],
   "source": [
    "get_benchmark_df(benchmarks)"
   ]
  },
  {
   "cell_type": "code",
   "execution_count": null,
   "metadata": {},
   "outputs": [],
   "source": [
    "# tomo datos para el RH <-- si uso mas de una politica en benchmarks tengo que encarar aca\n",
    "for scenario, benchmark in benchmarks.items():\n",
    "    for policy, log in benchmark['logs'].items():\n",
    "        print(policy)\n",
    "        print(log)\n",
    "        if policy=='Static Route 0 / Never Measure' or policy=='Random Forest':\n",
    "            pass\n",
    "        else:\n",
    "            delay_RH=log.get('delay')[largo_ent+largo_val+largo_ent2:]\n",
    "            avg_medidas_RH=log.avg_n_measures()"
   ]
  },
  {
   "cell_type": "code",
   "execution_count": null,
   "metadata": {},
   "outputs": [],
   "source": [
    "# print(scenario.models)\n",
    "# print(sim.timeseries)\n",
    "\n",
    "for scenario, benchmark in benchmarks.items():\n",
    "    print(scenario)\n",
    "#     print(benchmark['logs'].items())\n",
    "    for policy, log in benchmark['logs'].items():\n",
    "        gap=0\n",
    "        no_min=0\n",
    "        delay=log.get('delay')\n",
    "        print(policy, len(delay))\n",
    "        minimo=[]\n",
    "#         minimo=delay\n",
    "#         print(minimo)\n",
    "        if policy=='Random Forest':\n",
    "            for i in range(len(delay)):\n",
    "                menor=False\n",
    "                minimo.append(delay[i])\n",
    "                for j in range(len(series_temp[scenario])):\n",
    "                    if delay[i]>series_temp[scenario][j][i+largo_ent+largo_ent2+largo_val]:\n",
    "                        menor=True\n",
    "                        minimo[i]=series_temp[scenario][j][i+largo_ent+largo_ent2+largo_val]\n",
    "                gap+=(delay[i]-minimo[i])/minimo[i]\n",
    "                if menor==True:\n",
    "                    no_min+=1\n",
    "    #         print(sum(minimo))\n",
    "        else:\n",
    "            for i in range(len(delay)):\n",
    "                menor=False\n",
    "                minimo.append(delay[i])\n",
    "                for j in range(len(series_temp[scenario])):\n",
    "                    if delay[i]>series_temp[scenario][j][i]:\n",
    "                        menor=True\n",
    "                        minimo[i]=series_temp[scenario][j][i]\n",
    "                gap+=(delay[i]-minimo[i])/minimo[i]\n",
    "                if menor==True:\n",
    "                    no_min+=1\n",
    "    #         print(sum(minimo))\n",
    "        print(policy, 1-no_min*1./len(delay), gap*1./len(delay))\n",
    "# print(sum(minimo))"
   ]
  },
  {
   "cell_type": "code",
   "execution_count": null,
   "metadata": {},
   "outputs": [],
   "source": [
    "print (avg_medidas_RH)"
   ]
  },
  {
   "cell_type": "code",
   "execution_count": null,
   "metadata": {},
   "outputs": [],
   "source": [
    "print('costo de ruta 1', sum(rutas_mod[0][largo_ent+largo_val+largo_ent2:]))\n",
    "print('costo de ruta 2', sum(rutas_mod[1][largo_ent+largo_val+largo_ent2:]))\n",
    "# print('costo de ruta 3', sum(rutas_mod[2][largo_ent:]))\n",
    "# print('costo de ruta 4', sum(rutas_mod[3][largo_ent:]))\n",
    "print('costo de ruta ideal ', sum(minimo))\n",
    "print('################## Random Forest #########################')\n",
    "print('mediciones ', numero_medidas)\n",
    "print('costo de mediciones ', costo_medida_T)\n",
    "print('costo de ruta elegida ', sum(prediction))\n",
    "print('costo total RF', costo_medida_T+sum(prediction))\n",
    "print('################## Receding Horizon #########################')\n",
    "print('mediciones ', largo_test*avg_medidas_RH)\n",
    "print('costo de mediciones ', costs[0]*largo_test*avg_medidas_RH)\n",
    "print('costo de ruta elegida ', sum(delay_RH))\n",
    "print('costo total RH', sum(delay_RH)+costs[0]*largo_test*avg_medidas_RH)\n",
    "\n",
    "# x=np.arange(largo_test)\n",
    "# plt.plot(x, rutas_mod[0][largo_ent:], '-g', x, rutas_mod[1][largo_ent:], '-r', x, rutas_mod[2][largo_ent:], '-b', x, prediction, '*m', x, delay_RH, '+k')\n",
    "# plt.show()\n",
    "# plt.plot(x, rutas_mod[0][largo_ent:], '-g', x, rutas_mod[1][largo_ent:], '-r', x, prediction, '*m', x, delay_RH, '+k')\n",
    "# plt.show()\n",
    "# plt.savefig('Delay'+str(scenario)+'RF.pdf')"
   ]
  },
  {
   "cell_type": "code",
   "execution_count": null,
   "metadata": {},
   "outputs": [],
   "source": [
    "# ploteo el RH y el RF para el test\n",
    "\n",
    "legend_properties = {'weight':'bold', 'size':'24'}\n",
    "proxies={'Paris_Tokyo': ['IP path', 'via Calgary'], 'Singapore_HongKong': ['IP path', 'via Tokyo', 'via Narita'], 'Haifa_Santiago': ['IP path', 'via Curitiva', 'via Dublin', 'via Boston'], 'Paris_Santiago': ['IP path', 'via Cocoa', 'via Boston', 'via Dublin']}\n",
    "for scenario, benchmark in benchmarks.items():\n",
    "    print(scenario)\n",
    "    print(benchmark)\n",
    "    fig=plt.figure(figsize=(16,16))\n",
    "    ax=fig.add_subplot(1,1,1)\n",
    "    for policy, log in benchmark['logs'].items():\n",
    "#         print(policy)\n",
    "#         print(log)\n",
    "        if policy=='Static Route 0 / Never Measure':\n",
    "            ax.plot(log.get('delay')[largo_ent+largo_val+largo_ent2:], label='IP path')\n",
    "        elif policy=='Random Forest':\n",
    "            ax.plot(log.get('delay'), '*', label='SALMON')\n",
    "        else:\n",
    "            ax.plot(log.get('delay')[largo_ent+largo_val+largo_ent2:], 'o', label=policy)\n",
    "    for paths in range(1, len(proxies[scenario])):\n",
    "        print(series_temp[scenario][paths])\n",
    "        ax.plot(series_temp[scenario][paths][largo_ent+largo_val+largo_ent2:], label=proxies[scenario][paths])\n",
    "    \n",
    "#     ax.plot(prediction, '*', label='Random Forest')\n",
    "    ax.set_xlabel('Time (minutes)', fontsize=24, weight='bold')\n",
    "    ax.set_ylabel('Delay (ms)', fontsize=24, weight='bold')\n",
    "    ax.set_title(str(scenario), fontsize=24, weight='bold')\n",
    "    plt.legend(prop=legend_properties)\n",
    "    plt.savefig('Delay'+str(scenario)+str(1)+'.pdf')\n",
    "    #     plt.show()\n",
    "\n"
   ]
  },
  {
   "cell_type": "code",
   "execution_count": null,
   "metadata": {},
   "outputs": [],
   "source": [
    "# # measures = {'tiempo': tiempo, 'ruta 1': serie_ent[0], 'ruta 2': serie_ent[1], 'ruta 3': serie_ent[2], 'ruta 4': serie_ent[3], 'ruteo': serie}#\n",
    "# measures = {'tiempo': tiempo, 'ruta 1': serie_ent[0], 'ruta 2': serie_ent[1], 'ruteo': serie}#\n",
    "\n",
    "# # df = pd.DataFrame(measures,columns= ['tiempo', 'ruta 1', 'ruta 2', 'ruta 3', 'ruta 4', 'ruteo'])\n",
    "# df = pd.DataFrame(measures,columns= ['tiempo', 'ruta 1', 'ruta 2', 'ruteo'])\n",
    "# # print (df)"
   ]
  },
  {
   "cell_type": "code",
   "execution_count": null,
   "metadata": {},
   "outputs": [],
   "source": [
    "# # tengo las series temporales en scenario.timeseries[ruta]\n",
    "# # for scenario, benchmark in benchmarks.items():\n",
    "# #     series_temp[scenario.name]=scenario.timeseries\n",
    "\n",
    "# ################################\n",
    "# # armo vector de entrenamiento #\n",
    "# ################################\n",
    "# ent=0.65\n",
    "# largo_ent=int(ent*len(scenario.timeseries[0]))\n",
    "# largo_test=len(scenario.timeseries[0])-largo_ent\n",
    "\n",
    "# T=10\n",
    "\n",
    "# # print(largo_test)\n",
    "# # print(scenario.timeseries[0])\n",
    "# # print (scenario.timeseries)\n",
    "\n",
    "# rutas_mod=np.zeros((len(scenario.timeseries), len(scenario.timeseries[0])))\n",
    "# for i in range(len(scenario.timeseries)):\n",
    "#     rutas_mod[:][i]=scenario.timeseries[i]\n",
    "\n",
    "# print(rutas_mod)\n",
    "\n",
    "# # serie es la ruta ideal (ruta 0, ruta 1, ruta 2) y serie_mod es el valor del RTT\n",
    "# serie=[]\n",
    "# serie_mod=[]\n",
    "# # serie_ent[i] es la ruta i para entrenamiento\n",
    "# #############################\n",
    "# # Cambiar esta linea si cambia el numero de rutas\n",
    "# # serie_ent=[[],[],[],[]]\n",
    "# serie_ent=[[],[]]\n",
    "# for i in range(largo_ent-T+1):\n",
    "#     for k in range(T):\n",
    "#         serie.append(np.argmin(rutas_mod[:,i+k]))\n",
    "#         serie_mod.append(min(rutas_mod[:,i+k]))\n",
    "# #         serie_1.append(rutas_mod[0][i])\n",
    "# #         serie_2.append(rutas_mod[1][i])\n",
    "#         for j in range(len(scenario.timeseries)):\n",
    "#             serie_ent[j].append(rutas_mod[j][i])\n",
    "\n",
    "# print(len(serie_ent[0]), len(serie_ent[1]), len(serie))\n",
    "# # print(serie_1)\n",
    "# # print(serie)\n",
    "# # print(serie_mod)\n",
    "# # print(rutas_mod[0])\n",
    "# # print(rutas_mod[1])\n",
    "\n",
    "# tiempo=list(range(T))*int(largo_ent-T+1)\n",
    "# print(len(tiempo))\n",
    "\n"
   ]
  },
  {
   "cell_type": "code",
   "execution_count": null,
   "metadata": {},
   "outputs": [],
   "source": [
    "# # X = df[['tiempo', 'ruta 1', 'ruta 2', 'ruta 3', 'ruta 4']]\n",
    "# X = df[['tiempo', 'ruta 1', 'ruta 2']]\n",
    "# y = df['ruteo']"
   ]
  },
  {
   "cell_type": "code",
   "execution_count": null,
   "metadata": {},
   "outputs": [],
   "source": [
    "# X_train,X_test,y_train,y_test = train_test_split(X,y,test_size=0.20,random_state=0)"
   ]
  },
  {
   "cell_type": "code",
   "execution_count": null,
   "metadata": {},
   "outputs": [],
   "source": [
    "# clf = RandomForestClassifier(n_estimators=10)\n",
    "# clf.fit(X_train,y_train)\n",
    "# y_pred=clf.predict(X_test)"
   ]
  },
  {
   "cell_type": "code",
   "execution_count": 25,
   "metadata": {},
   "outputs": [],
   "source": [
    "# print('Accuracy: ',metrics.accuracy_score(y_test, y_pred))"
   ]
  },
  {
   "cell_type": "code",
   "execution_count": 26,
   "metadata": {},
   "outputs": [],
   "source": [
    "# # tengo que ver como armar el vector de entrada para realizar las predicciones\n",
    "# prediction=[]\n",
    "# # print(len(rutas_mod[1]))\n",
    "# for i in range(largo_test):\n",
    "#     [ruta]=clf.predict([[i%T, rutas_mod[0][largo_ent+(i-i%T)], rutas_mod[1][largo_ent+(i-i%T)]]])\n",
    "# #     [ruta]=clf.predict([[i%T, rutas_mod[0][largo_ent+(i-i%T)], rutas_mod[1][largo_ent+(i-i%T)], rutas_mod[2][largo_ent+(i-i%T)], rutas_mod[3][largo_ent+(i-i%T)]]])\n",
    "#     # si elijo la ruta 1\n",
    "# #     print(ruta)\n",
    "#     prediction.append(rutas_mod[ruta][largo_ent+i])\n",
    "\n",
    "# costo_medida_T=(largo_test/T)*costs[0]"
   ]
  },
  {
   "cell_type": "code",
   "execution_count": null,
   "metadata": {},
   "outputs": [],
   "source": []
  },
  {
   "cell_type": "code",
   "execution_count": 71,
   "metadata": {},
   "outputs": [],
   "source": [
    "# print('costo de ruta 1', sum(rutas_mod[0][largo_ent:]))\n",
    "# print('costo de ruta 2', sum(rutas_mod[1][largo_ent:]))\n",
    "# # print('costo de ruta 3', sum(rutas_mod[2][largo_ent:]))\n",
    "# # print('costo de ruta 4', sum(rutas_mod[3][largo_ent:]))\n",
    "# # print('costo de ruta ideal ', sum(ruta_ideal))\n",
    "# print('################## Random Forest #########################')\n",
    "# print('mediciones ', largo_test/T)\n",
    "# print('costo de mediciones ', costo_medida_T)\n",
    "# print('costo de ruta elegida ', sum(prediction))\n",
    "# print('costo total RF', costo_medida_T+sum(prediction))\n",
    "# print('################## Receding Horizon #########################')\n",
    "# print('mediciones ', largo_test*avg_medidas_RH)\n",
    "# print('costo de mediciones ', costs[0]*largo_test*avg_medidas_RH)\n",
    "# print('costo de ruta elegida ', sum(delay_RH))\n",
    "# print('costo total RH', sum(delay_RH)+costs[0]*largo_ent*avg_medidas_RH)\n",
    "\n",
    "# # x=np.arange(largo_test)\n",
    "# # plt.plot(x, rutas_mod[0][largo_ent:], '-g', x, rutas_mod[1][largo_ent:], '-r', x, rutas_mod[2][largo_ent:], '-b', x, prediction, '*m', x, delay_RH, '+k')\n",
    "# # plt.show()\n",
    "# # plt.plot(x, rutas_mod[0][largo_ent:], '-g', x, rutas_mod[1][largo_ent:], '-r', x, prediction, '*m', x, delay_RH, '+k')\n",
    "# # plt.show()\n",
    "# # plt.savefig('Delay'+str(scenario)+'RF.pdf')"
   ]
  },
  {
   "cell_type": "code",
   "execution_count": null,
   "metadata": {},
   "outputs": [],
   "source": []
  },
  {
   "cell_type": "code",
   "execution_count": null,
   "metadata": {},
   "outputs": [],
   "source": []
  },
  {
   "cell_type": "code",
   "execution_count": null,
   "metadata": {},
   "outputs": [],
   "source": []
  },
  {
   "cell_type": "code",
   "execution_count": null,
   "metadata": {},
   "outputs": [],
   "source": []
  },
  {
   "cell_type": "code",
   "execution_count": null,
   "metadata": {},
   "outputs": [],
   "source": []
  },
  {
   "cell_type": "code",
   "execution_count": null,
   "metadata": {},
   "outputs": [],
   "source": []
  },
  {
   "cell_type": "code",
   "execution_count": null,
   "metadata": {},
   "outputs": [],
   "source": []
  },
  {
   "cell_type": "code",
   "execution_count": null,
   "metadata": {},
   "outputs": [],
   "source": []
  },
  {
   "cell_type": "code",
   "execution_count": null,
   "metadata": {},
   "outputs": [],
   "source": []
  },
  {
   "cell_type": "code",
   "execution_count": null,
   "metadata": {},
   "outputs": [],
   "source": []
  },
  {
   "cell_type": "code",
   "execution_count": null,
   "metadata": {},
   "outputs": [],
   "source": [
    "infile = open('DatosH3_NOoneroute.pickle','rb')\n",
    "benchmarks = pickle.load(infile)\n",
    "infile.close()\n",
    "print(benchmarks)"
   ]
  },
  {
   "cell_type": "code",
   "execution_count": null,
   "metadata": {},
   "outputs": [],
   "source": []
  },
  {
   "cell_type": "code",
   "execution_count": 88,
   "metadata": {},
   "outputs": [
    {
     "name": "stdout",
     "output_type": "stream",
     "text": [
      "Paris_Tokyo\n",
      "{'logs': {'Static Route 0 / Never Measure': <lib.simulator.Logbook object at 0x7fa68821e310>, 'Minimal Delay / RH(ρ=0.9,H=1)': <lib.simulator.Logbook object at 0x7fa68b3a9e10>, 'Random Forest': <lib.simulator.Logbook object at 0x7fa68824f410>}}\n",
      "[249.121 249.061 249.072 ... 247.613 247.601 247.675]\n",
      "[247.214 246.946 247.162 ... 248.791 250.347 248.803]\n"
     ]
    },
    {
     "data": {
      "image/png": "[encoded data removed]",
      "text/plain": [
       "<Figure size 1152x1152 with 1 Axes>"
      ]
     },
     "metadata": {
      "needs_background": "light"
     },
     "output_type": "display_data"
    }
   ],
   "source": [
    "# print(scenario.models)\n",
    "# print(sim.timeseries)\n",
    "legend_properties = {'weight':'bold', 'size':'24'}\n",
    "proxies={'Paris_Tokyo': ['IP path', 'via Calgary'], 'Singapore_HongKong': ['IP path', 'via Tokyo', 'via Narita'], 'Haifa_Santiago': ['IP path', 'via Curitiva', 'via Dublin', 'via Boston'], 'Paris_Santiago': ['IP path', 'via Cocoa', 'via Boston', 'via Dublin']}\n",
    "for scenario, benchmark in benchmarks.items():\n",
    "    print(scenario)\n",
    "    print(benchmark)\n",
    "    fig=plt.figure(figsize=(16,16))\n",
    "    ax=fig.add_subplot(1,1,1)\n",
    "    for policy, log in benchmark['logs'].items():\n",
    "#         print(policy)\n",
    "#         print(log)\n",
    "        if policy=='Static Route 0 / Never Measure':\n",
    "            ax.plot(log.get('delay'), label='IP path')\n",
    "        else:\n",
    "            ax.plot(log.get('delay'), 'o', label=policy)\n",
    "    print(series_temp[scenario][0])\n",
    "    for paths in range(1, len(proxies[scenario])):\n",
    "        print(series_temp[scenario][paths])\n",
    "        ax.plot(series_temp[scenario][paths], label=proxies[scenario][paths])\n",
    "    ax.set_xlabel('Time (minutes)', fontsize=24, weight='bold')\n",
    "    ax.set_ylabel('Delay (ms)', fontsize=24, weight='bold')\n",
    "    ax.set_title(str(scenario), fontsize=24, weight='bold')\n",
    "    plt.legend(prop=legend_properties)\n",
    "    plt.savefig('Delay'+str(scenario)+'.pdf')\n",
    "#     plt.show()"
   ]
  },
  {
   "cell_type": "code",
   "execution_count": null,
   "metadata": {},
   "outputs": [],
   "source": []
  },
  {
   "cell_type": "code",
   "execution_count": null,
   "metadata": {},
   "outputs": [],
   "source": []
  },
  {
   "cell_type": "code",
   "execution_count": null,
   "metadata": {},
   "outputs": [],
   "source": []
  },
  {
   "cell_type": "code",
   "execution_count": null,
   "metadata": {},
   "outputs": [],
   "source": []
  },
  {
   "cell_type": "code",
   "execution_count": null,
   "metadata": {},
   "outputs": [],
   "source": []
  },
  {
   "cell_type": "code",
   "execution_count": 73,
   "metadata": {},
   "outputs": [
    {
     "data": {
      "text/html": [
       "<div>\n",
       "<style scoped>\n",
       "    .dataframe tbody tr th:only-of-type {\n",
       "        vertical-align: middle;\n",
       "    }\n",
       "\n",
       "    .dataframe tbody tr th {\n",
       "        vertical-align: top;\n",
       "    }\n",
       "\n",
       "    .dataframe thead th {\n",
       "        text-align: right;\n",
       "    }\n",
       "</style>\n",
       "<table border=\"1\" class=\"dataframe\">\n",
       "  <thead>\n",
       "    <tr style=\"text-align: right;\">\n",
       "      <th></th>\n",
       "      <th>avg_cost</th>\n",
       "      <th>avg_delay</th>\n",
       "      <th>avg_n_measures</th>\n",
       "      <th>avg_processing_time</th>\n",
       "      <th>policy</th>\n",
       "      <th>scenario</th>\n",
       "    </tr>\n",
       "  </thead>\n",
       "  <tbody>\n",
       "    <tr>\n",
       "      <th>0</th>\n",
       "      <td>0.000000</td>\n",
       "      <td>248.308882</td>\n",
       "      <td>0.000000</td>\n",
       "      <td>2.368142</td>\n",
       "      <td>Static Route 0 / Never Measure</td>\n",
       "      <td>Paris_Tokyo</td>\n",
       "    </tr>\n",
       "    <tr>\n",
       "      <th>1</th>\n",
       "      <td>0.001173</td>\n",
       "      <td>248.084757</td>\n",
       "      <td>0.002347</td>\n",
       "      <td>1193.049230</td>\n",
       "      <td>Minimal Delay / RH(ρ=0.9,H=1)</td>\n",
       "      <td>Paris_Tokyo</td>\n",
       "    </tr>\n",
       "  </tbody>\n",
       "</table>\n",
       "</div>"
      ],
      "text/plain": [
       "   avg_cost   avg_delay  avg_n_measures  avg_processing_time  \\\n",
       "0  0.000000  248.308882        0.000000             2.368142   \n",
       "1  0.001173  248.084757        0.002347          1193.049230   \n",
       "\n",
       "                           policy     scenario  \n",
       "0  Static Route 0 / Never Measure  Paris_Tokyo  \n",
       "1   Minimal Delay / RH(ρ=0.9,H=1)  Paris_Tokyo  "
      ]
     },
     "execution_count": 73,
     "metadata": {},
     "output_type": "execute_result"
    }
   ],
   "source": [
    "get_benchmark_df(benchmarks)"
   ]
  },
  {
   "cell_type": "code",
   "execution_count": null,
   "metadata": {},
   "outputs": [],
   "source": []
  },
  {
   "cell_type": "code",
   "execution_count": null,
   "metadata": {},
   "outputs": [],
   "source": []
  },
  {
   "cell_type": "code",
   "execution_count": null,
   "metadata": {},
   "outputs": [],
   "source": [
    "import pickle\n",
    "filename = 'Paris_Tokyo'\n",
    "outfile = open(filename,'wb')\n",
    "pickle.dump(benchmarks,outfile)\n",
    "outfile.close()"
   ]
  },
  {
   "cell_type": "code",
   "execution_count": null,
   "metadata": {},
   "outputs": [],
   "source": []
  },
  {
   "cell_type": "code",
   "execution_count": null,
   "metadata": {},
   "outputs": [],
   "source": []
  },
  {
   "cell_type": "code",
   "execution_count": 12,
   "metadata": {},
   "outputs": [
    {
     "name": "stdout",
     "output_type": "stream",
     "text": [
      "{'Haifa_Santiago': {'logs': {'Static Route 0 / Never Measure': <lib.simulator.Logbook object at 0x7fc53c1a3590>, 'Minimal Delay / RH(ρ=0.99,H=3)': <lib.simulator.Logbook object at 0x7fc535f1aa10>}}}\n"
     ]
    }
   ],
   "source": [
    "infile = open(filename,'rb')\n",
    "new_dict = pickle.load(infile)\n",
    "infile.close()\n",
    "print(new_dict)"
   ]
  },
  {
   "cell_type": "code",
   "execution_count": null,
   "metadata": {},
   "outputs": [],
   "source": []
  },
  {
   "cell_type": "code",
   "execution_count": 60,
   "metadata": {},
   "outputs": [
    {
     "data": {
      "text/plain": [
       "<matplotlib.axes._subplots.AxesSubplot at 0x7f343fe91f10>"
      ]
     },
     "execution_count": 60,
     "metadata": {},
     "output_type": "execute_result"
    },
    {
     "data": {
      "image/png": "[encoded data removed]",
      "text/plain": [
       "<Figure size 1152x576 with 1 Axes>"
      ]
     },
     "metadata": {
      "needs_background": "light"
     },
     "output_type": "display_data"
    }
   ],
   "source": [
    "df = get_benchmark_df(benchmarks)\n",
    "plt.figure(figsize=(16,8))\n",
    "sns.barplot(x='scenario', y='avg_delay', hue='policy', data=df)\n",
    "# plt.savefig('../figures/benchmark_delay_v2.png', bbox_inches='tight', dpi=300)"
   ]
  },
  {
   "cell_type": "code",
   "execution_count": 61,
   "metadata": {},
   "outputs": [
    {
     "data": {
      "text/plain": [
       "<matplotlib.axes._subplots.AxesSubplot at 0x7f34441f7b10>"
      ]
     },
     "execution_count": 61,
     "metadata": {},
     "output_type": "execute_result"
    },
    {
     "data": {
      "image/png": "[encoded data removed]",
      "text/plain": [
       "<Figure size 1152x576 with 1 Axes>"
      ]
     },
     "metadata": {
      "needs_background": "light"
     },
     "output_type": "display_data"
    }
   ],
   "source": [
    "df = get_benchmark_df(benchmarks)\n",
    "plt.figure(figsize=(16,8))\n",
    "sns.barplot(x='scenario', y='avg_n_measures', hue='policy', data=df)\n",
    "# plt.savefig('../figures/benchmark_cost_v2.png', bbox_inches='tight', dpi=300)"
   ]
  },
  {
   "cell_type": "code",
   "execution_count": 62,
   "metadata": {},
   "outputs": [
    {
     "data": {
      "text/plain": [
       "<matplotlib.axes._subplots.AxesSubplot at 0x7f34442104d0>"
      ]
     },
     "execution_count": 62,
     "metadata": {},
     "output_type": "execute_result"
    },
    {
     "data": {
      "image/png": "[encoded data removed]",
      "text/plain": [
       "<Figure size 1152x576 with 1 Axes>"
      ]
     },
     "metadata": {
      "needs_background": "light"
     },
     "output_type": "display_data"
    }
   ],
   "source": [
    "df = get_benchmark_df(benchmarks)\n",
    "plt.figure(figsize=(16,8))\n",
    "sns.barplot(x='scenario', y='avg_cost', hue='policy', data=df)\n",
    "# plt.savefig('../figures/benchmark_cost_v2.png', bbox_inches='tight', dpi=300)"
   ]
  },
  {
   "cell_type": "code",
   "execution_count": 63,
   "metadata": {},
   "outputs": [
    {
     "data": {
      "text/plain": [
       "<matplotlib.axes._subplots.AxesSubplot at 0x7f344410f4d0>"
      ]
     },
     "execution_count": 63,
     "metadata": {},
     "output_type": "execute_result"
    },
    {
     "data": {
      "image/png": "[encoded data removed]",
      "text/plain": [
       "<Figure size 1152x576 with 1 Axes>"
      ]
     },
     "metadata": {
      "needs_background": "light"
     },
     "output_type": "display_data"
    }
   ],
   "source": [
    "df = get_benchmark_df(benchmarks)\n",
    "plt.figure(figsize=(16,8))\n",
    "sns.barplot(x='scenario', y='avg_processing_time', hue='policy', data=df)\n",
    "# plt.savefig('../figures/benchmark_acc_v2.png', bbox_inches='tight', dpi=300)"
   ]
  },
  {
   "cell_type": "code",
   "execution_count": null,
   "metadata": {},
   "outputs": [],
   "source": []
  },
  {
   "cell_type": "code",
   "execution_count": null,
   "metadata": {},
   "outputs": [],
   "source": []
  }
 ],
 "metadata": {
  "kernelspec": {
   "display_name": "Python 3",
   "language": "python",
   "name": "python3"
  },
  "language_info": {
   "codemirror_mode": {
    "name": "ipython",
    "version": 3
   },
   "file_extension": ".py",
   "mimetype": "text/x-python",
   "name": "python",
   "nbconvert_exporter": "python",
   "pygments_lexer": "ipython3",
   "version": "3.7.5"
  }
 },
 "nbformat": 4,
 "nbformat_minor": 4
}
