{
 "cells": [
  {
   "cell_type": "code",
   "execution_count": 1,
   "metadata": {},
   "outputs": [],
   "source": [
    "import numpy as np\n",
    "import pandas as pd\n",
    "import seaborn as sns\n",
    "import matplotlib.pyplot as plt\n",
    "from matplotlib.font_manager import FontProperties\n",
    "from matplotlib.backends.backend_pdf import PdfPages\n",
    "from math import *\n",
    "import pickle\n",
    "\n",
    "from pathlib import Path\n",
    "from tqdm.auto import tqdm\n",
    "\n",
    "# coding: utf-8\n",
    "import time\n",
    "# import cProfile\n",
    "# from mpl_toolkits.mplot3d import Axes3D\n",
    "import random\n",
    "from sklearn.model_selection import train_test_split\n",
    "from sklearn.ensemble import RandomForestClassifier\n",
    "from sklearn import metrics"
   ]
  },
  {
   "cell_type": "code",
   "execution_count": 2,
   "metadata": {},
   "outputs": [],
   "source": [
    "def Value_Func_original(estados, RTT, ro, cost_measure, max_slots, N):\n",
    "    # RTT es el vector de valores que va tomando el camino elegido en cada time_slot\n",
    "    # ro factor de descuento\n",
    "    # cost_measure vector de costo de medida en cada time_slot\n",
    "    # max_slots es que tanto considero el futuro\n",
    "    # en V guardo el promedio de la value function del estado que supero N visitas, y cuantas veces pase por ese estado\n",
    "    V={}\n",
    "    val=np.zeros(len(RTT)-max_slots)\n",
    "    vector_ro=(np.ones(max_slots)*ro)**np.arange(max_slots)\n",
    "    RTT=np.array(RTT)\n",
    "    cost_measure=np.array(cost_measure)\n",
    "    # print(max_slots)\n",
    "    # print(vector_ro)\n",
    "    # print(RTT)\n",
    "    # print(cost_measure)\n",
    "    for i in range(len(RTT)-max_slots):\n",
    "        # print(i)\n",
    "        val[i]=sum((RTT[i:i+max_slots]+cost_measure[i:i+max_slots])*vector_ro.T)\n",
    "\n",
    "        if estados[i] in V:\n",
    "            V[estados[i]]=[(val[i]+V[estados[i]][0]*V[estados[i]][1])/(V[estados[i][1]]+1), V[estados[i]][1]+1]\n",
    "        # print(RTT[i:i+max_slots]+cost_measure[i:i+max_slots])\n",
    "        else:\n",
    "            V[estados[i]]=[val[i], 1]\n",
    "    return V\n"
   ]
  },
  {
   "cell_type": "code",
   "execution_count": 3,
   "metadata": {},
   "outputs": [],
   "source": [
    "def Value_Func(estados, RTT, ro, cost_measure, max_slots):\n",
    "    # RTT es el vector de valores que va tomando el camino elegido en cada time_slot\n",
    "    # ro factor de descuento\n",
    "    # cost_measure vector de costo de medida en cada time_slot\n",
    "    # max_slots es que tanto considero el futuro\n",
    "    # en V guardo el promedio de la value function del estado que supero N visitas, y cuantas veces pase por ese estado\n",
    "    V={}\n",
    "    val=np.zeros(len(RTT)-max_slots)\n",
    "    vector_ro=(np.ones(max_slots)*ro)**np.arange(max_slots)\n",
    "    RTT=np.array(RTT)\n",
    "    cost_measure=np.array(cost_measure)\n",
    "    # print(max_slots)\n",
    "    # print(vector_ro)\n",
    "    # print(RTT)\n",
    "    # print(cost_measure)\n",
    "    for i in range(len(RTT)-max_slots):\n",
    "        # print(i)\n",
    "        val[i]=sum((RTT[i:i+max_slots]+cost_measure[i:i+max_slots])*vector_ro.T)\n",
    "        # print(val[i])\n",
    "        if estados[i] in V:\n",
    "            V[estados[i]]=[(val[i]+V[estados[i]][0]*V[estados[i]][1])/(V[estados[i]][1]+1), V[estados[i]][1]+1]\n",
    "            # print(V[estados[i]])\n",
    "        # print(RTT[i:i+max_slots]+cost_measure[i:i+max_slots])\n",
    "        else:\n",
    "            V[estados[i]]=[val[i], 1]\n",
    "    return V\n"
   ]
  },
  {
   "cell_type": "code",
   "execution_count": 4,
   "metadata": {},
   "outputs": [],
   "source": [
    "def get_Markov_delay(P,M,current_state):\n",
    "\t#SIMULATION OF THE MARKOV ROAD\n",
    "\tstates_MR=np.array([])\n",
    "\tPcumsum = np.cumsum(P,1)\n",
    "\t# esta de abajo no la precisamo'\n",
    "\tstates = np.array([current_state])\n",
    "\tfor t in range(0,M):\n",
    "\t\tU = np.random.random()\n",
    "\t\tpnext = Pcumsum[current_state,:]\n",
    "\t\tcurrent_state = np.sum(U>pnext)\n",
    "\t\tstates_MR = np.append(states_MR, current_state)\n",
    "\treturn states_MR"
   ]
  },
  {
   "cell_type": "code",
   "execution_count": 5,
   "metadata": {},
   "outputs": [],
   "source": [
    "def series_de_markov(largo, P, niveles):\n",
    "    serie_markov_1=get_Markov_delay(P, largo, 1)\n",
    "    serie_markov_1_mod=np.zeros(len(serie_markov_1))\n",
    "    for i in range(largo):\n",
    "        for j in range(len(niveles)):\n",
    "            if int(serie_markov_1[i])==j:\n",
    "                serie_markov_1_mod[i]=niveles[j]\n",
    "    return serie_markov_1, serie_markov_1_mod\n"
   ]
  },
  {
   "cell_type": "code",
   "execution_count": null,
   "metadata": {},
   "outputs": [],
   "source": []
  }
 ],
 "metadata": {
  "kernelspec": {
   "display_name": "Python 3",
   "language": "python",
   "name": "python3"
  },
  "language_info": {
   "codemirror_mode": {
    "name": "ipython",
    "version": 3
   },
   "file_extension": ".py",
   "mimetype": "text/x-python",
   "name": "python",
   "nbconvert_exporter": "python",
   "pygments_lexer": "ipython3",
   "version": "3.7.5"
  }
 },
 "nbformat": 4,
 "nbformat_minor": 4
}
