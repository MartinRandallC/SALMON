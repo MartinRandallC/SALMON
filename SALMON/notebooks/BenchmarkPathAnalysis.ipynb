{
 "cells": [
  {
   "cell_type": "code",
   "execution_count": 1,
   "metadata": {},
   "outputs": [],
   "source": [
    "%matplotlib inline\n",
    "\n",
    "import numpy as np\n",
    "import pandas as pd\n",
    "import seaborn as sns\n",
    "import matplotlib.pyplot as plt\n",
    "from matplotlib.font_manager import FontProperties\n",
    "import pickle\n",
    "\n",
    "from pathlib import Path\n",
    "from tqdm.auto import tqdm"
   ]
  },
  {
   "cell_type": "code",
   "execution_count": 2,
   "metadata": {},
   "outputs": [],
   "source": [
    "import sys\n",
    "sys.path.append('..')"
   ]
  },
  {
   "cell_type": "code",
   "execution_count": 3,
   "metadata": {},
   "outputs": [],
   "source": [
    "from lib.models import HMM, HMMFilter\n",
    "from lib.policies import StaticRoutingPolicy, MinimalDelayRoutingPolicy\n",
    "from lib.policies import StaticMonitoringPolicy, RecedingHorizonPolicy\n",
    "from lib.simulator import Scenario, Simulator"
   ]
  },
  {
   "cell_type": "code",
   "execution_count": 4,
   "metadata": {},
   "outputs": [],
   "source": [
    "# scenarios_dir = Path('../dataset/NLNOG/scenarios_v2/2_paths/')\n",
    "# scenarios_paths = [x for x in scenarios_dir.iterdir() if x.is_dir()]"
   ]
  },
  {
   "cell_type": "code",
   "execution_count": 5,
   "metadata": {},
   "outputs": [],
   "source": [
    "olivier_scenarios = [\n",
    "    '2_paths/',\n",
    "#     '3_paths/Singapore_HongKong',\n",
    "#     '4_paths/Haifa_Santiago',\n",
    "#     '4_paths/Paris_Santiago'\n",
    "]\n",
    "\n",
    "\n",
    "scenarios_dir = Path('../dataset/NLNOG/scenarios_v2/')\n",
    "scenarios_paths = [scenarios_dir.joinpath(x) for x in olivier_scenarios]"
   ]
  },
  {
   "cell_type": "code",
   "execution_count": 6,
   "metadata": {},
   "outputs": [],
   "source": [
    "scenarios_dir = Path('../dataset/NLNOG/scenarios_v2/2_paths/')\n",
    "scenarios_paths = [x for x in scenarios_dir.iterdir() if x.is_dir()]"
   ]
  },
  {
   "cell_type": "code",
   "execution_count": null,
   "metadata": {},
   "outputs": [],
   "source": []
  },
  {
   "cell_type": "code",
   "execution_count": 7,
   "metadata": {},
   "outputs": [
    {
     "data": {
      "application/vnd.jupyter.widget-view+json": {
       "model_id": "c6777b9581c940ec8456594a07309188",
       "version_major": 2,
       "version_minor": 0
      },
      "text/plain": [
       "HBox(children=(IntProgress(value=0, max=71), HTML(value='')))"
      ]
     },
     "metadata": {},
     "output_type": "display_data"
    },
    {
     "name": "stdout",
     "output_type": "stream",
     "text": [
      "Haifa_Paris scenario with 2 paths\n",
      "- K = [4, 3]\n",
      "- Avg. delays = [102.7, 85.63]\n",
      "Melbourne_Paris scenario with 2 paths\n",
      "- K = [3, 5]\n",
      "- Avg. delays = [312.11, 276.21]\n",
      "San_Francisco_Paris scenario with 2 paths\n",
      "- K = [6, 5]\n",
      "- Avg. delays = [174.09, 174.31]\n",
      "Cocoa_Moscow scenario with 2 paths\n",
      "- K = [6, 3]\n",
      "- Avg. delays = [157.34, 144.64]\n",
      "Curitiba_Paris scenario with 2 paths\n",
      "- K = [4, 3]\n",
      "- Avg. delays = [269.93, 219.7]\n",
      "Houston_HongKong scenario with 2 paths\n",
      "- K = [4, 5]\n",
      "- Avg. delays = [202.18, 200.07]\n",
      "Paris_San_Francisco scenario with 2 paths\n",
      "- K = [6, 7]\n",
      "- Avg. delays = [174.09, 174.27]\n",
      "Dublin_San_Francisco scenario with 2 paths\n",
      "- K = [7, 5]\n",
      "- Avg. delays = [156.42, 152.48]\n",
      "Narita_San_Francisco scenario with 2 paths\n",
      "- K = [4, 1]\n",
      "- Avg. delays = [112.96, 111.74]\n",
      "Narita_Singapore scenario with 2 paths\n",
      "- K = [6, 5]\n",
      "- Avg. delays = [84.28, 81.39]\n",
      "Calgary_Singapore scenario with 2 paths\n",
      "- K = [2, 5]\n",
      "- Avg. delays = [215.03, 186.22]\n",
      "Tokyo_Melbourne scenario with 2 paths\n",
      "- K = [2, 4]\n",
      "- Avg. delays = [198.48, 144.01]\n",
      "Singapore_Gibraltar scenario with 2 paths\n",
      "- K = [7, 5]\n",
      "- Avg. delays = [217.94, 155.51]\n",
      "Houston_Curitiba scenario with 2 paths\n",
      "- K = [5, 6]\n",
      "- Avg. delays = [189.55, 191.42]\n",
      "Cocoa_Narita scenario with 2 paths\n",
      "- K = [6, 5]\n",
      "- Avg. delays = [179.31, 180.58]\n",
      "Dublin_Melbourne scenario with 2 paths\n",
      "- K = [4, 6]\n",
      "- Avg. delays = [323.65, 319.2]\n",
      "Houston_Tokyo scenario with 2 paths\n",
      "- K = [3, 4]\n",
      "- Avg. delays = [164.25, 145.85]\n",
      "Boston_Tokyo scenario with 2 paths\n",
      "- K = [3, 6]\n",
      "- Avg. delays = [171.26, 164.15]\n",
      "Paris_Haifa scenario with 2 paths\n",
      "- K = [4, 3]\n",
      "- Avg. delays = [102.69, 85.63]\n",
      "Houston_Santiago scenario with 2 paths\n",
      "- K = [6, 6]\n",
      "- Avg. delays = [175.88, 175.44]\n",
      "Houston_Gibraltar scenario with 2 paths\n",
      "- K = [4, 7]\n",
      "- Avg. delays = [156.68, 98.38]\n",
      "Oslo_Santiago scenario with 2 paths\n",
      "- K = [5, 9]\n",
      "- Avg. delays = [264.38, 260.3]\n",
      "Cocoa_Singapore scenario with 2 paths\n",
      "- K = [6, 6]\n",
      "- Avg. delays = [244.52, 234.27]\n",
      "Santiago_Calgary scenario with 2 paths\n",
      "- K = [6, 4]\n",
      "- Avg. delays = [174.15, 197.29]\n",
      "Haifa_Calgary scenario with 2 paths\n",
      "- K = [5, 3]\n",
      "- Avg. delays = [208.54, 162.63]\n",
      "Paris_Tokyo scenario with 2 paths\n",
      "- K = [1, 6]\n",
      "- Avg. delays = [248.31, 248.55]\n",
      "Narita_Cocoa scenario with 2 paths\n",
      "- K = [7, 6]\n",
      "- Avg. delays = [179.73, 180.62]\n",
      "Moscow_Singapore scenario with 2 paths\n",
      "- K = [8, 7]\n",
      "- Avg. delays = [295.51, 302.48]\n",
      "Cocoa_Oslo scenario with 2 paths\n",
      "- K = [6, 5]\n",
      "- Avg. delays = [137.74, 127.17]\n",
      "HongKong_Houston scenario with 2 paths\n",
      "- K = [3, 4]\n",
      "- Avg. delays = [202.1, 200.06]\n",
      "Oslo_Calgary scenario with 2 paths\n",
      "- K = [6, 5]\n",
      "- Avg. delays = [161.19, 137.89]\n",
      "San_Francisco_Singapore scenario with 2 paths\n",
      "- K = [5, 5]\n",
      "- Avg. delays = [189.14, 185.9]\n",
      "Curitiba_San_Francisco scenario with 2 paths\n",
      "- K = [3, 6]\n",
      "- Avg. delays = [249.3, 233.41]\n",
      "Paris_Curitiba scenario with 2 paths\n",
      "- K = [4, 3]\n",
      "- Avg. delays = [270.01, 219.71]\n",
      "Melbourne_Tokyo scenario with 2 paths\n",
      "- K = [2, 6]\n",
      "- Avg. delays = [198.42, 143.98]\n",
      "Gibraltar_Calgary scenario with 2 paths\n",
      "- K = [3, 5]\n",
      "- Avg. delays = [181.93, 145.49]\n",
      "Singapore_Moscow scenario with 2 paths\n",
      "- K = [8, 5]\n",
      "- Avg. delays = [295.8, 302.54]\n",
      "Narita_HongKong scenario with 2 paths\n",
      "- K = [4, 3]\n",
      "- Avg. delays = [57.82, 56.74]\n",
      "Curitiba_Cocoa scenario with 2 paths\n",
      "- K = [5, 7]\n",
      "- Avg. delays = [153.36, 197.68]\n",
      "Santiago_Gibraltar scenario with 2 paths\n",
      "- K = [4, 4]\n",
      "- Avg. delays = [257.33, 197.29]\n",
      "Cocoa_Dublin scenario with 2 paths\n",
      "- K = [4, 6]\n",
      "- Avg. delays = [125.99, 110.64]\n",
      "Cocoa_Paris scenario with 2 paths\n",
      "- K = [5, 4]\n",
      "- Avg. delays = [123.29, 114.92]\n",
      "Cocoa_Warsaw scenario with 2 paths\n",
      "- K = [4, 3]\n",
      "- Avg. delays = [141.34, 132.9]\n",
      "San_Francisco_Narita scenario with 2 paths\n",
      "- K = [4, 2]\n",
      "- Avg. delays = [113.01, 111.78]\n",
      "Santiago_Houston scenario with 2 paths\n",
      "- K = [6, 6]\n",
      "- Avg. delays = [175.93, 175.57]\n",
      "Oslo_Tokyo scenario with 2 paths\n",
      "- K = [4, 4]\n",
      "- Avg. delays = [275.91, 269.62]\n",
      "Singapore_Calgary scenario with 2 paths\n",
      "- K = [6, 5]\n",
      "- Avg. delays = [215.42, 155.51]\n",
      "Calgary_Haifa scenario with 2 paths\n",
      "- K = [5, 7]\n",
      "- Avg. delays = [208.52, 199.44]\n",
      "Curitiba_Tokyo scenario with 2 paths\n",
      "- K = [6, 7]\n",
      "- Avg. delays = [321.49, 310.22]\n",
      "Santiago_Oslo scenario with 2 paths\n",
      "- K = [4, 8]\n",
      "- Avg. delays = [264.61, 260.27]\n",
      "Narita_Paris scenario with 2 paths\n",
      "- K = [4, 5]\n",
      "- Avg. delays = [261.71, 81.39]\n",
      "Curitiba_Gibraltar scenario with 2 paths\n",
      "- K = [5, 5]\n",
      "- Avg. delays = [287.23, 213.39]\n",
      "HongKong_Narita scenario with 2 paths\n",
      "- K = [4, 2]\n",
      "- Avg. delays = [57.78, 56.74]\n",
      "Narita_Calgary scenario with 2 paths\n",
      "- K = [5, 5]\n",
      "- Avg. delays = [152.44, 81.39]\n",
      "San_Francisco_Haifa scenario with 2 paths\n",
      "- K = [5, 7]\n",
      "- Avg. delays = [224.45, 224.19]\n",
      "Dublin_Gibraltar scenario with 2 paths\n",
      "- K = [4, 4]\n",
      "- Avg. delays = [94.89, 73.31]\n",
      "Calgary_Santiago scenario with 2 paths\n",
      "- K = [5, 6]\n",
      "- Avg. delays = [174.16, 197.59]\n",
      "Calgary_Narita scenario with 2 paths\n",
      "- K = [4, 1]\n",
      "- Avg. delays = [152.42, 112.11]\n",
      "Cocoa_Curitiba scenario with 2 paths\n",
      "- K = [4, 7]\n",
      "- Avg. delays = [153.08, 197.53]\n",
      "Haifa_San_Francisco scenario with 2 paths\n",
      "- K = [5, 7]\n",
      "- Avg. delays = [224.42, 224.15]\n",
      "Singapore_Narita scenario with 2 paths\n",
      "- K = [5, 4]\n",
      "- Avg. delays = [84.29, 81.4]\n",
      "Warsaw_Tokyo scenario with 2 paths\n",
      "- K = [5, 4]\n",
      "- Avg. delays = [277.69, 298.36]\n",
      "Haifa_Tokyo scenario with 2 paths\n",
      "- K = [5, 3]\n",
      "- Avg. delays = [322.28, 316.97]\n",
      "Paris_Calgary scenario with 2 paths\n",
      "- K = [7, 4]\n",
      "- Avg. delays = [140.13, 112.75]\n",
      "Gibraltar_Singapore scenario with 2 paths\n",
      "- K = [5, 6]\n",
      "- Avg. delays = [217.84, 301.69]\n",
      "San_Francisco_Curitiba scenario with 2 paths\n",
      "- K = [5, 7]\n",
      "- Avg. delays = [249.4, 233.12]\n",
      "HongKong_Paris scenario with 2 paths\n",
      "- K = [4, 7]\n",
      "- Avg. delays = [267.13, 130.86]\n",
      "Singapore_Cocoa scenario with 2 paths\n",
      "- K = [6, 6]\n",
      "- Avg. delays = [244.93, 234.3]\n",
      "Curitiba_Houston scenario with 2 paths\n",
      "- K = [4, 7]\n",
      "- Avg. delays = [189.42, 191.68]\n",
      "Boston_Gibraltar scenario with 2 paths\n",
      "- K = [2, 6]\n",
      "- Avg. delays = [145.41, 103.21]\n",
      "Gibraltar_Santiago scenario with 2 paths\n",
      "- K = [4, 4]\n",
      "- Avg. delays = [257.34, 274.51]\n",
      "\n"
     ]
    }
   ],
   "source": [
    "benchmarks = {}\n",
    "\n",
    "# Progress bar\n",
    "p = tqdm(scenarios_paths)\n",
    "\n",
    "series_temp={}\n",
    "for scenario_path in p:\n",
    "    if scenario_path!='.ipynb_checkpoints':\n",
    "        scenario = Scenario.from_path(scenario_path)\n",
    "        # en scenario.timeseries tengo las series temporales para cada ruta\n",
    "        series_temp[scenario.name]=scenario.timeseries\n",
    "        print(scenario)"
   ]
  },
  {
   "cell_type": "code",
   "execution_count": 8,
   "metadata": {},
   "outputs": [],
   "source": [
    "# Calgary_Singapore scenario with 2 paths\n",
    "# - K = [2, 5]\n",
    "# - Avg. delays = [215.03, 186.22]\n",
    "# Tokyo_Melbourne scenario with 2 paths\n",
    "# - K = [2, 4]"
   ]
  },
  {
   "cell_type": "code",
   "execution_count": null,
   "metadata": {},
   "outputs": [],
   "source": []
  },
  {
   "cell_type": "code",
   "execution_count": 9,
   "metadata": {},
   "outputs": [
    {
     "data": {
      "application/vnd.jupyter.widget-view+json": {
       "model_id": "3c6ea1cab8664207a3c565b88169b1da",
       "version_major": 2,
       "version_minor": 0
      },
      "text/plain": [
       "HBox(children=(IntProgress(value=0, max=71), HTML(value='')))"
      ]
     },
     "metadata": {},
     "output_type": "display_data"
    },
    {
     "name": "stdout",
     "output_type": "stream",
     "text": [
      "[101.695 101.617 101.692 ... 103.989 104.01  103.986]\n",
      "[array([101.695, 101.617, 101.692, ..., 103.989, 104.01 , 103.986]), array([85.516, 85.57 , 85.54 , ..., 85.423, 85.47 , 85.794])]\n"
     ]
    },
    {
     "data": {
      "application/vnd.jupyter.widget-view+json": {
       "model_id": "284fb7e73bc84d70811ee8799b2e9b45",
       "version_major": 2,
       "version_minor": 0
      },
      "text/plain": [
       "HBox(children=(IntProgress(value=0, max=3835), HTML(value='')))"
      ]
     },
     "metadata": {},
     "output_type": "display_data"
    },
    {
     "name": "stdout",
     "output_type": "stream",
     "text": [
      "[array([101.695, 101.617, 101.692, ..., 103.989, 104.01 , 103.986]), array([85.516, 85.57 , 85.54 , ..., 85.423, 85.47 , 85.794])]\n"
     ]
    },
    {
     "data": {
      "application/vnd.jupyter.widget-view+json": {
       "model_id": "2490f9ed20ce49678ce45e890b616b28",
       "version_major": 2,
       "version_minor": 0
      },
      "text/plain": [
       "HBox(children=(IntProgress(value=0, max=3835), HTML(value='')))"
      ]
     },
     "metadata": {},
     "output_type": "display_data"
    },
    {
     "name": "stdout",
     "output_type": "stream",
     "text": [
      "[311.909 311.905 311.871 ... 311.861 311.847 311.867]\n",
      "[array([311.909, 311.905, 311.871, ..., 311.861, 311.847, 311.867]), array([292.631, 294.226, 318.719, ..., 269.136, 268.605, 269.213])]\n"
     ]
    },
    {
     "data": {
      "application/vnd.jupyter.widget-view+json": {
       "model_id": "e8e302feb7d14b47b57defff45d75d50",
       "version_major": 2,
       "version_minor": 0
      },
      "text/plain": [
       "HBox(children=(IntProgress(value=0, max=3835), HTML(value='')))"
      ]
     },
     "metadata": {},
     "output_type": "display_data"
    },
    {
     "name": "stdout",
     "output_type": "stream",
     "text": [
      "[array([311.909, 311.905, 311.871, ..., 311.861, 311.847, 311.867]), array([292.631, 294.226, 318.719, ..., 269.136, 268.605, 269.213])]\n"
     ]
    },
    {
     "data": {
      "application/vnd.jupyter.widget-view+json": {
       "model_id": "8d0649c5a6504504ba2908c2beb753f9",
       "version_major": 2,
       "version_minor": 0
      },
      "text/plain": [
       "HBox(children=(IntProgress(value=0, max=3835), HTML(value='')))"
      ]
     },
     "metadata": {},
     "output_type": "display_data"
    },
    {
     "name": "stdout",
     "output_type": "stream",
     "text": [
      "[176.133 177.556 174.312 ... 174.49  172.93  173.041]\n",
      "[array([176.133, 177.556, 174.312, ..., 174.49 , 172.93 , 173.041]), array([173.463, 173.583, 173.621, ..., 173.726, 173.747, 174.012])]\n"
     ]
    },
    {
     "data": {
      "application/vnd.jupyter.widget-view+json": {
       "model_id": "64fad246aa2741e5a8dd5dd91b3e666b",
       "version_major": 2,
       "version_minor": 0
      },
      "text/plain": [
       "HBox(children=(IntProgress(value=0, max=3835), HTML(value='')))"
      ]
     },
     "metadata": {},
     "output_type": "display_data"
    },
    {
     "name": "stdout",
     "output_type": "stream",
     "text": [
      "[array([176.133, 177.556, 174.312, ..., 174.49 , 172.93 , 173.041]), array([173.463, 173.583, 173.621, ..., 173.726, 173.747, 174.012])]\n"
     ]
    },
    {
     "data": {
      "application/vnd.jupyter.widget-view+json": {
       "model_id": "7d7e9d24427d46ceaf21736b8923fe22",
       "version_major": 2,
       "version_minor": 0
      },
      "text/plain": [
       "HBox(children=(IntProgress(value=0, max=3835), HTML(value='')))"
      ]
     },
     "metadata": {},
     "output_type": "display_data"
    },
    {
     "name": "stdout",
     "output_type": "stream",
     "text": [
      "[156.677 156.785 156.552 ... 156.059 155.997 156.081]\n",
      "[array([156.677, 156.785, 156.552, ..., 156.059, 155.997, 156.081]), array([143.619, 143.875, 143.501, ..., 145.202, 145.396, 145.599])]\n"
     ]
    },
    {
     "data": {
      "application/vnd.jupyter.widget-view+json": {
       "model_id": "57a84aee01b3424baef3fc9884e831ce",
       "version_major": 2,
       "version_minor": 0
      },
      "text/plain": [
       "HBox(children=(IntProgress(value=0, max=3835), HTML(value='')))"
      ]
     },
     "metadata": {},
     "output_type": "display_data"
    },
    {
     "name": "stdout",
     "output_type": "stream",
     "text": [
      "[array([156.677, 156.785, 156.552, ..., 156.059, 155.997, 156.081]), array([143.619, 143.875, 143.501, ..., 145.202, 145.396, 145.599])]\n"
     ]
    },
    {
     "data": {
      "application/vnd.jupyter.widget-view+json": {
       "model_id": "87c1d9120e5941d88d02408a1c8c48ea",
       "version_major": 2,
       "version_minor": 0
      },
      "text/plain": [
       "HBox(children=(IntProgress(value=0, max=3835), HTML(value='')))"
      ]
     },
     "metadata": {},
     "output_type": "display_data"
    },
    {
     "name": "stdout",
     "output_type": "stream",
     "text": [
      "[265.551 265.611 265.936 ... 265.245 265.222 265.217]\n",
      "[array([265.551, 265.611, 265.936, ..., 265.245, 265.222, 265.217]), array([218.502, 217.802, 217.784, ..., 217.797, 218.474, 218.082])]\n"
     ]
    },
    {
     "data": {
      "application/vnd.jupyter.widget-view+json": {
       "model_id": "533c0ca5deca45a1b900992352a5387a",
       "version_major": 2,
       "version_minor": 0
      },
      "text/plain": [
       "HBox(children=(IntProgress(value=0, max=3835), HTML(value='')))"
      ]
     },
     "metadata": {},
     "output_type": "display_data"
    },
    {
     "name": "stdout",
     "output_type": "stream",
     "text": [
      "[array([265.551, 265.611, 265.936, ..., 265.245, 265.222, 265.217]), array([218.502, 217.802, 217.784, ..., 217.797, 218.474, 218.082])]\n"
     ]
    },
    {
     "data": {
      "application/vnd.jupyter.widget-view+json": {
       "model_id": "5fa65eb864514658b520d7efac93091f",
       "version_major": 2,
       "version_minor": 0
      },
      "text/plain": [
       "HBox(children=(IntProgress(value=0, max=3835), HTML(value='')))"
      ]
     },
     "metadata": {},
     "output_type": "display_data"
    },
    {
     "name": "stdout",
     "output_type": "stream",
     "text": [
      "[201.576 202.26  201.486 ... 200.933 202.96  201.258]\n",
      "[array([201.576, 202.26 , 201.486, ..., 200.933, 202.96 , 201.258]), array([199.157, 196.396, 197.836, ..., 195.25 , 197.134, 195.194])]\n"
     ]
    },
    {
     "data": {
      "application/vnd.jupyter.widget-view+json": {
       "model_id": "cab72a2fc6af4c1395b77b628f548fb2",
       "version_major": 2,
       "version_minor": 0
      },
      "text/plain": [
       "HBox(children=(IntProgress(value=0, max=3835), HTML(value='')))"
      ]
     },
     "metadata": {},
     "output_type": "display_data"
    },
    {
     "name": "stdout",
     "output_type": "stream",
     "text": [
      "[array([201.576, 202.26 , 201.486, ..., 200.933, 202.96 , 201.258]), array([199.157, 196.396, 197.836, ..., 195.25 , 197.134, 195.194])]\n"
     ]
    },
    {
     "data": {
      "application/vnd.jupyter.widget-view+json": {
       "model_id": "8bb9dc493b1b41358a2813a80c6ebc35",
       "version_major": 2,
       "version_minor": 0
      },
      "text/plain": [
       "HBox(children=(IntProgress(value=0, max=3835), HTML(value='')))"
      ]
     },
     "metadata": {},
     "output_type": "display_data"
    },
    {
     "name": "stdout",
     "output_type": "stream",
     "text": [
      "[174.356 176.268 177.524 ... 172.618 174.373 172.756]\n",
      "[array([174.356, 176.268, 177.524, ..., 172.618, 174.373, 172.756]), array([173.571, 173.598, 173.523, ..., 173.678, 173.652, 173.658])]\n"
     ]
    },
    {
     "data": {
      "application/vnd.jupyter.widget-view+json": {
       "model_id": "b519b5804f604929b2ec6ee3d76597dd",
       "version_major": 2,
       "version_minor": 0
      },
      "text/plain": [
       "HBox(children=(IntProgress(value=0, max=3835), HTML(value='')))"
      ]
     },
     "metadata": {},
     "output_type": "display_data"
    },
    {
     "name": "stdout",
     "output_type": "stream",
     "text": [
      "[array([174.356, 176.268, 177.524, ..., 172.618, 174.373, 172.756]), array([173.571, 173.598, 173.523, ..., 173.678, 173.652, 173.658])]\n"
     ]
    },
    {
     "data": {
      "application/vnd.jupyter.widget-view+json": {
       "model_id": "d9595b9718c141b8be8ef9037010bc56",
       "version_major": 2,
       "version_minor": 0
      },
      "text/plain": [
       "HBox(children=(IntProgress(value=0, max=3835), HTML(value='')))"
      ]
     },
     "metadata": {},
     "output_type": "display_data"
    },
    {
     "name": "stdout",
     "output_type": "stream",
     "text": [
      "[155.773 155.823 155.692 ... 155.823 155.818 155.807]\n",
      "[array([155.773, 155.823, 155.692, ..., 155.823, 155.818, 155.807]), array([151.619, 152.44 , 151.336, ..., 152.461, 152.243, 152.401])]\n"
     ]
    },
    {
     "data": {
      "application/vnd.jupyter.widget-view+json": {
       "model_id": "e00eb3754fc046859e3d872f037c6d62",
       "version_major": 2,
       "version_minor": 0
      },
      "text/plain": [
       "HBox(children=(IntProgress(value=0, max=3835), HTML(value='')))"
      ]
     },
     "metadata": {},
     "output_type": "display_data"
    },
    {
     "name": "stdout",
     "output_type": "stream",
     "text": [
      "[array([155.773, 155.823, 155.692, ..., 155.823, 155.818, 155.807]), array([151.619, 152.44 , 151.336, ..., 152.461, 152.243, 152.401])]\n"
     ]
    },
    {
     "data": {
      "application/vnd.jupyter.widget-view+json": {
       "model_id": "41cadd829d6e4644bc5c82b6b188d1e2",
       "version_major": 2,
       "version_minor": 0
      },
      "text/plain": [
       "HBox(children=(IntProgress(value=0, max=3835), HTML(value='')))"
      ]
     },
     "metadata": {},
     "output_type": "display_data"
    },
    {
     "name": "stdout",
     "output_type": "stream",
     "text": [
      "[111.714 110.275 109.527 ... 114.379 111.779 112.105]\n",
      "[array([111.714, 110.275, 109.527, ..., 114.379, 111.779, 112.105]), array([111.1  , 111.175, 111.096, ..., 111.942, 111.586, 111.943])]\n"
     ]
    },
    {
     "data": {
      "application/vnd.jupyter.widget-view+json": {
       "model_id": "5c2a1d15600f40629ec22bdbe932d816",
       "version_major": 2,
       "version_minor": 0
      },
      "text/plain": [
       "HBox(children=(IntProgress(value=0, max=3835), HTML(value='')))"
      ]
     },
     "metadata": {},
     "output_type": "display_data"
    },
    {
     "name": "stdout",
     "output_type": "stream",
     "text": [
      "[array([111.714, 110.275, 109.527, ..., 114.379, 111.779, 112.105]), array([111.1  , 111.175, 111.096, ..., 111.942, 111.586, 111.943])]\n"
     ]
    },
    {
     "data": {
      "application/vnd.jupyter.widget-view+json": {
       "model_id": "c371528023604ba58b09f67cb7641883",
       "version_major": 2,
       "version_minor": 0
      },
      "text/plain": [
       "HBox(children=(IntProgress(value=0, max=3835), HTML(value='')))"
      ]
     },
     "metadata": {},
     "output_type": "display_data"
    },
    {
     "name": "stdout",
     "output_type": "stream",
     "text": [
      "[80.227 81.368 80.405 ... 88.57  87.626 88.515]\n",
      "[array([80.227, 81.368, 80.405, ..., 88.57 , 87.626, 88.515]), array([ 98.141,  99.171, 123.449, ...,  74.607,  74.174,  74.129])]\n"
     ]
    },
    {
     "data": {
      "application/vnd.jupyter.widget-view+json": {
       "model_id": "5616dfac7be5474ab4eb41906b8fa0d5",
       "version_major": 2,
       "version_minor": 0
      },
      "text/plain": [
       "HBox(children=(IntProgress(value=0, max=3835), HTML(value='')))"
      ]
     },
     "metadata": {},
     "output_type": "display_data"
    },
    {
     "name": "stdout",
     "output_type": "stream",
     "text": [
      "[array([80.227, 81.368, 80.405, ..., 88.57 , 87.626, 88.515]), array([ 98.141,  99.171, 123.449, ...,  74.607,  74.174,  74.129])]\n"
     ]
    },
    {
     "data": {
      "application/vnd.jupyter.widget-view+json": {
       "model_id": "5d5dc6be7c39482fa47b1efc6e53b4f7",
       "version_major": 2,
       "version_minor": 0
      },
      "text/plain": [
       "HBox(children=(IntProgress(value=0, max=3835), HTML(value='')))"
      ]
     },
     "metadata": {},
     "output_type": "display_data"
    },
    {
     "name": "stdout",
     "output_type": "stream",
     "text": [
      "[216.686 216.696 216.668 ... 230.635 230.623 230.658]\n",
      "[array([216.686, 216.696, 216.668, ..., 230.635, 230.623, 230.658]), array([203.703, 204.401, 228.911, ..., 179.146, 180.857, 178.797])]\n"
     ]
    },
    {
     "data": {
      "application/vnd.jupyter.widget-view+json": {
       "model_id": "dd53acaef0fe425d9ae00e636ca6b1ee",
       "version_major": 2,
       "version_minor": 0
      },
      "text/plain": [
       "HBox(children=(IntProgress(value=0, max=3835), HTML(value='')))"
      ]
     },
     "metadata": {},
     "output_type": "display_data"
    },
    {
     "name": "stdout",
     "output_type": "stream",
     "text": [
      "[array([216.686, 216.696, 216.668, ..., 230.635, 230.623, 230.658]), array([203.703, 204.401, 228.911, ..., 179.146, 180.857, 178.797])]\n"
     ]
    },
    {
     "data": {
      "application/vnd.jupyter.widget-view+json": {
       "model_id": "773943994ed14de3b33044b7c5e04b71",
       "version_major": 2,
       "version_minor": 0
      },
      "text/plain": [
       "HBox(children=(IntProgress(value=0, max=3835), HTML(value='')))"
      ]
     },
     "metadata": {},
     "output_type": "display_data"
    },
    {
     "name": "stdout",
     "output_type": "stream",
     "text": [
      "[197.522 200.391 198.258 ... 198.094 199.577 197.478]\n",
      "[array([197.522, 200.391, 198.258, ..., 198.094, 199.577, 197.478]), array([143.722, 141.44 , 144.729, ..., 144.018, 144.257, 142.039])]\n"
     ]
    },
    {
     "data": {
      "application/vnd.jupyter.widget-view+json": {
       "model_id": "cae9ea0351564805acbc8c0f810cb434",
       "version_major": 2,
       "version_minor": 0
      },
      "text/plain": [
       "HBox(children=(IntProgress(value=0, max=3835), HTML(value='')))"
      ]
     },
     "metadata": {},
     "output_type": "display_data"
    },
    {
     "name": "stdout",
     "output_type": "stream",
     "text": [
      "[array([197.522, 200.391, 198.258, ..., 198.094, 199.577, 197.478]), array([143.722, 141.44 , 144.729, ..., 144.018, 144.257, 142.039])]\n"
     ]
    },
    {
     "data": {
      "application/vnd.jupyter.widget-view+json": {
       "model_id": "e00382ea40de424693b53f214d356c9c",
       "version_major": 2,
       "version_minor": 0
      },
      "text/plain": [
       "HBox(children=(IntProgress(value=0, max=3835), HTML(value='')))"
      ]
     },
     "metadata": {},
     "output_type": "display_data"
    },
    {
     "name": "stdout",
     "output_type": "stream",
     "text": [
      "[208.439 208.469 209.375 ... 203.188 202.282 202.277]\n",
      "[array([208.439, 208.469, 209.375, ..., 203.188, 202.282, 202.277]), array([185.315, 189.022, 213.424, ..., 147.387, 147.517, 146.987])]\n"
     ]
    },
    {
     "data": {
      "application/vnd.jupyter.widget-view+json": {
       "model_id": "c9053ae1c472492bb4c505bd739ce7b6",
       "version_major": 2,
       "version_minor": 0
      },
      "text/plain": [
       "HBox(children=(IntProgress(value=0, max=3835), HTML(value='')))"
      ]
     },
     "metadata": {},
     "output_type": "display_data"
    },
    {
     "name": "stdout",
     "output_type": "stream",
     "text": [
      "[array([208.439, 208.469, 209.375, ..., 203.188, 202.282, 202.277]), array([185.315, 189.022, 213.424, ..., 147.387, 147.517, 146.987])]\n"
     ]
    },
    {
     "data": {
      "application/vnd.jupyter.widget-view+json": {
       "model_id": "dc019878ed4e407c9cf0fd4ceaf10a39",
       "version_major": 2,
       "version_minor": 0
      },
      "text/plain": [
       "HBox(children=(IntProgress(value=0, max=3835), HTML(value='')))"
      ]
     },
     "metadata": {},
     "output_type": "display_data"
    },
    {
     "name": "stdout",
     "output_type": "stream",
     "text": [
      "[180.875 180.878 180.884 ... 181.778 181.79  181.812]\n",
      "[array([180.875, 180.878, 180.884, ..., 181.778, 181.79 , 181.812]), array([182.917, 182.958, 182.703, ..., 184.458, 184.991, 184.689])]\n"
     ]
    },
    {
     "data": {
      "application/vnd.jupyter.widget-view+json": {
       "model_id": "9bc729e8917d4051b2349814293b872a",
       "version_major": 2,
       "version_minor": 0
      },
      "text/plain": [
       "HBox(children=(IntProgress(value=0, max=3835), HTML(value='')))"
      ]
     },
     "metadata": {},
     "output_type": "display_data"
    },
    {
     "name": "stdout",
     "output_type": "stream",
     "text": [
      "[array([180.875, 180.878, 180.884, ..., 181.778, 181.79 , 181.812]), array([182.917, 182.958, 182.703, ..., 184.458, 184.991, 184.689])]\n"
     ]
    },
    {
     "data": {
      "application/vnd.jupyter.widget-view+json": {
       "model_id": "157301e4e8fa42489398644f2d32b6e4",
       "version_major": 2,
       "version_minor": 0
      },
      "text/plain": [
       "HBox(children=(IntProgress(value=0, max=3835), HTML(value='')))"
      ]
     },
     "metadata": {},
     "output_type": "display_data"
    },
    {
     "name": "stdout",
     "output_type": "stream",
     "text": [
      "[178.002 177.67  177.687 ... 178.167 178.349 178.028]\n",
      "[array([178.002, 177.67 , 177.687, ..., 178.167, 178.349, 178.028]), array([177.327, 177.306, 177.365, ..., 178.23 , 178.367, 178.214])]\n"
     ]
    },
    {
     "data": {
      "application/vnd.jupyter.widget-view+json": {
       "model_id": "f772f11ece004564bea812c977a5d475",
       "version_major": 2,
       "version_minor": 0
      },
      "text/plain": [
       "HBox(children=(IntProgress(value=0, max=3835), HTML(value='')))"
      ]
     },
     "metadata": {},
     "output_type": "display_data"
    },
    {
     "name": "stdout",
     "output_type": "stream",
     "text": [
      "[array([178.002, 177.67 , 177.687, ..., 178.167, 178.349, 178.028]), array([177.327, 177.306, 177.365, ..., 178.23 , 178.367, 178.214])]\n"
     ]
    },
    {
     "data": {
      "application/vnd.jupyter.widget-view+json": {
       "model_id": "85736c72d13540ec9becab2a08b30b69",
       "version_major": 2,
       "version_minor": 0
      },
      "text/plain": [
       "HBox(children=(IntProgress(value=0, max=3835), HTML(value='')))"
      ]
     },
     "metadata": {},
     "output_type": "display_data"
    },
    {
     "name": "stdout",
     "output_type": "stream",
     "text": [
      "[323.44  323.357 323.439 ... 323.364 323.315 323.443]\n",
      "[array([323.44 , 323.357, 323.439, ..., 323.364, 323.315, 323.443]), array([318.843, 319.872, 318.643, ..., 318.74 , 318.945, 318.983])]\n"
     ]
    },
    {
     "data": {
      "application/vnd.jupyter.widget-view+json": {
       "model_id": "5dfed35871ba47419b68101954fb9df6",
       "version_major": 2,
       "version_minor": 0
      },
      "text/plain": [
       "HBox(children=(IntProgress(value=0, max=3835), HTML(value='')))"
      ]
     },
     "metadata": {},
     "output_type": "display_data"
    },
    {
     "name": "stdout",
     "output_type": "stream",
     "text": [
      "[array([323.44 , 323.357, 323.439, ..., 323.364, 323.315, 323.443]), array([318.843, 319.872, 318.643, ..., 318.74 , 318.945, 318.983])]\n"
     ]
    },
    {
     "data": {
      "application/vnd.jupyter.widget-view+json": {
       "model_id": "19442169e7644e2098f99a00b40af222",
       "version_major": 2,
       "version_minor": 0
      },
      "text/plain": [
       "HBox(children=(IntProgress(value=0, max=3835), HTML(value='')))"
      ]
     },
     "metadata": {},
     "output_type": "display_data"
    },
    {
     "name": "stdout",
     "output_type": "stream",
     "text": [
      "[163.737 163.839 163.781 ... 164.842 164.096 164.225]\n",
      "[array([163.737, 163.839, 163.781, ..., 164.842, 164.096, 164.225]), array([144.604, 144.719, 144.666, ..., 145.46 , 144.853, 145.223])]\n"
     ]
    },
    {
     "data": {
      "application/vnd.jupyter.widget-view+json": {
       "model_id": "05549a98705f45af91e05b793afc2642",
       "version_major": 2,
       "version_minor": 0
      },
      "text/plain": [
       "HBox(children=(IntProgress(value=0, max=3835), HTML(value='')))"
      ]
     },
     "metadata": {},
     "output_type": "display_data"
    },
    {
     "name": "stdout",
     "output_type": "stream",
     "text": [
      "[array([163.737, 163.839, 163.781, ..., 164.842, 164.096, 164.225]), array([144.604, 144.719, 144.666, ..., 145.46 , 144.853, 145.223])]\n"
     ]
    },
    {
     "data": {
      "application/vnd.jupyter.widget-view+json": {
       "model_id": "5f0fa5476d0447cdbe649c480ae22e55",
       "version_major": 2,
       "version_minor": 0
      },
      "text/plain": [
       "HBox(children=(IntProgress(value=0, max=3835), HTML(value='')))"
      ]
     },
     "metadata": {},
     "output_type": "display_data"
    },
    {
     "name": "stdout",
     "output_type": "stream",
     "text": [
      "[171.233 171.157 171.08  ... 171.012 171.083 171.138]\n",
      "[array([171.233, 171.157, 171.08 , ..., 171.012, 171.083, 171.138]), array([164.387, 164.054, 164.384, ..., 164.111, 165.69 , 164.074])]\n"
     ]
    },
    {
     "data": {
      "application/vnd.jupyter.widget-view+json": {
       "model_id": "b251ab2c1a3446d286c003a247544623",
       "version_major": 2,
       "version_minor": 0
      },
      "text/plain": [
       "HBox(children=(IntProgress(value=0, max=3835), HTML(value='')))"
      ]
     },
     "metadata": {},
     "output_type": "display_data"
    },
    {
     "name": "stdout",
     "output_type": "stream",
     "text": [
      "[array([171.233, 171.157, 171.08 , ..., 171.012, 171.083, 171.138]), array([164.387, 164.054, 164.384, ..., 164.111, 165.69 , 164.074])]\n"
     ]
    },
    {
     "data": {
      "application/vnd.jupyter.widget-view+json": {
       "model_id": "f981a0dc0f0a42508a24de5c90081953",
       "version_major": 2,
       "version_minor": 0
      },
      "text/plain": [
       "HBox(children=(IntProgress(value=0, max=3835), HTML(value='')))"
      ]
     },
     "metadata": {},
     "output_type": "display_data"
    },
    {
     "name": "stdout",
     "output_type": "stream",
     "text": [
      "[101.714 101.653 101.62  ... 103.951 103.946 103.962]\n",
      "[array([101.714, 101.653, 101.62 , ..., 103.951, 103.946, 103.962]), array([85.475, 85.414, 85.567, ..., 85.574, 85.506, 85.699])]\n"
     ]
    },
    {
     "data": {
      "application/vnd.jupyter.widget-view+json": {
       "model_id": "56f06f3ee9334bf8bd5dc6159d10a299",
       "version_major": 2,
       "version_minor": 0
      },
      "text/plain": [
       "HBox(children=(IntProgress(value=0, max=3835), HTML(value='')))"
      ]
     },
     "metadata": {},
     "output_type": "display_data"
    },
    {
     "name": "stdout",
     "output_type": "stream",
     "text": [
      "[array([101.714, 101.653, 101.62 , ..., 103.951, 103.946, 103.962]), array([85.475, 85.414, 85.567, ..., 85.574, 85.506, 85.699])]\n"
     ]
    },
    {
     "data": {
      "application/vnd.jupyter.widget-view+json": {
       "model_id": "b35f113ac2ca418b81c340e0287ff92f",
       "version_major": 2,
       "version_minor": 0
      },
      "text/plain": [
       "HBox(children=(IntProgress(value=0, max=3835), HTML(value='')))"
      ]
     },
     "metadata": {},
     "output_type": "display_data"
    },
    {
     "name": "stdout",
     "output_type": "stream",
     "text": [
      "[175.947 175.88  175.999 ... 175.979 176.43  175.954]\n",
      "[array([175.947, 175.88 , 175.999, ..., 175.979, 176.43 , 175.954]), array([145.939, 145.891, 145.768, ..., 185.02 , 185.756, 186.082])]\n"
     ]
    },
    {
     "data": {
      "application/vnd.jupyter.widget-view+json": {
       "model_id": "aab656df20834b53b62acfdfe6719ac6",
       "version_major": 2,
       "version_minor": 0
      },
      "text/plain": [
       "HBox(children=(IntProgress(value=0, max=3835), HTML(value='')))"
      ]
     },
     "metadata": {},
     "output_type": "display_data"
    },
    {
     "name": "stdout",
     "output_type": "stream",
     "text": [
      "[array([175.947, 175.88 , 175.999, ..., 175.979, 176.43 , 175.954]), array([145.939, 145.891, 145.768, ..., 185.02 , 185.756, 186.082])]\n"
     ]
    },
    {
     "data": {
      "application/vnd.jupyter.widget-view+json": {
       "model_id": "4cde32cb941c40fcaf452e21bbe4aa92",
       "version_major": 2,
       "version_minor": 0
      },
      "text/plain": [
       "HBox(children=(IntProgress(value=0, max=3835), HTML(value='')))"
      ]
     },
     "metadata": {},
     "output_type": "display_data"
    },
    {
     "name": "stdout",
     "output_type": "stream",
     "text": [
      "[154.672 153.596 154.438 ... 156.816 156.843 157.475]\n",
      "[array([154.672, 153.596, 154.438, ..., 156.816, 156.843, 157.475]), array([95.67 , 95.788, 95.326, ..., 95.864, 96.689, 96.68 ])]\n"
     ]
    },
    {
     "data": {
      "application/vnd.jupyter.widget-view+json": {
       "model_id": "d674cf8dda93419cbad9e79431860ba2",
       "version_major": 2,
       "version_minor": 0
      },
      "text/plain": [
       "HBox(children=(IntProgress(value=0, max=3835), HTML(value='')))"
      ]
     },
     "metadata": {},
     "output_type": "display_data"
    },
    {
     "name": "stdout",
     "output_type": "stream",
     "text": [
      "[array([154.672, 153.596, 154.438, ..., 156.816, 156.843, 157.475]), array([95.67 , 95.788, 95.326, ..., 95.864, 96.689, 96.68 ])]\n"
     ]
    },
    {
     "data": {
      "application/vnd.jupyter.widget-view+json": {
       "model_id": "162fb75287924155b9e7e4f428d15109",
       "version_major": 2,
       "version_minor": 0
      },
      "text/plain": [
       "HBox(children=(IntProgress(value=0, max=3835), HTML(value='')))"
      ]
     },
     "metadata": {},
     "output_type": "display_data"
    },
    {
     "name": "stdout",
     "output_type": "stream",
     "text": [
      "[243.194 243.044 242.962 ... 274.221 274.1   274.367]\n",
      "[array([243.194, 243.044, 242.962, ..., 274.221, 274.1  , 274.367]), array([233.447, 233.614, 233.23 , ..., 272.99 , 277.316, 272.079])]\n"
     ]
    },
    {
     "data": {
      "application/vnd.jupyter.widget-view+json": {
       "model_id": "e3aee93d74ab4032b08496c07382f22d",
       "version_major": 2,
       "version_minor": 0
      },
      "text/plain": [
       "HBox(children=(IntProgress(value=0, max=3835), HTML(value='')))"
      ]
     },
     "metadata": {},
     "output_type": "display_data"
    },
    {
     "name": "stdout",
     "output_type": "stream",
     "text": [
      "[array([243.194, 243.044, 242.962, ..., 274.221, 274.1  , 274.367]), array([233.447, 233.614, 233.23 , ..., 272.99 , 277.316, 272.079])]\n"
     ]
    },
    {
     "data": {
      "application/vnd.jupyter.widget-view+json": {
       "model_id": "cba6550dedca42d4acd1f4dee9bac127",
       "version_major": 2,
       "version_minor": 0
      },
      "text/plain": [
       "HBox(children=(IntProgress(value=0, max=3835), HTML(value='')))"
      ]
     },
     "metadata": {},
     "output_type": "display_data"
    },
    {
     "name": "stdout",
     "output_type": "stream",
     "text": [
      "[232.876 232.854 232.899 ... 229.012 228.897 229.032]\n",
      "[array([232.876, 232.854, 232.899, ..., 229.012, 228.897, 229.032]), array([231.161, 230.769, 230.356, ..., 233.192, 233.196, 233.276])]\n"
     ]
    },
    {
     "data": {
      "application/vnd.jupyter.widget-view+json": {
       "model_id": "88cebe615ea449f995df27cc32ef6d3e",
       "version_major": 2,
       "version_minor": 0
      },
      "text/plain": [
       "HBox(children=(IntProgress(value=0, max=3835), HTML(value='')))"
      ]
     },
     "metadata": {},
     "output_type": "display_data"
    },
    {
     "name": "stdout",
     "output_type": "stream",
     "text": [
      "[array([232.876, 232.854, 232.899, ..., 229.012, 228.897, 229.032]), array([231.161, 230.769, 230.356, ..., 233.192, 233.196, 233.276])]\n"
     ]
    },
    {
     "data": {
      "application/vnd.jupyter.widget-view+json": {
       "model_id": "4bf683400c7544d0a239a48d6d63bc09",
       "version_major": 2,
       "version_minor": 0
      },
      "text/plain": [
       "HBox(children=(IntProgress(value=0, max=3835), HTML(value='')))"
      ]
     },
     "metadata": {},
     "output_type": "display_data"
    },
    {
     "name": "stdout",
     "output_type": "stream",
     "text": [
      "[178.14  178.05  178.07  ... 163.243 163.263 163.209]\n",
      "[array([178.14 , 178.05 , 178.07 , ..., 163.243, 163.263, 163.209]), array([169.501, 169.842, 169.592, ..., 208.756, 209.344, 209.249])]\n"
     ]
    },
    {
     "data": {
      "application/vnd.jupyter.widget-view+json": {
       "model_id": "7c6a5552c5234fdfb63893aaa28d01c5",
       "version_major": 2,
       "version_minor": 0
      },
      "text/plain": [
       "HBox(children=(IntProgress(value=0, max=3835), HTML(value='')))"
      ]
     },
     "metadata": {},
     "output_type": "display_data"
    },
    {
     "name": "stdout",
     "output_type": "stream",
     "text": [
      "[array([178.14 , 178.05 , 178.07 , ..., 163.243, 163.263, 163.209]), array([169.501, 169.842, 169.592, ..., 208.756, 209.344, 209.249])]\n"
     ]
    },
    {
     "data": {
      "application/vnd.jupyter.widget-view+json": {
       "model_id": "6ad0cd02389a4d88a8e885c315225fed",
       "version_major": 2,
       "version_minor": 0
      },
      "text/plain": [
       "HBox(children=(IntProgress(value=0, max=3835), HTML(value='')))"
      ]
     },
     "metadata": {},
     "output_type": "display_data"
    },
    {
     "name": "stdout",
     "output_type": "stream",
     "text": [
      "[208.232 208.23  208.259 ... 209.514 209.542 209.537]\n",
      "[array([208.232, 208.23 , 208.259, ..., 209.514, 209.542, 209.537]), array([162.718, 163.626, 162.393, ..., 162.427, 162.421, 162.537])]\n"
     ]
    },
    {
     "data": {
      "application/vnd.jupyter.widget-view+json": {
       "model_id": "43885b790f9f49da9fddf448bcf4a7e2",
       "version_major": 2,
       "version_minor": 0
      },
      "text/plain": [
       "HBox(children=(IntProgress(value=0, max=3835), HTML(value='')))"
      ]
     },
     "metadata": {},
     "output_type": "display_data"
    },
    {
     "name": "stdout",
     "output_type": "stream",
     "text": [
      "[array([208.232, 208.23 , 208.259, ..., 209.514, 209.542, 209.537]), array([162.718, 163.626, 162.393, ..., 162.427, 162.421, 162.537])]\n"
     ]
    },
    {
     "data": {
      "application/vnd.jupyter.widget-view+json": {
       "model_id": "4e16bac0ddfc4c53b40775fc11265f70",
       "version_major": 2,
       "version_minor": 0
      },
      "text/plain": [
       "HBox(children=(IntProgress(value=0, max=3835), HTML(value='')))"
      ]
     },
     "metadata": {},
     "output_type": "display_data"
    },
    {
     "name": "stdout",
     "output_type": "stream",
     "text": [
      "[249.121 249.061 249.072 ... 247.613 247.601 247.675]\n",
      "[array([249.121, 249.061, 249.072, ..., 247.613, 247.601, 247.675]), array([247.214, 246.946, 247.162, ..., 248.791, 250.347, 248.803])]\n"
     ]
    },
    {
     "data": {
      "application/vnd.jupyter.widget-view+json": {
       "model_id": "01ff86f4f3ce4c558d55b3ba1abfe5ff",
       "version_major": 2,
       "version_minor": 0
      },
      "text/plain": [
       "HBox(children=(IntProgress(value=0, max=3835), HTML(value='')))"
      ]
     },
     "metadata": {},
     "output_type": "display_data"
    },
    {
     "name": "stdout",
     "output_type": "stream",
     "text": [
      "[array([249.121, 249.061, 249.072, ..., 247.613, 247.601, 247.675]), array([247.214, 246.946, 247.162, ..., 248.791, 250.347, 248.803])]\n"
     ]
    },
    {
     "data": {
      "application/vnd.jupyter.widget-view+json": {
       "model_id": "ad754ce6a01449eaa760145214e4859e",
       "version_major": 2,
       "version_minor": 0
      },
      "text/plain": [
       "HBox(children=(IntProgress(value=0, max=3835), HTML(value='')))"
      ]
     },
     "metadata": {},
     "output_type": "display_data"
    },
    {
     "name": "stdout",
     "output_type": "stream",
     "text": [
      "[177.995 177.751 177.597 ... 178.152 177.965 178.117]\n",
      "[array([177.995, 177.751, 177.597, ..., 178.152, 177.965, 178.117]), array([177.669, 177.546, 177.418, ..., 177.588, 178.076, 177.991])]\n"
     ]
    },
    {
     "data": {
      "application/vnd.jupyter.widget-view+json": {
       "model_id": "8abbabd33e5a4aed880dd527ab56c5e9",
       "version_major": 2,
       "version_minor": 0
      },
      "text/plain": [
       "HBox(children=(IntProgress(value=0, max=3835), HTML(value='')))"
      ]
     },
     "metadata": {},
     "output_type": "display_data"
    },
    {
     "name": "stdout",
     "output_type": "stream",
     "text": [
      "[array([177.995, 177.751, 177.597, ..., 178.152, 177.965, 178.117]), array([177.669, 177.546, 177.418, ..., 177.588, 178.076, 177.991])]\n"
     ]
    },
    {
     "data": {
      "application/vnd.jupyter.widget-view+json": {
       "model_id": "4ce26b54bd6f46e8b4aa807029a1d94b",
       "version_major": 2,
       "version_minor": 0
      },
      "text/plain": [
       "HBox(children=(IntProgress(value=0, max=3835), HTML(value='')))"
      ]
     },
     "metadata": {},
     "output_type": "display_data"
    },
    {
     "name": "stdout",
     "output_type": "stream",
     "text": [
      "[291.456 295.14  291.956 ... 290.73  291.316 294.231]\n",
      "[array([291.456, 295.14 , 291.956, ..., 290.73 , 291.316, 294.231]), array([304.241, 303.242, 304.77 , ..., 287.711, 288.579, 287.764])]\n"
     ]
    },
    {
     "data": {
      "application/vnd.jupyter.widget-view+json": {
       "model_id": "eb6a803cedc5463e8a1266ffe3135600",
       "version_major": 2,
       "version_minor": 0
      },
      "text/plain": [
       "HBox(children=(IntProgress(value=0, max=3835), HTML(value='')))"
      ]
     },
     "metadata": {},
     "output_type": "display_data"
    },
    {
     "name": "stdout",
     "output_type": "stream",
     "text": [
      "[array([291.456, 295.14 , 291.956, ..., 290.73 , 291.316, 294.231]), array([304.241, 303.242, 304.77 , ..., 287.711, 288.579, 287.764])]\n"
     ]
    },
    {
     "data": {
      "application/vnd.jupyter.widget-view+json": {
       "model_id": "dbc1c3ef0a6f4bebb1c9513f739f297d",
       "version_major": 2,
       "version_minor": 0
      },
      "text/plain": [
       "HBox(children=(IntProgress(value=0, max=3835), HTML(value='')))"
      ]
     },
     "metadata": {},
     "output_type": "display_data"
    },
    {
     "name": "stdout",
     "output_type": "stream",
     "text": [
      "[137.166 137.347 137.398 ... 136.406 136.066 136.401]\n",
      "[array([137.166, 137.347, 137.398, ..., 136.406, 136.066, 136.401]), array([126.54 , 126.823, 127.81 , ..., 126.845, 127.075, 127.299])]\n"
     ]
    },
    {
     "data": {
      "application/vnd.jupyter.widget-view+json": {
       "model_id": "ecbdce5265a34c9e8f49edd35bd103ab",
       "version_major": 2,
       "version_minor": 0
      },
      "text/plain": [
       "HBox(children=(IntProgress(value=0, max=3835), HTML(value='')))"
      ]
     },
     "metadata": {},
     "output_type": "display_data"
    },
    {
     "name": "stdout",
     "output_type": "stream",
     "text": [
      "[array([137.166, 137.347, 137.398, ..., 136.406, 136.066, 136.401]), array([126.54 , 126.823, 127.81 , ..., 126.845, 127.075, 127.299])]\n"
     ]
    },
    {
     "data": {
      "application/vnd.jupyter.widget-view+json": {
       "model_id": "f25ca942fe1e454093ee7a3cc0640fa5",
       "version_major": 2,
       "version_minor": 0
      },
      "text/plain": [
       "HBox(children=(IntProgress(value=0, max=3835), HTML(value='')))"
      ]
     },
     "metadata": {},
     "output_type": "display_data"
    },
    {
     "name": "stdout",
     "output_type": "stream",
     "text": [
      "[201.374 200.98  200.932 ... 201.828 201.018 201.577]\n",
      "[array([201.374, 200.98 , 200.932, ..., 201.828, 201.018, 201.577]), array([197.25 , 201.157, 201.171, ..., 196.185, 200.869, 202.79 ])]\n"
     ]
    },
    {
     "data": {
      "application/vnd.jupyter.widget-view+json": {
       "model_id": "f6f83465a07543e29775a917fd6f6b69",
       "version_major": 2,
       "version_minor": 0
      },
      "text/plain": [
       "HBox(children=(IntProgress(value=0, max=3835), HTML(value='')))"
      ]
     },
     "metadata": {},
     "output_type": "display_data"
    },
    {
     "name": "stdout",
     "output_type": "stream",
     "text": [
      "[array([201.374, 200.98 , 200.932, ..., 201.828, 201.018, 201.577]), array([197.25 , 201.157, 201.171, ..., 196.185, 200.869, 202.79 ])]\n"
     ]
    },
    {
     "data": {
      "application/vnd.jupyter.widget-view+json": {
       "model_id": "56e79778a8604f0f9e04e1b7c9413cc1",
       "version_major": 2,
       "version_minor": 0
      },
      "text/plain": [
       "HBox(children=(IntProgress(value=0, max=3835), HTML(value='')))"
      ]
     },
     "metadata": {},
     "output_type": "display_data"
    },
    {
     "name": "stdout",
     "output_type": "stream",
     "text": [
      "[161.324 161.316 161.309 ... 161.328 161.317 161.368]\n",
      "[array([161.324, 161.316, 161.309, ..., 161.328, 161.317, 161.368]), array([137.511, 138.522, 137.292, ..., 137.391, 137.348, 137.451])]\n"
     ]
    },
    {
     "data": {
      "application/vnd.jupyter.widget-view+json": {
       "model_id": "d4d3f89715ef40f192d10eb3c637e6ca",
       "version_major": 2,
       "version_minor": 0
      },
      "text/plain": [
       "HBox(children=(IntProgress(value=0, max=3835), HTML(value='')))"
      ]
     },
     "metadata": {},
     "output_type": "display_data"
    },
    {
     "name": "stdout",
     "output_type": "stream",
     "text": [
      "[array([161.324, 161.316, 161.309, ..., 161.328, 161.317, 161.368]), array([137.511, 138.522, 137.292, ..., 137.391, 137.348, 137.451])]\n"
     ]
    },
    {
     "data": {
      "application/vnd.jupyter.widget-view+json": {
       "model_id": "0bb5698f12274b999e90e37880041337",
       "version_major": 2,
       "version_minor": 0
      },
      "text/plain": [
       "HBox(children=(IntProgress(value=0, max=3835), HTML(value='')))"
      ]
     },
     "metadata": {},
     "output_type": "display_data"
    },
    {
     "name": "stdout",
     "output_type": "stream",
     "text": [
      "[189.69  189.097 189.202 ... 188.344 188.334 188.306]\n",
      "[array([189.69 , 189.097, 189.202, ..., 188.344, 188.334, 188.306]), array([203.035, 204.118, 228.462, ..., 178.752, 179.101, 179.855])]\n"
     ]
    },
    {
     "data": {
      "application/vnd.jupyter.widget-view+json": {
       "model_id": "f62d1ecfb57b44a79bc625eff27ad9f5",
       "version_major": 2,
       "version_minor": 0
      },
      "text/plain": [
       "HBox(children=(IntProgress(value=0, max=3835), HTML(value='')))"
      ]
     },
     "metadata": {},
     "output_type": "display_data"
    },
    {
     "name": "stdout",
     "output_type": "stream",
     "text": [
      "Failed to simulate Static Route 0 / Never Measure\n",
      "Failed in nopython mode pipeline (step: nopython frontend)\n",
      "Invalid use of Function(<built-in function matmul>) with argument(s) of type(s): (array(float64, 2d, F), array(complex128, 1d, C))\n",
      " * parameterized\n",
      "In definition 0:\n",
      "    TypingError: '@' arguments must all have the same dtype\n",
      "    raised from /home/marten/.local/share/virtualenvs/INFOCOM2020-master-ZAQXgKmv/lib/python3.7/site-packages/numba/typing/npydecl.py:970\n",
      "In definition 1:\n",
      "    TypingError: '@' arguments must all have the same dtype\n",
      "    raised from /home/marten/.local/share/virtualenvs/INFOCOM2020-master-ZAQXgKmv/lib/python3.7/site-packages/numba/typing/npydecl.py:970\n",
      "This error is usually caused by passing an argument of a type that is unsupported by the named function.\n",
      "[1] During: typing of intrinsic-call at ../lib/jit.py (42)\n",
      "\n",
      "File \"../lib/jit.py\", line 42:\n",
      "def jit_hmm_predict(transmat, belief):\n",
      "    return transmat.T @ belief\n",
      "    ^\n",
      "\n",
      "This is not usually a problem with Numba itself but instead often caused by\n",
      "the use of unsupported features or an issue in resolving types.\n",
      "\n",
      "To see Python/NumPy features supported by the latest release of Numba visit:\n",
      "http://numba.pydata.org/numba-doc/dev/reference/pysupported.html\n",
      "and\n",
      "http://numba.pydata.org/numba-doc/dev/reference/numpysupported.html\n",
      "\n",
      "For more information about typing errors and how to debug them visit:\n",
      "http://numba.pydata.org/numba-doc/latest/user/troubleshoot.html#my-code-doesn-t-compile\n",
      "\n",
      "If you think your code should work with Numba, please report the error message\n",
      "and traceback, along with a minimal reproducer at:\n",
      "https://github.com/numba/numba/issues/new\n",
      "\n",
      "[array([189.69 , 189.097, 189.202, ..., 188.344, 188.334, 188.306]), array([203.035, 204.118, 228.462, ..., 178.752, 179.101, 179.855])]\n"
     ]
    },
    {
     "data": {
      "application/vnd.jupyter.widget-view+json": {
       "model_id": "24daf0662a0d44fc97e388f0104d135a",
       "version_major": 2,
       "version_minor": 0
      },
      "text/plain": [
       "HBox(children=(IntProgress(value=0, max=3835), HTML(value='')))"
      ]
     },
     "metadata": {},
     "output_type": "display_data"
    },
    {
     "name": "stdout",
     "output_type": "stream",
     "text": [
      "Failed to simulate Minimal Delay / RH(ρ=0.99,H=1)\n",
      "Failed in nopython mode pipeline (step: nopython frontend)\n",
      "Invalid use of Function(<built-in function matmul>) with argument(s) of type(s): (array(float64, 2d, F), array(complex128, 1d, C))\n",
      " * parameterized\n",
      "In definition 0:\n",
      "    TypingError: '@' arguments must all have the same dtype\n",
      "    raised from /home/marten/.local/share/virtualenvs/INFOCOM2020-master-ZAQXgKmv/lib/python3.7/site-packages/numba/typing/npydecl.py:970\n",
      "In definition 1:\n",
      "    TypingError: '@' arguments must all have the same dtype\n",
      "    raised from /home/marten/.local/share/virtualenvs/INFOCOM2020-master-ZAQXgKmv/lib/python3.7/site-packages/numba/typing/npydecl.py:970\n",
      "This error is usually caused by passing an argument of a type that is unsupported by the named function.\n",
      "[1] During: typing of intrinsic-call at ../lib/jit.py (42)\n",
      "\n",
      "File \"../lib/jit.py\", line 42:\n",
      "def jit_hmm_predict(transmat, belief):\n",
      "    return transmat.T @ belief\n",
      "    ^\n",
      "\n",
      "This is not usually a problem with Numba itself but instead often caused by\n",
      "the use of unsupported features or an issue in resolving types.\n",
      "\n",
      "To see Python/NumPy features supported by the latest release of Numba visit:\n",
      "http://numba.pydata.org/numba-doc/dev/reference/pysupported.html\n",
      "and\n",
      "http://numba.pydata.org/numba-doc/dev/reference/numpysupported.html\n",
      "\n",
      "For more information about typing errors and how to debug them visit:\n",
      "http://numba.pydata.org/numba-doc/latest/user/troubleshoot.html#my-code-doesn-t-compile\n",
      "\n",
      "If you think your code should work with Numba, please report the error message\n",
      "and traceback, along with a minimal reproducer at:\n",
      "https://github.com/numba/numba/issues/new\n",
      "\n",
      "[244.928 244.05  244.157 ... 244.599 244.696 244.65 ]\n",
      "[array([244.928, 244.05 , 244.157, ..., 244.599, 244.696, 244.65 ]), array([227.733, 227.469, 226.231, ..., 227.582, 227.917, 227.599])]\n"
     ]
    },
    {
     "data": {
      "application/vnd.jupyter.widget-view+json": {
       "model_id": "32988b30f3da471681def2ac26463c90",
       "version_major": 2,
       "version_minor": 0
      },
      "text/plain": [
       "HBox(children=(IntProgress(value=0, max=3835), HTML(value='')))"
      ]
     },
     "metadata": {},
     "output_type": "display_data"
    },
    {
     "name": "stdout",
     "output_type": "stream",
     "text": [
      "[array([244.928, 244.05 , 244.157, ..., 244.599, 244.696, 244.65 ]), array([227.733, 227.469, 226.231, ..., 227.582, 227.917, 227.599])]\n"
     ]
    },
    {
     "data": {
      "application/vnd.jupyter.widget-view+json": {
       "model_id": "7f68b9e1dee44a46a9ecd9597c4defd4",
       "version_major": 2,
       "version_minor": 0
      },
      "text/plain": [
       "HBox(children=(IntProgress(value=0, max=3835), HTML(value='')))"
      ]
     },
     "metadata": {},
     "output_type": "display_data"
    },
    {
     "name": "stdout",
     "output_type": "stream",
     "text": [
      "[265.568 265.233 265.628 ... 265.189 265.18  265.193]\n",
      "[array([265.568, 265.233, 265.628, ..., 265.189, 265.18 , 265.193]), array([217.7  , 217.748, 217.775, ..., 217.898, 217.774, 217.843])]\n"
     ]
    },
    {
     "data": {
      "application/vnd.jupyter.widget-view+json": {
       "model_id": "d7f150f119564924a030331436d2e4d7",
       "version_major": 2,
       "version_minor": 0
      },
      "text/plain": [
       "HBox(children=(IntProgress(value=0, max=3835), HTML(value='')))"
      ]
     },
     "metadata": {},
     "output_type": "display_data"
    },
    {
     "name": "stdout",
     "output_type": "stream",
     "text": [
      "[array([265.568, 265.233, 265.628, ..., 265.189, 265.18 , 265.193]), array([217.7  , 217.748, 217.775, ..., 217.898, 217.774, 217.843])]\n"
     ]
    },
    {
     "data": {
      "application/vnd.jupyter.widget-view+json": {
       "model_id": "9e3cb4a587d344ae893345c8f9364f79",
       "version_major": 2,
       "version_minor": 0
      },
      "text/plain": [
       "HBox(children=(IntProgress(value=0, max=3835), HTML(value='')))"
      ]
     },
     "metadata": {},
     "output_type": "display_data"
    },
    {
     "name": "stdout",
     "output_type": "stream",
     "text": [
      "[197.529 198.134 198.355 ... 198.283 197.594 198.712]\n",
      "[array([197.529, 198.134, 198.355, ..., 198.283, 197.594, 198.712]), array([142.023, 143.34 , 142.99 , ..., 144.919, 141.527, 144.681])]\n"
     ]
    },
    {
     "data": {
      "application/vnd.jupyter.widget-view+json": {
       "model_id": "5d5aef625c2e43d9a350bf17cd75fae4",
       "version_major": 2,
       "version_minor": 0
      },
      "text/plain": [
       "HBox(children=(IntProgress(value=0, max=3835), HTML(value='')))"
      ]
     },
     "metadata": {},
     "output_type": "display_data"
    },
    {
     "name": "stdout",
     "output_type": "stream",
     "text": [
      "[array([197.529, 198.134, 198.355, ..., 198.283, 197.594, 198.712]), array([142.023, 143.34 , 142.99 , ..., 144.919, 141.527, 144.681])]\n"
     ]
    },
    {
     "data": {
      "application/vnd.jupyter.widget-view+json": {
       "model_id": "fb638d1b25144c3eae3be9c934142437",
       "version_major": 2,
       "version_minor": 0
      },
      "text/plain": [
       "HBox(children=(IntProgress(value=0, max=3835), HTML(value='')))"
      ]
     },
     "metadata": {},
     "output_type": "display_data"
    },
    {
     "name": "stdout",
     "output_type": "stream",
     "text": [
      "[182.141 182.187 182.154 ... 183.1   183.095 183.146]\n",
      "[array([182.141, 182.187, 182.154, ..., 183.1  , 183.095, 183.146]), array([142.407, 143.409, 142.197, ..., 146.238, 146.212, 146.276])]\n"
     ]
    },
    {
     "data": {
      "application/vnd.jupyter.widget-view+json": {
       "model_id": "04bcb05116f1442db5b3465d7cdfbcdd",
       "version_major": 2,
       "version_minor": 0
      },
      "text/plain": [
       "HBox(children=(IntProgress(value=0, max=3835), HTML(value='')))"
      ]
     },
     "metadata": {},
     "output_type": "display_data"
    },
    {
     "name": "stdout",
     "output_type": "stream",
     "text": [
      "[array([182.141, 182.187, 182.154, ..., 183.1  , 183.095, 183.146]), array([142.407, 143.409, 142.197, ..., 146.238, 146.212, 146.276])]\n"
     ]
    },
    {
     "data": {
      "application/vnd.jupyter.widget-view+json": {
       "model_id": "66fc723d9bc34eb4b9109134900359e1",
       "version_major": 2,
       "version_minor": 0
      },
      "text/plain": [
       "HBox(children=(IntProgress(value=0, max=3835), HTML(value='')))"
      ]
     },
     "metadata": {},
     "output_type": "display_data"
    },
    {
     "name": "stdout",
     "output_type": "stream",
     "text": [
      "[294.923 295.011 293.418 ... 292.71  292.977 292.911]\n",
      "[array([294.923, 295.011, 293.418, ..., 292.71 , 292.977, 292.911]), array([292.424, 292.434, 293.231, ..., 288.436, 287.477, 287.457])]\n"
     ]
    },
    {
     "data": {
      "application/vnd.jupyter.widget-view+json": {
       "model_id": "78ef05bfdefe4b87b75132c61bfe20e8",
       "version_major": 2,
       "version_minor": 0
      },
      "text/plain": [
       "HBox(children=(IntProgress(value=0, max=3835), HTML(value='')))"
      ]
     },
     "metadata": {},
     "output_type": "display_data"
    },
    {
     "name": "stdout",
     "output_type": "stream",
     "text": [
      "[array([294.923, 295.011, 293.418, ..., 292.71 , 292.977, 292.911]), array([292.424, 292.434, 293.231, ..., 288.436, 287.477, 287.457])]\n"
     ]
    },
    {
     "data": {
      "application/vnd.jupyter.widget-view+json": {
       "model_id": "cfe62c3036954149ab84882ffbdc9c4c",
       "version_major": 2,
       "version_minor": 0
      },
      "text/plain": [
       "HBox(children=(IntProgress(value=0, max=3835), HTML(value='')))"
      ]
     },
     "metadata": {},
     "output_type": "display_data"
    },
    {
     "name": "stdout",
     "output_type": "stream",
     "text": [
      "[57.592 54.756 56.255 ... 53.544 55.444 53.599]\n",
      "[array([57.592, 54.756, 56.255, ..., 53.544, 55.444, 53.599]), array([56.798, 58.435, 55.284, ..., 57.783, 56.407, 54.918])]\n"
     ]
    },
    {
     "data": {
      "application/vnd.jupyter.widget-view+json": {
       "model_id": "c9fc3969bab14ac3becf3ceae012763a",
       "version_major": 2,
       "version_minor": 0
      },
      "text/plain": [
       "HBox(children=(IntProgress(value=0, max=3835), HTML(value='')))"
      ]
     },
     "metadata": {},
     "output_type": "display_data"
    },
    {
     "name": "stdout",
     "output_type": "stream",
     "text": [
      "[array([57.592, 54.756, 56.255, ..., 53.544, 55.444, 53.599]), array([56.798, 58.435, 55.284, ..., 57.783, 56.407, 54.918])]\n"
     ]
    },
    {
     "data": {
      "application/vnd.jupyter.widget-view+json": {
       "model_id": "da61286d907d42c6bc02dc0e2a79bcda",
       "version_major": 2,
       "version_minor": 0
      },
      "text/plain": [
       "HBox(children=(IntProgress(value=0, max=3835), HTML(value='')))"
      ]
     },
     "metadata": {},
     "output_type": "display_data"
    },
    {
     "name": "stdout",
     "output_type": "stream",
     "text": [
      "[148.844 147.941 147.159 ... 147.85  148.16  147.822]\n",
      "[array([148.844, 147.941, 147.159, ..., 147.85 , 148.16 , 147.822]), array([163.489, 163.734, 163.78 , ..., 206.439, 206.805, 206.4  ])]\n"
     ]
    },
    {
     "data": {
      "application/vnd.jupyter.widget-view+json": {
       "model_id": "cbd87885cd694b9da25e2a621f905a3e",
       "version_major": 2,
       "version_minor": 0
      },
      "text/plain": [
       "HBox(children=(IntProgress(value=0, max=3835), HTML(value='')))"
      ]
     },
     "metadata": {},
     "output_type": "display_data"
    },
    {
     "name": "stdout",
     "output_type": "stream",
     "text": [
      "[array([148.844, 147.941, 147.159, ..., 147.85 , 148.16 , 147.822]), array([163.489, 163.734, 163.78 , ..., 206.439, 206.805, 206.4  ])]\n"
     ]
    },
    {
     "data": {
      "application/vnd.jupyter.widget-view+json": {
       "model_id": "e7df3cb8b9e04ace9922b152a9280632",
       "version_major": 2,
       "version_minor": 0
      },
      "text/plain": [
       "HBox(children=(IntProgress(value=0, max=3835), HTML(value='')))"
      ]
     },
     "metadata": {},
     "output_type": "display_data"
    },
    {
     "name": "stdout",
     "output_type": "stream",
     "text": [
      "[258.022 260.536 258.254 ... 253.816 254.31  259.423]\n",
      "[array([258.022, 260.536, 258.254, ..., 253.816, 254.31 , 259.423]), array([169.501, 169.842, 169.592, ..., 208.756, 209.344, 209.249])]\n"
     ]
    },
    {
     "data": {
      "application/vnd.jupyter.widget-view+json": {
       "model_id": "ac7d18ed5bd0405ca949f6efd7f7575d",
       "version_major": 2,
       "version_minor": 0
      },
      "text/plain": [
       "HBox(children=(IntProgress(value=0, max=3835), HTML(value='')))"
      ]
     },
     "metadata": {},
     "output_type": "display_data"
    },
    {
     "name": "stdout",
     "output_type": "stream",
     "text": [
      "[array([258.022, 260.536, 258.254, ..., 253.816, 254.31 , 259.423]), array([169.501, 169.842, 169.592, ..., 208.756, 209.344, 209.249])]\n"
     ]
    },
    {
     "data": {
      "application/vnd.jupyter.widget-view+json": {
       "model_id": "897f141113104501b4d1acc3476c8a4f",
       "version_major": 2,
       "version_minor": 0
      },
      "text/plain": [
       "HBox(children=(IntProgress(value=0, max=3835), HTML(value='')))"
      ]
     },
     "metadata": {},
     "output_type": "display_data"
    },
    {
     "name": "stdout",
     "output_type": "stream",
     "text": [
      "[123.646 123.408 123.441 ... 124.441 124.402 124.348]\n",
      "[array([123.646, 123.408, 123.441, ..., 124.441, 124.402, 124.348]), array([107.065, 107.399, 107.139, ..., 111.363, 111.658, 111.826])]\n"
     ]
    },
    {
     "data": {
      "application/vnd.jupyter.widget-view+json": {
       "model_id": "e37540ea81c248a8a9bb145db3352605",
       "version_major": 2,
       "version_minor": 0
      },
      "text/plain": [
       "HBox(children=(IntProgress(value=0, max=3835), HTML(value='')))"
      ]
     },
     "metadata": {},
     "output_type": "display_data"
    },
    {
     "name": "stdout",
     "output_type": "stream",
     "text": [
      "[array([123.646, 123.408, 123.441, ..., 124.441, 124.402, 124.348]), array([107.065, 107.399, 107.139, ..., 111.363, 111.658, 111.826])]\n"
     ]
    },
    {
     "data": {
      "application/vnd.jupyter.widget-view+json": {
       "model_id": "46889140f5134b07837ab6f7334fd1a5",
       "version_major": 2,
       "version_minor": 0
      },
      "text/plain": [
       "HBox(children=(IntProgress(value=0, max=3835), HTML(value='')))"
      ]
     },
     "metadata": {},
     "output_type": "display_data"
    },
    {
     "name": "stdout",
     "output_type": "stream",
     "text": [
      "[122.541 122.567 122.573 ... 122.644 122.801 122.994]\n",
      "[array([122.541, 122.567, 122.573, ..., 122.644, 122.801, 122.994]), array([113.749, 114.014, 113.747, ..., 113.947, 114.188, 114.419])]\n"
     ]
    },
    {
     "data": {
      "application/vnd.jupyter.widget-view+json": {
       "model_id": "d1a03cef17a24371887729ae5a390a7d",
       "version_major": 2,
       "version_minor": 0
      },
      "text/plain": [
       "HBox(children=(IntProgress(value=0, max=3835), HTML(value='')))"
      ]
     },
     "metadata": {},
     "output_type": "display_data"
    },
    {
     "name": "stdout",
     "output_type": "stream",
     "text": [
      "[array([122.541, 122.567, 122.573, ..., 122.644, 122.801, 122.994]), array([113.749, 114.014, 113.747, ..., 113.947, 114.188, 114.419])]\n"
     ]
    },
    {
     "data": {
      "application/vnd.jupyter.widget-view+json": {
       "model_id": "82a5bfcf5bd14485aa2825532654fb11",
       "version_major": 2,
       "version_minor": 0
      },
      "text/plain": [
       "HBox(children=(IntProgress(value=0, max=3835), HTML(value='')))"
      ]
     },
     "metadata": {},
     "output_type": "display_data"
    },
    {
     "name": "stdout",
     "output_type": "stream",
     "text": [
      "[134.452 133.752 134.026 ... 136.25  136.156 135.914]\n",
      "[array([134.452, 133.752, 134.026, ..., 136.25 , 136.156, 135.914]), array([122.085, 122.391, 122.149, ..., 123.774, 124.018, 124.145])]\n"
     ]
    },
    {
     "data": {
      "application/vnd.jupyter.widget-view+json": {
       "model_id": "f29d4bdaf0f447418899c2a9da9cd6c0",
       "version_major": 2,
       "version_minor": 0
      },
      "text/plain": [
       "HBox(children=(IntProgress(value=0, max=3835), HTML(value='')))"
      ]
     },
     "metadata": {},
     "output_type": "display_data"
    },
    {
     "name": "stdout",
     "output_type": "stream",
     "text": [
      "[array([134.452, 133.752, 134.026, ..., 136.25 , 136.156, 135.914]), array([122.085, 122.391, 122.149, ..., 123.774, 124.018, 124.145])]\n"
     ]
    },
    {
     "data": {
      "application/vnd.jupyter.widget-view+json": {
       "model_id": "eb7b8ab1d91d4cf2846a0e0481379b68",
       "version_major": 2,
       "version_minor": 0
      },
      "text/plain": [
       "HBox(children=(IntProgress(value=0, max=3835), HTML(value='')))"
      ]
     },
     "metadata": {},
     "output_type": "display_data"
    },
    {
     "name": "stdout",
     "output_type": "stream",
     "text": [
      "[111.367 113.471 112.13  ... 112.097 113.199 113.396]\n",
      "[array([111.367, 113.471, 112.13 , ..., 112.097, 113.199, 113.396]), array([111.082, 111.082, 111.346, ..., 110.979, 111.367, 112.43 ])]\n"
     ]
    },
    {
     "data": {
      "application/vnd.jupyter.widget-view+json": {
       "model_id": "be7786001dca4a1d9bd9a727b1b4439e",
       "version_major": 2,
       "version_minor": 0
      },
      "text/plain": [
       "HBox(children=(IntProgress(value=0, max=3835), HTML(value='')))"
      ]
     },
     "metadata": {},
     "output_type": "display_data"
    },
    {
     "name": "stdout",
     "output_type": "stream",
     "text": [
      "[array([111.367, 113.471, 112.13 , ..., 112.097, 113.199, 113.396]), array([111.082, 111.082, 111.346, ..., 110.979, 111.367, 112.43 ])]\n"
     ]
    },
    {
     "data": {
      "application/vnd.jupyter.widget-view+json": {
       "model_id": "9f9cd16aaae0487e90d75af52a43a4b9",
       "version_major": 2,
       "version_minor": 0
      },
      "text/plain": [
       "HBox(children=(IntProgress(value=0, max=3835), HTML(value='')))"
      ]
     },
     "metadata": {},
     "output_type": "display_data"
    },
    {
     "name": "stdout",
     "output_type": "stream",
     "text": [
      "[176.013 176.093 175.942 ... 175.897 176.226 175.931]\n",
      "[array([176.013, 176.093, 175.942, ..., 175.897, 176.226, 175.931]), array([145.629, 145.598, 145.731, ..., 185.326, 185.82 , 185.449])]\n"
     ]
    },
    {
     "data": {
      "application/vnd.jupyter.widget-view+json": {
       "model_id": "5b9fdce11b934fdda1689bbee613ff83",
       "version_major": 2,
       "version_minor": 0
      },
      "text/plain": [
       "HBox(children=(IntProgress(value=0, max=3835), HTML(value='')))"
      ]
     },
     "metadata": {},
     "output_type": "display_data"
    },
    {
     "name": "stdout",
     "output_type": "stream",
     "text": [
      "[array([176.013, 176.093, 175.942, ..., 175.897, 176.226, 175.931]), array([145.629, 145.598, 145.731, ..., 185.326, 185.82 , 185.449])]\n"
     ]
    },
    {
     "data": {
      "application/vnd.jupyter.widget-view+json": {
       "model_id": "4b1e93d479c7430cb7be0b0b3b980269",
       "version_major": 2,
       "version_minor": 0
      },
      "text/plain": [
       "HBox(children=(IntProgress(value=0, max=3835), HTML(value='')))"
      ]
     },
     "metadata": {},
     "output_type": "display_data"
    },
    {
     "name": "stdout",
     "output_type": "stream",
     "text": [
      "[275.88  275.856 275.838 ... 275.729 275.72  275.674]\n",
      "[array([275.88 , 275.856, 275.838, ..., 275.729, 275.72 , 275.674]), array([269.925, 269.625, 269.856, ..., 269.621, 271.163, 269.664])]\n"
     ]
    },
    {
     "data": {
      "application/vnd.jupyter.widget-view+json": {
       "model_id": "a540ebab725b46e398e4cf1cfc7caa10",
       "version_major": 2,
       "version_minor": 0
      },
      "text/plain": [
       "HBox(children=(IntProgress(value=0, max=3835), HTML(value='')))"
      ]
     },
     "metadata": {},
     "output_type": "display_data"
    },
    {
     "name": "stdout",
     "output_type": "stream",
     "text": [
      "[array([275.88 , 275.856, 275.838, ..., 275.729, 275.72 , 275.674]), array([269.925, 269.625, 269.856, ..., 269.621, 271.163, 269.664])]\n"
     ]
    },
    {
     "data": {
      "application/vnd.jupyter.widget-view+json": {
       "model_id": "59c2169fd7d946e1a53fb971d48db12c",
       "version_major": 2,
       "version_minor": 0
      },
      "text/plain": [
       "HBox(children=(IntProgress(value=0, max=3835), HTML(value='')))"
      ]
     },
     "metadata": {},
     "output_type": "display_data"
    },
    {
     "name": "stdout",
     "output_type": "stream",
     "text": [
      "[216.679 216.696 216.686 ... 230.621 230.695 230.652]\n",
      "[array([216.679, 216.696, 216.686, ..., 230.621, 230.695, 230.652]), array([185.315, 189.022, 213.424, ..., 147.387, 147.517, 146.987])]\n"
     ]
    },
    {
     "data": {
      "application/vnd.jupyter.widget-view+json": {
       "model_id": "273b156e533c401c90da80708fbe7171",
       "version_major": 2,
       "version_minor": 0
      },
      "text/plain": [
       "HBox(children=(IntProgress(value=0, max=3835), HTML(value='')))"
      ]
     },
     "metadata": {},
     "output_type": "display_data"
    },
    {
     "name": "stdout",
     "output_type": "stream",
     "text": [
      "[array([216.679, 216.696, 216.686, ..., 230.621, 230.695, 230.652]), array([185.315, 189.022, 213.424, ..., 147.387, 147.517, 146.987])]\n"
     ]
    },
    {
     "data": {
      "application/vnd.jupyter.widget-view+json": {
       "model_id": "f82105c0e5d247d2a36c1f6b63759f3e",
       "version_major": 2,
       "version_minor": 0
      },
      "text/plain": [
       "HBox(children=(IntProgress(value=0, max=3835), HTML(value='')))"
      ]
     },
     "metadata": {},
     "output_type": "display_data"
    },
    {
     "name": "stdout",
     "output_type": "stream",
     "text": [
      "[208.151 208.243 208.226 ... 209.461 209.508 209.518]\n",
      "[array([208.151, 208.243, 208.226, ..., 209.461, 209.508, 209.518]), array([199.184, 199.219, 199.357, ..., 198.867, 198.802, 199.036])]\n"
     ]
    },
    {
     "data": {
      "application/vnd.jupyter.widget-view+json": {
       "model_id": "3be91440b27d4430a95e4963150ab960",
       "version_major": 2,
       "version_minor": 0
      },
      "text/plain": [
       "HBox(children=(IntProgress(value=0, max=3835), HTML(value='')))"
      ]
     },
     "metadata": {},
     "output_type": "display_data"
    },
    {
     "name": "stdout",
     "output_type": "stream",
     "text": [
      "[array([208.151, 208.243, 208.226, ..., 209.461, 209.508, 209.518]), array([199.184, 199.219, 199.357, ..., 198.867, 198.802, 199.036])]\n"
     ]
    },
    {
     "data": {
      "application/vnd.jupyter.widget-view+json": {
       "model_id": "479a05d33ba64c7ebc82b2f73f17cf9c",
       "version_major": 2,
       "version_minor": 0
      },
      "text/plain": [
       "HBox(children=(IntProgress(value=0, max=3835), HTML(value='')))"
      ]
     },
     "metadata": {},
     "output_type": "display_data"
    },
    {
     "name": "stdout",
     "output_type": "stream",
     "text": [
      "[311.696 311.164 311.144 ... 317.902 317.977 318.323]\n",
      "[array([311.696, 311.164, 311.144, ..., 317.902, 317.977, 318.323]), array([302.344, 303.444, 304.705, ..., 306.734, 307.17 , 306.741])]\n"
     ]
    },
    {
     "data": {
      "application/vnd.jupyter.widget-view+json": {
       "model_id": "b5fbd212aa124b2c955b8f64629aa9a6",
       "version_major": 2,
       "version_minor": 0
      },
      "text/plain": [
       "HBox(children=(IntProgress(value=0, max=3835), HTML(value='')))"
      ]
     },
     "metadata": {},
     "output_type": "display_data"
    },
    {
     "name": "stdout",
     "output_type": "stream",
     "text": [
      "Failed to simulate Static Route 0 / Never Measure\n",
      "Failed in nopython mode pipeline (step: nopython frontend)\n",
      "Invalid use of Function(<built-in function matmul>) with argument(s) of type(s): (array(float64, 2d, F), array(complex128, 1d, C))\n",
      " * parameterized\n",
      "In definition 0:\n",
      "    TypingError: '@' arguments must all have the same dtype\n",
      "    raised from /home/marten/.local/share/virtualenvs/INFOCOM2020-master-ZAQXgKmv/lib/python3.7/site-packages/numba/typing/npydecl.py:970\n",
      "In definition 1:\n",
      "    TypingError: '@' arguments must all have the same dtype\n",
      "    raised from /home/marten/.local/share/virtualenvs/INFOCOM2020-master-ZAQXgKmv/lib/python3.7/site-packages/numba/typing/npydecl.py:970\n",
      "This error is usually caused by passing an argument of a type that is unsupported by the named function.\n",
      "[1] During: typing of intrinsic-call at ../lib/jit.py (42)\n",
      "\n",
      "File \"../lib/jit.py\", line 42:\n",
      "def jit_hmm_predict(transmat, belief):\n",
      "    return transmat.T @ belief\n",
      "    ^\n",
      "\n",
      "This is not usually a problem with Numba itself but instead often caused by\n",
      "the use of unsupported features or an issue in resolving types.\n",
      "\n",
      "To see Python/NumPy features supported by the latest release of Numba visit:\n",
      "http://numba.pydata.org/numba-doc/dev/reference/pysupported.html\n",
      "and\n",
      "http://numba.pydata.org/numba-doc/dev/reference/numpysupported.html\n",
      "\n",
      "For more information about typing errors and how to debug them visit:\n",
      "http://numba.pydata.org/numba-doc/latest/user/troubleshoot.html#my-code-doesn-t-compile\n",
      "\n",
      "If you think your code should work with Numba, please report the error message\n",
      "and traceback, along with a minimal reproducer at:\n",
      "https://github.com/numba/numba/issues/new\n",
      "\n",
      "[array([311.696, 311.164, 311.144, ..., 317.902, 317.977, 318.323]), array([302.344, 303.444, 304.705, ..., 306.734, 307.17 , 306.741])]\n"
     ]
    },
    {
     "data": {
      "application/vnd.jupyter.widget-view+json": {
       "model_id": "6cd29e9e68434bbe81937491240c04bc",
       "version_major": 2,
       "version_minor": 0
      },
      "text/plain": [
       "HBox(children=(IntProgress(value=0, max=3835), HTML(value='')))"
      ]
     },
     "metadata": {},
     "output_type": "display_data"
    },
    {
     "name": "stdout",
     "output_type": "stream",
     "text": [
      "Failed to simulate Minimal Delay / RH(ρ=0.99,H=1)\n",
      "Failed in nopython mode pipeline (step: nopython frontend)\n",
      "Invalid use of Function(<built-in function matmul>) with argument(s) of type(s): (array(float64, 2d, F), array(complex128, 1d, C))\n",
      " * parameterized\n",
      "In definition 0:\n",
      "    TypingError: '@' arguments must all have the same dtype\n",
      "    raised from /home/marten/.local/share/virtualenvs/INFOCOM2020-master-ZAQXgKmv/lib/python3.7/site-packages/numba/typing/npydecl.py:970\n",
      "In definition 1:\n",
      "    TypingError: '@' arguments must all have the same dtype\n",
      "    raised from /home/marten/.local/share/virtualenvs/INFOCOM2020-master-ZAQXgKmv/lib/python3.7/site-packages/numba/typing/npydecl.py:970\n",
      "This error is usually caused by passing an argument of a type that is unsupported by the named function.\n",
      "[1] During: typing of intrinsic-call at ../lib/jit.py (42)\n",
      "\n",
      "File \"../lib/jit.py\", line 42:\n",
      "def jit_hmm_predict(transmat, belief):\n",
      "    return transmat.T @ belief\n",
      "    ^\n",
      "\n",
      "This is not usually a problem with Numba itself but instead often caused by\n",
      "the use of unsupported features or an issue in resolving types.\n",
      "\n",
      "To see Python/NumPy features supported by the latest release of Numba visit:\n",
      "http://numba.pydata.org/numba-doc/dev/reference/pysupported.html\n",
      "and\n",
      "http://numba.pydata.org/numba-doc/dev/reference/numpysupported.html\n",
      "\n",
      "For more information about typing errors and how to debug them visit:\n",
      "http://numba.pydata.org/numba-doc/latest/user/troubleshoot.html#my-code-doesn-t-compile\n",
      "\n",
      "If you think your code should work with Numba, please report the error message\n",
      "and traceback, along with a minimal reproducer at:\n",
      "https://github.com/numba/numba/issues/new\n",
      "\n",
      "[243.145 242.957 243.053 ... 273.894 274.803 273.897]\n",
      "[array([243.145, 242.957, 243.053, ..., 273.894, 274.803, 273.897]), array([233.31 , 233.309, 234.559, ..., 265.409, 265.365, 265.37 ])]\n"
     ]
    },
    {
     "data": {
      "application/vnd.jupyter.widget-view+json": {
       "model_id": "05de96af8f9849618617107e3413d650",
       "version_major": 2,
       "version_minor": 0
      },
      "text/plain": [
       "HBox(children=(IntProgress(value=0, max=3835), HTML(value='')))"
      ]
     },
     "metadata": {},
     "output_type": "display_data"
    },
    {
     "name": "stdout",
     "output_type": "stream",
     "text": [
      "[array([243.145, 242.957, 243.053, ..., 273.894, 274.803, 273.897]), array([233.31 , 233.309, 234.559, ..., 265.409, 265.365, 265.37 ])]\n"
     ]
    },
    {
     "data": {
      "application/vnd.jupyter.widget-view+json": {
       "model_id": "3f4e6329f6524f9a85ff169287b50ba1",
       "version_major": 2,
       "version_minor": 0
      },
      "text/plain": [
       "HBox(children=(IntProgress(value=0, max=3835), HTML(value='')))"
      ]
     },
     "metadata": {},
     "output_type": "display_data"
    },
    {
     "name": "stdout",
     "output_type": "stream",
     "text": [
      "[261.352 261.372 261.316 ... 261.119 261.258 261.254]\n",
      "[array([261.352, 261.372, 261.316, ..., 261.119, 261.258, 261.254]), array([ 98.141,  99.171, 123.449, ...,  74.607,  74.174,  74.129])]\n"
     ]
    },
    {
     "data": {
      "application/vnd.jupyter.widget-view+json": {
       "model_id": "27096a2a3f1c453b8d555c7b2fe8a490",
       "version_major": 2,
       "version_minor": 0
      },
      "text/plain": [
       "HBox(children=(IntProgress(value=0, max=3835), HTML(value='')))"
      ]
     },
     "metadata": {},
     "output_type": "display_data"
    },
    {
     "name": "stdout",
     "output_type": "stream",
     "text": [
      "[array([261.352, 261.372, 261.316, ..., 261.119, 261.258, 261.254]), array([ 98.141,  99.171, 123.449, ...,  74.607,  74.174,  74.129])]\n"
     ]
    },
    {
     "data": {
      "application/vnd.jupyter.widget-view+json": {
       "model_id": "901afbf0cb26409ead0175c7e6a93af8",
       "version_major": 2,
       "version_minor": 0
      },
      "text/plain": [
       "HBox(children=(IntProgress(value=0, max=3835), HTML(value='')))"
      ]
     },
     "metadata": {},
     "output_type": "display_data"
    },
    {
     "name": "stdout",
     "output_type": "stream",
     "text": [
      "[287.161 287.269 287.564 ... 286.962 285.093 286.869]\n",
      "[array([287.161, 287.269, 287.564, ..., 286.962, 285.093, 286.869]), array([208.478, 207.851, 206.804, ..., 207.804, 208.361, 208.241])]\n"
     ]
    },
    {
     "data": {
      "application/vnd.jupyter.widget-view+json": {
       "model_id": "0e21530f4307454e9323be24d7f24592",
       "version_major": 2,
       "version_minor": 0
      },
      "text/plain": [
       "HBox(children=(IntProgress(value=0, max=3835), HTML(value='')))"
      ]
     },
     "metadata": {},
     "output_type": "display_data"
    },
    {
     "name": "stdout",
     "output_type": "stream",
     "text": [
      "[array([287.161, 287.269, 287.564, ..., 286.962, 285.093, 286.869]), array([208.478, 207.851, 206.804, ..., 207.804, 208.361, 208.241])]\n"
     ]
    },
    {
     "data": {
      "application/vnd.jupyter.widget-view+json": {
       "model_id": "132a605f6d474a708d2f6e949075112e",
       "version_major": 2,
       "version_minor": 0
      },
      "text/plain": [
       "HBox(children=(IntProgress(value=0, max=3835), HTML(value='')))"
      ]
     },
     "metadata": {},
     "output_type": "display_data"
    },
    {
     "name": "stdout",
     "output_type": "stream",
     "text": [
      "[55.617 59.489 59.434 ... 54.507 59.281 61.06 ]\n",
      "[array([55.617, 59.489, 59.434, ..., 54.507, 59.281, 61.06 ]), array([54.241, 54.947, 55.148, ..., 55.735, 56.867, 55.432])]\n"
     ]
    },
    {
     "data": {
      "application/vnd.jupyter.widget-view+json": {
       "model_id": "6a43a1af6d4c4473b0ccd25882a9e56e",
       "version_major": 2,
       "version_minor": 0
      },
      "text/plain": [
       "HBox(children=(IntProgress(value=0, max=3835), HTML(value='')))"
      ]
     },
     "metadata": {},
     "output_type": "display_data"
    },
    {
     "name": "stdout",
     "output_type": "stream",
     "text": [
      "[array([55.617, 59.489, 59.434, ..., 54.507, 59.281, 61.06 ]), array([54.241, 54.947, 55.148, ..., 55.735, 56.867, 55.432])]\n"
     ]
    },
    {
     "data": {
      "application/vnd.jupyter.widget-view+json": {
       "model_id": "c96db8630da0430f8c67dfb0faee3268",
       "version_major": 2,
       "version_minor": 0
      },
      "text/plain": [
       "HBox(children=(IntProgress(value=0, max=3835), HTML(value='')))"
      ]
     },
     "metadata": {},
     "output_type": "display_data"
    },
    {
     "name": "stdout",
     "output_type": "stream",
     "text": [
      "[151.9   151.881 151.908 ... 151.913 151.993 151.952]\n",
      "[array([151.9  , 151.881, 151.908, ..., 151.913, 151.993, 151.952]), array([ 98.141,  99.171, 123.449, ...,  74.607,  74.174,  74.129])]\n"
     ]
    },
    {
     "data": {
      "application/vnd.jupyter.widget-view+json": {
       "model_id": "4f194f7625224276a066cb9192879999",
       "version_major": 2,
       "version_minor": 0
      },
      "text/plain": [
       "HBox(children=(IntProgress(value=0, max=3835), HTML(value='')))"
      ]
     },
     "metadata": {},
     "output_type": "display_data"
    },
    {
     "name": "stdout",
     "output_type": "stream",
     "text": [
      "[array([151.9  , 151.881, 151.908, ..., 151.913, 151.993, 151.952]), array([ 98.141,  99.171, 123.449, ...,  74.607,  74.174,  74.129])]\n"
     ]
    },
    {
     "data": {
      "application/vnd.jupyter.widget-view+json": {
       "model_id": "3ff619df278248cbbe2de01589bc849e",
       "version_major": 2,
       "version_minor": 0
      },
      "text/plain": [
       "HBox(children=(IntProgress(value=0, max=3835), HTML(value='')))"
      ]
     },
     "metadata": {},
     "output_type": "display_data"
    },
    {
     "name": "stdout",
     "output_type": "stream",
     "text": [
      "[224.792 224.506 224.621 ... 224.943 224.885 224.802]\n",
      "[array([224.792, 224.506, 224.621, ..., 224.943, 224.885, 224.802]), array([223.366, 223.358, 223.507, ..., 223.62 , 223.615, 223.734])]\n"
     ]
    },
    {
     "data": {
      "application/vnd.jupyter.widget-view+json": {
       "model_id": "9121e78049af4ec4933a6c9db72a4f52",
       "version_major": 2,
       "version_minor": 0
      },
      "text/plain": [
       "HBox(children=(IntProgress(value=0, max=3835), HTML(value='')))"
      ]
     },
     "metadata": {},
     "output_type": "display_data"
    },
    {
     "name": "stdout",
     "output_type": "stream",
     "text": [
      "[array([224.792, 224.506, 224.621, ..., 224.943, 224.885, 224.802]), array([223.366, 223.358, 223.507, ..., 223.62 , 223.615, 223.734])]\n"
     ]
    },
    {
     "data": {
      "application/vnd.jupyter.widget-view+json": {
       "model_id": "800e307b410442279f84fd942864e243",
       "version_major": 2,
       "version_minor": 0
      },
      "text/plain": [
       "HBox(children=(IntProgress(value=0, max=3835), HTML(value='')))"
      ]
     },
     "metadata": {},
     "output_type": "display_data"
    },
    {
     "name": "stdout",
     "output_type": "stream",
     "text": [
      "[94.976 95.92  94.703 ... 94.829 94.755 94.869]\n",
      "[array([94.976, 95.92 , 94.703, ..., 94.829, 94.755, 94.869]), array([71.883, 72.027, 71.993, ..., 73.209, 73.211, 73.539])]\n"
     ]
    },
    {
     "data": {
      "application/vnd.jupyter.widget-view+json": {
       "model_id": "55c9f2f1c2ef4c27acda6f12f5e05e5e",
       "version_major": 2,
       "version_minor": 0
      },
      "text/plain": [
       "HBox(children=(IntProgress(value=0, max=3835), HTML(value='')))"
      ]
     },
     "metadata": {},
     "output_type": "display_data"
    },
    {
     "name": "stdout",
     "output_type": "stream",
     "text": [
      "[array([94.976, 95.92 , 94.703, ..., 94.829, 94.755, 94.869]), array([71.883, 72.027, 71.993, ..., 73.209, 73.211, 73.539])]\n"
     ]
    },
    {
     "data": {
      "application/vnd.jupyter.widget-view+json": {
       "model_id": "153137e6cae744b0bb672514bd6692b3",
       "version_major": 2,
       "version_minor": 0
      },
      "text/plain": [
       "HBox(children=(IntProgress(value=0, max=3835), HTML(value='')))"
      ]
     },
     "metadata": {},
     "output_type": "display_data"
    },
    {
     "name": "stdout",
     "output_type": "stream",
     "text": [
      "[177.902 177.991 177.97  ... 163.416 163.402 163.602]\n",
      "[array([177.902, 177.991, 177.97 , ..., 163.416, 163.402, 163.602]), array([169.364, 169.753, 169.677, ..., 209.205, 209.626, 210.239])]\n"
     ]
    },
    {
     "data": {
      "application/vnd.jupyter.widget-view+json": {
       "model_id": "e934e9df7221463ab7f6d3dbfb934fc6",
       "version_major": 2,
       "version_minor": 0
      },
      "text/plain": [
       "HBox(children=(IntProgress(value=0, max=3835), HTML(value='')))"
      ]
     },
     "metadata": {},
     "output_type": "display_data"
    },
    {
     "name": "stdout",
     "output_type": "stream",
     "text": [
      "[array([177.902, 177.991, 177.97 , ..., 163.416, 163.402, 163.602]), array([169.364, 169.753, 169.677, ..., 209.205, 209.626, 210.239])]\n"
     ]
    },
    {
     "data": {
      "application/vnd.jupyter.widget-view+json": {
       "model_id": "b650f9a056dd44a89cc0b0be54926641",
       "version_major": 2,
       "version_minor": 0
      },
      "text/plain": [
       "HBox(children=(IntProgress(value=0, max=3835), HTML(value='')))"
      ]
     },
     "metadata": {},
     "output_type": "display_data"
    },
    {
     "name": "stdout",
     "output_type": "stream",
     "text": [
      "[151.911 151.983 151.89  ... 151.994 152.078 152.009]\n",
      "[array([151.911, 151.983, 151.89 , ..., 151.994, 152.078, 152.009]), array([111.75 , 111.365, 111.795, ..., 111.373, 113.123, 111.372])]\n"
     ]
    },
    {
     "data": {
      "application/vnd.jupyter.widget-view+json": {
       "model_id": "22c3b7e3d52a4782b304ecf1ed8bb3f9",
       "version_major": 2,
       "version_minor": 0
      },
      "text/plain": [
       "HBox(children=(IntProgress(value=0, max=3835), HTML(value='')))"
      ]
     },
     "metadata": {},
     "output_type": "display_data"
    },
    {
     "name": "stdout",
     "output_type": "stream",
     "text": [
      "[array([151.911, 151.983, 151.89 , ..., 151.994, 152.078, 152.009]), array([111.75 , 111.365, 111.795, ..., 111.373, 113.123, 111.372])]\n"
     ]
    },
    {
     "data": {
      "application/vnd.jupyter.widget-view+json": {
       "model_id": "3485e16d47a9431badb21a2166518891",
       "version_major": 2,
       "version_minor": 0
      },
      "text/plain": [
       "HBox(children=(IntProgress(value=0, max=3835), HTML(value='')))"
      ]
     },
     "metadata": {},
     "output_type": "display_data"
    },
    {
     "name": "stdout",
     "output_type": "stream",
     "text": [
      "[146.881 147.08  147.022 ... 148.548 148.503 148.428]\n",
      "[array([146.881, 147.08 , 147.022, ..., 148.548, 148.503, 148.428]), array([163.552, 163.577, 165.333, ..., 207.829, 206.797, 207.383])]\n"
     ]
    },
    {
     "data": {
      "application/vnd.jupyter.widget-view+json": {
       "model_id": "5f9c56a664ed4608b434a51b4bf3dd5e",
       "version_major": 2,
       "version_minor": 0
      },
      "text/plain": [
       "HBox(children=(IntProgress(value=0, max=3835), HTML(value='')))"
      ]
     },
     "metadata": {},
     "output_type": "display_data"
    },
    {
     "name": "stdout",
     "output_type": "stream",
     "text": [
      "[array([146.881, 147.08 , 147.022, ..., 148.548, 148.503, 148.428]), array([163.552, 163.577, 165.333, ..., 207.829, 206.797, 207.383])]\n"
     ]
    },
    {
     "data": {
      "application/vnd.jupyter.widget-view+json": {
       "model_id": "d2c8e8c421994e46bca502d9b9465374",
       "version_major": 2,
       "version_minor": 0
      },
      "text/plain": [
       "HBox(children=(IntProgress(value=0, max=3835), HTML(value='')))"
      ]
     },
     "metadata": {},
     "output_type": "display_data"
    },
    {
     "name": "stdout",
     "output_type": "stream",
     "text": [
      "[224.45  224.437 224.523 ... 224.742 225.673 224.973]\n",
      "[array([224.45 , 224.437, 224.523, ..., 224.742, 225.673, 224.973]), array([223.515, 223.529, 223.382, ..., 223.421, 223.484, 223.475])]\n"
     ]
    },
    {
     "data": {
      "application/vnd.jupyter.widget-view+json": {
       "model_id": "29202751703f492b82f32cdf5d8b1b29",
       "version_major": 2,
       "version_minor": 0
      },
      "text/plain": [
       "HBox(children=(IntProgress(value=0, max=3835), HTML(value='')))"
      ]
     },
     "metadata": {},
     "output_type": "display_data"
    },
    {
     "name": "stdout",
     "output_type": "stream",
     "text": [
      "[array([224.45 , 224.437, 224.523, ..., 224.742, 225.673, 224.973]), array([223.515, 223.529, 223.382, ..., 223.421, 223.484, 223.475])]\n"
     ]
    },
    {
     "data": {
      "application/vnd.jupyter.widget-view+json": {
       "model_id": "df74ea53684a464b87198617ed519427",
       "version_major": 2,
       "version_minor": 0
      },
      "text/plain": [
       "HBox(children=(IntProgress(value=0, max=3835), HTML(value='')))"
      ]
     },
     "metadata": {},
     "output_type": "display_data"
    },
    {
     "name": "stdout",
     "output_type": "stream",
     "text": [
      "[81.154 80.32  81.48  ... 88.475 88.57  87.642]\n",
      "[array([81.154, 80.32 , 81.48 , ..., 88.475, 88.57 , 87.642]), array([93.362, 95.986, 96.308, ..., 79.614, 79.783, 79.562])]\n"
     ]
    },
    {
     "data": {
      "application/vnd.jupyter.widget-view+json": {
       "model_id": "6112b312b1c64609ac9742e700a72e69",
       "version_major": 2,
       "version_minor": 0
      },
      "text/plain": [
       "HBox(children=(IntProgress(value=0, max=3835), HTML(value='')))"
      ]
     },
     "metadata": {},
     "output_type": "display_data"
    },
    {
     "name": "stdout",
     "output_type": "stream",
     "text": [
      "[array([81.154, 80.32 , 81.48 , ..., 88.475, 88.57 , 87.642]), array([93.362, 95.986, 96.308, ..., 79.614, 79.783, 79.562])]\n"
     ]
    },
    {
     "data": {
      "application/vnd.jupyter.widget-view+json": {
       "model_id": "89eba8c1b0c747d6b902862b5e7e99ce",
       "version_major": 2,
       "version_minor": 0
      },
      "text/plain": [
       "HBox(children=(IntProgress(value=0, max=3835), HTML(value='')))"
      ]
     },
     "metadata": {},
     "output_type": "display_data"
    },
    {
     "name": "stdout",
     "output_type": "stream",
     "text": [
      "[260.809 264.98  265.044 ... 270.822 271.405 276.372]\n",
      "[array([260.809, 264.98 , 265.044, ..., 270.822, 271.405, 276.372]), array([271.353, 271.165, 271.082, ..., 294.226, 294.28 , 294.567])]\n"
     ]
    },
    {
     "data": {
      "application/vnd.jupyter.widget-view+json": {
       "model_id": "55078081db3e4814947e2a80734439e2",
       "version_major": 2,
       "version_minor": 0
      },
      "text/plain": [
       "HBox(children=(IntProgress(value=0, max=3835), HTML(value='')))"
      ]
     },
     "metadata": {},
     "output_type": "display_data"
    },
    {
     "name": "stdout",
     "output_type": "stream",
     "text": [
      "[array([260.809, 264.98 , 265.044, ..., 270.822, 271.405, 276.372]), array([271.353, 271.165, 271.082, ..., 294.226, 294.28 , 294.567])]\n"
     ]
    },
    {
     "data": {
      "application/vnd.jupyter.widget-view+json": {
       "model_id": "9984cfd2e6a248879f95acb0753be20d",
       "version_major": 2,
       "version_minor": 0
      },
      "text/plain": [
       "HBox(children=(IntProgress(value=0, max=3835), HTML(value='')))"
      ]
     },
     "metadata": {},
     "output_type": "display_data"
    },
    {
     "name": "stdout",
     "output_type": "stream",
     "text": [
      "[316.429 316.351 317.891 ... 322.729 322.76  322.73 ]\n",
      "[array([316.429, 316.351, 317.891, ..., 322.729, 322.76 , 322.73 ]), array([316.833, 316.539, 316.806, ..., 317.807, 319.388, 317.833])]\n"
     ]
    },
    {
     "data": {
      "application/vnd.jupyter.widget-view+json": {
       "model_id": "72d2f5edc0bf402fa5e3653298614ade",
       "version_major": 2,
       "version_minor": 0
      },
      "text/plain": [
       "HBox(children=(IntProgress(value=0, max=3835), HTML(value='')))"
      ]
     },
     "metadata": {},
     "output_type": "display_data"
    },
    {
     "name": "stdout",
     "output_type": "stream",
     "text": [
      "[array([316.429, 316.351, 317.891, ..., 322.729, 322.76 , 322.73 ]), array([316.833, 316.539, 316.806, ..., 317.807, 319.388, 317.833])]\n"
     ]
    },
    {
     "data": {
      "application/vnd.jupyter.widget-view+json": {
       "model_id": "59f9659dd6344ada87d463acf520df77",
       "version_major": 2,
       "version_minor": 0
      },
      "text/plain": [
       "HBox(children=(IntProgress(value=0, max=3835), HTML(value='')))"
      ]
     },
     "metadata": {},
     "output_type": "display_data"
    },
    {
     "name": "stdout",
     "output_type": "stream",
     "text": [
      "[138.613 138.637 138.615 ... 140.498 140.501 140.507]\n",
      "[array([138.613, 138.637, 138.615, ..., 140.498, 140.501, 140.507]), array([112.774, 113.695, 112.534, ..., 112.684, 112.589, 112.72 ])]\n"
     ]
    },
    {
     "data": {
      "application/vnd.jupyter.widget-view+json": {
       "model_id": "968b265e4e5442ac879f62c2c466661b",
       "version_major": 2,
       "version_minor": 0
      },
      "text/plain": [
       "HBox(children=(IntProgress(value=0, max=3835), HTML(value='')))"
      ]
     },
     "metadata": {},
     "output_type": "display_data"
    },
    {
     "name": "stdout",
     "output_type": "stream",
     "text": [
      "[array([138.613, 138.637, 138.615, ..., 140.498, 140.501, 140.507]), array([112.774, 113.695, 112.534, ..., 112.684, 112.589, 112.72 ])]\n"
     ]
    },
    {
     "data": {
      "application/vnd.jupyter.widget-view+json": {
       "model_id": "9133d3aa13a049419edbffa96b15a3ac",
       "version_major": 2,
       "version_minor": 0
      },
      "text/plain": [
       "HBox(children=(IntProgress(value=0, max=3835), HTML(value='')))"
      ]
     },
     "metadata": {},
     "output_type": "display_data"
    },
    {
     "name": "stdout",
     "output_type": "stream",
     "text": [
      "[220.327 219.335 220.828 ... 202.475 203.393 202.508]\n",
      "[array([220.327, 219.335, 220.828, ..., 202.475, 203.393, 202.508]), array([275.994, 276.496, 271.675, ..., 269.445, 269.546, 272.621])]\n"
     ]
    },
    {
     "data": {
      "application/vnd.jupyter.widget-view+json": {
       "model_id": "85a3c82f7255453d8d1d1f88aaf14ede",
       "version_major": 2,
       "version_minor": 0
      },
      "text/plain": [
       "HBox(children=(IntProgress(value=0, max=3835), HTML(value='')))"
      ]
     },
     "metadata": {},
     "output_type": "display_data"
    },
    {
     "name": "stdout",
     "output_type": "stream",
     "text": [
      "[array([220.327, 219.335, 220.828, ..., 202.475, 203.393, 202.508]), array([275.994, 276.496, 271.675, ..., 269.445, 269.546, 272.621])]\n"
     ]
    },
    {
     "data": {
      "application/vnd.jupyter.widget-view+json": {
       "model_id": "6fda880e22d34a5b8fea26c4497b1640",
       "version_major": 2,
       "version_minor": 0
      },
      "text/plain": [
       "HBox(children=(IntProgress(value=0, max=3835), HTML(value='')))"
      ]
     },
     "metadata": {},
     "output_type": "display_data"
    },
    {
     "name": "stdout",
     "output_type": "stream",
     "text": [
      "[244.071 244.123 244.021 ... 244.663 244.862 244.681]\n",
      "[array([244.071, 244.123, 244.021, ..., 244.663, 244.862, 244.681]), array([244.725, 226.283, 226.562, ..., 228.219, 228.434, 228.757])]\n"
     ]
    },
    {
     "data": {
      "application/vnd.jupyter.widget-view+json": {
       "model_id": "247cf56306ec4d2aaa3edcc907733b4b",
       "version_major": 2,
       "version_minor": 0
      },
      "text/plain": [
       "HBox(children=(IntProgress(value=0, max=3835), HTML(value='')))"
      ]
     },
     "metadata": {},
     "output_type": "display_data"
    },
    {
     "name": "stdout",
     "output_type": "stream",
     "text": [
      "[array([244.071, 244.123, 244.021, ..., 244.663, 244.862, 244.681]), array([244.725, 226.283, 226.562, ..., 228.219, 228.434, 228.757])]\n"
     ]
    },
    {
     "data": {
      "application/vnd.jupyter.widget-view+json": {
       "model_id": "174b7e530c954144bf397efe9e3d9668",
       "version_major": 2,
       "version_minor": 0
      },
      "text/plain": [
       "HBox(children=(IntProgress(value=0, max=3835), HTML(value='')))"
      ]
     },
     "metadata": {},
     "output_type": "display_data"
    },
    {
     "name": "stdout",
     "output_type": "stream",
     "text": [
      "[262.024 258.229 261.873 ... 261.857 262.064 258.839]\n",
      "[array([262.024, 258.229, 261.873, ..., 261.857, 262.064, 258.839]), array([146.194, 147.983, 172.264, ..., 123.508, 124.601, 122.857])]\n"
     ]
    },
    {
     "data": {
      "application/vnd.jupyter.widget-view+json": {
       "model_id": "3aa61a27746e4392857060b4c779891a",
       "version_major": 2,
       "version_minor": 0
      },
      "text/plain": [
       "HBox(children=(IntProgress(value=0, max=3835), HTML(value='')))"
      ]
     },
     "metadata": {},
     "output_type": "display_data"
    },
    {
     "name": "stdout",
     "output_type": "stream",
     "text": [
      "[array([262.024, 258.229, 261.873, ..., 261.857, 262.064, 258.839]), array([146.194, 147.983, 172.264, ..., 123.508, 124.601, 122.857])]\n"
     ]
    },
    {
     "data": {
      "application/vnd.jupyter.widget-view+json": {
       "model_id": "449a9478e5b24315bf20da3ae4c059ed",
       "version_major": 2,
       "version_minor": 0
      },
      "text/plain": [
       "HBox(children=(IntProgress(value=0, max=3835), HTML(value='')))"
      ]
     },
     "metadata": {},
     "output_type": "display_data"
    },
    {
     "name": "stdout",
     "output_type": "stream",
     "text": [
      "[255.155 232.834 233.013 ... 228.738 228.758 228.876]\n",
      "[array([255.155, 232.834, 233.013, ..., 228.738, 228.758, 228.876]), array([234.052, 230.531, 231.571, ..., 232.653, 233.324, 233.213])]\n"
     ]
    },
    {
     "data": {
      "application/vnd.jupyter.widget-view+json": {
       "model_id": "ee30debd719c4f249eb4a0747aa54077",
       "version_major": 2,
       "version_minor": 0
      },
      "text/plain": [
       "HBox(children=(IntProgress(value=0, max=3835), HTML(value='')))"
      ]
     },
     "metadata": {},
     "output_type": "display_data"
    },
    {
     "name": "stdout",
     "output_type": "stream",
     "text": [
      "[array([255.155, 232.834, 233.013, ..., 228.738, 228.758, 228.876]), array([234.052, 230.531, 231.571, ..., 232.653, 233.324, 233.213])]\n"
     ]
    },
    {
     "data": {
      "application/vnd.jupyter.widget-view+json": {
       "model_id": "c42736a178d14448b753869640a370d8",
       "version_major": 2,
       "version_minor": 0
      },
      "text/plain": [
       "HBox(children=(IntProgress(value=0, max=3835), HTML(value='')))"
      ]
     },
     "metadata": {},
     "output_type": "display_data"
    },
    {
     "name": "stdout",
     "output_type": "stream",
     "text": [
      "[180.893 180.899 180.926 ... 182.224 181.86  181.928]\n",
      "[array([180.893, 180.899, 180.926, ..., 182.224, 181.86 , 181.928]), array([184.606, 183.607, 182.943, ..., 184.374, 184.837, 184.441])]\n"
     ]
    },
    {
     "data": {
      "application/vnd.jupyter.widget-view+json": {
       "model_id": "ad55bee2d8984b58839ec8a072c2ed2f",
       "version_major": 2,
       "version_minor": 0
      },
      "text/plain": [
       "HBox(children=(IntProgress(value=0, max=3835), HTML(value='')))"
      ]
     },
     "metadata": {},
     "output_type": "display_data"
    },
    {
     "name": "stdout",
     "output_type": "stream",
     "text": [
      "[array([180.893, 180.899, 180.926, ..., 182.224, 181.86 , 181.928]), array([184.606, 183.607, 182.943, ..., 184.374, 184.837, 184.441])]\n"
     ]
    },
    {
     "data": {
      "application/vnd.jupyter.widget-view+json": {
       "model_id": "3fd4ed6cc284454784a7de4cc936eb94",
       "version_major": 2,
       "version_minor": 0
      },
      "text/plain": [
       "HBox(children=(IntProgress(value=0, max=3835), HTML(value='')))"
      ]
     },
     "metadata": {},
     "output_type": "display_data"
    },
    {
     "name": "stdout",
     "output_type": "stream",
     "text": [
      "[145.95  145.939 145.967 ... 145.966 146.329 145.962]\n",
      "[array([145.95 , 145.939, 145.967, ..., 145.966, 146.329, 145.962]), array([ 99.394, 100.003,  99.537, ..., 100.507, 101.168, 101.64 ])]\n"
     ]
    },
    {
     "data": {
      "application/vnd.jupyter.widget-view+json": {
       "model_id": "d0be60e319654d0fbe537d8acc14c207",
       "version_major": 2,
       "version_minor": 0
      },
      "text/plain": [
       "HBox(children=(IntProgress(value=0, max=3835), HTML(value='')))"
      ]
     },
     "metadata": {},
     "output_type": "display_data"
    },
    {
     "name": "stdout",
     "output_type": "stream",
     "text": [
      "[array([145.95 , 145.939, 145.967, ..., 145.966, 146.329, 145.962]), array([ 99.394, 100.003,  99.537, ..., 100.507, 101.168, 101.64 ])]\n"
     ]
    },
    {
     "data": {
      "application/vnd.jupyter.widget-view+json": {
       "model_id": "858b3cd8c089451fb5dd8bb11defa3eb",
       "version_major": 2,
       "version_minor": 0
      },
      "text/plain": [
       "HBox(children=(IntProgress(value=0, max=3835), HTML(value='')))"
      ]
     },
     "metadata": {},
     "output_type": "display_data"
    },
    {
     "name": "stdout",
     "output_type": "stream",
     "text": [
      "[254.857 255.731 257.548 ... 257.285 253.532 257.078]\n",
      "[array([254.857, 255.731, 257.548, ..., 257.285, 253.532, 257.078]), array([247.104, 247.152, 247.383, ..., 284.412, 284.172, 285.189])]\n"
     ]
    },
    {
     "data": {
      "application/vnd.jupyter.widget-view+json": {
       "model_id": "a8ab173e1165463e8e3b65446c852389",
       "version_major": 2,
       "version_minor": 0
      },
      "text/plain": [
       "HBox(children=(IntProgress(value=0, max=3835), HTML(value='')))"
      ]
     },
     "metadata": {},
     "output_type": "display_data"
    },
    {
     "name": "stdout",
     "output_type": "stream",
     "text": [
      "[array([254.857, 255.731, 257.548, ..., 257.285, 253.532, 257.078]), array([247.104, 247.152, 247.383, ..., 284.412, 284.172, 285.189])]\n"
     ]
    },
    {
     "data": {
      "application/vnd.jupyter.widget-view+json": {
       "model_id": "a2668cfbb37b4a3995b65474a51792dd",
       "version_major": 2,
       "version_minor": 0
      },
      "text/plain": [
       "HBox(children=(IntProgress(value=0, max=3835), HTML(value='')))"
      ]
     },
     "metadata": {},
     "output_type": "display_data"
    },
    {
     "name": "stdout",
     "output_type": "stream",
     "text": [
      "\n"
     ]
    }
   ],
   "source": [
    "benchmarks = {}\n",
    "\n",
    "# Progress bar\n",
    "p = tqdm(scenarios_paths)\n",
    "\n",
    "series_temp={}\n",
    "for scenario_path in p:\n",
    "    if scenario_path!='.ipynb_checkpoints':\n",
    "        scenario = Scenario.from_path(scenario_path)\n",
    "        # en scenario.timeseries tengo las series temporales para cada ruta\n",
    "        series_temp[scenario.name]=scenario.timeseries\n",
    "        print(scenario.timeseries[0])\n",
    "        benchmark = {'logs': {}}\n",
    "\n",
    "        # Constant monitoring cost\n",
    "        costs = np.ones(scenario.n_paths) * 0.5\n",
    "\n",
    "        # (Routing Policy, Monitoring Policy)\n",
    "        policies = []\n",
    "\n",
    "        # IP Path\n",
    "        policies.append((\n",
    "            StaticRoutingPolicy(0),\n",
    "            StaticMonitoringPolicy(np.zeros(scenario.n_paths))\n",
    "        ))\n",
    "\n",
    "        # Receding Horizon\n",
    "        policies.append((\n",
    "            MinimalDelayRoutingPolicy(),\n",
    "            RecedingHorizonPolicy(scenario.models, costs, τ_max=100, ρ=0.99, H=1, one_route=False)\n",
    "        ))\n",
    "\n",
    "        for routing_policy, monitoring_policy in policies:\n",
    "            policy_name = '{} / {}'.format(routing_policy, monitoring_policy)\n",
    "            p.set_description('{} ({})'.format(scenario.name, policy_name))\n",
    "\n",
    "            try:\n",
    "                sim = Simulator(scenario.timeseries, scenario.models, costs)\n",
    "                print(sim.timeseries)\n",
    "                benchmark['logs'][policy_name] = sim.benchmark(monitoring_policy, routing_policy)\n",
    "            except Exception as e:\n",
    "                print('Failed to simulate {}'.format(policy_name))\n",
    "                print(e)\n",
    "\n",
    "        benchmarks[scenario.name] = benchmark\n"
   ]
  },
  {
   "cell_type": "code",
   "execution_count": null,
   "metadata": {},
   "outputs": [],
   "source": []
  },
  {
   "cell_type": "code",
   "execution_count": 10,
   "metadata": {},
   "outputs": [
    {
     "ename": "AttributeError",
     "evalue": "'str' object has no attribute 'timeseries'",
     "output_type": "error",
     "traceback": [
      "\u001b[0;31m---------------------------------------------------------------------------\u001b[0m",
      "\u001b[0;31mAttributeError\u001b[0m                            Traceback (most recent call last)",
      "\u001b[0;32m<ipython-input-10-73ba3d73b7f4>\u001b[0m in \u001b[0;36m<module>\u001b[0;34m\u001b[0m\n\u001b[1;32m      1\u001b[0m \u001b[0;31m# tengo las series temporales en scenario.timeseries[ruta]\u001b[0m\u001b[0;34m\u001b[0m\u001b[0;34m\u001b[0m\u001b[0;34m\u001b[0m\u001b[0m\n\u001b[1;32m      2\u001b[0m \u001b[0;32mfor\u001b[0m \u001b[0mscenario\u001b[0m\u001b[0;34m,\u001b[0m \u001b[0mbenchmark\u001b[0m \u001b[0;32min\u001b[0m \u001b[0mbenchmarks\u001b[0m\u001b[0;34m.\u001b[0m\u001b[0mitems\u001b[0m\u001b[0;34m(\u001b[0m\u001b[0;34m)\u001b[0m\u001b[0;34m:\u001b[0m\u001b[0;34m\u001b[0m\u001b[0;34m\u001b[0m\u001b[0m\n\u001b[0;32m----> 3\u001b[0;31m     \u001b[0mseries_temp\u001b[0m\u001b[0;34m[\u001b[0m\u001b[0mscenario\u001b[0m\u001b[0;34m.\u001b[0m\u001b[0mname\u001b[0m\u001b[0;34m]\u001b[0m\u001b[0;34m=\u001b[0m\u001b[0mscenario\u001b[0m\u001b[0;34m.\u001b[0m\u001b[0mtimeseries\u001b[0m\u001b[0;34m\u001b[0m\u001b[0;34m\u001b[0m\u001b[0m\n\u001b[0m\u001b[1;32m      4\u001b[0m \u001b[0;34m\u001b[0m\u001b[0m\n\u001b[1;32m      5\u001b[0m \u001b[0;31m################################\u001b[0m\u001b[0;34m\u001b[0m\u001b[0;34m\u001b[0m\u001b[0;34m\u001b[0m\u001b[0m\n",
      "\u001b[0;31mAttributeError\u001b[0m: 'str' object has no attribute 'timeseries'"
     ]
    }
   ],
   "source": [
    "# tengo las series temporales en scenario.timeseries[ruta]\n",
    "for scenario, benchmark in benchmarks.items():\n",
    "    series_temp[scenario.name]=scenario.timeseries\n",
    "\n",
    "################################\n",
    "# armo vector de entrenamiento #\n",
    "################################\n",
    "\n",
    "# serie es la ruta ideal (ruta 0, ruta 1, ruta 2) y serie_mod es el valor del RTT\n",
    "serie=[]\n",
    "serie_mod=[]\n",
    "# serie_ent[i] es la ruta i para entrenamiento\n",
    "serie_ent=[[],[],[]]\n",
    "for i in range(largo_ent-T+1):\n",
    "    for k in range(T):\n",
    "        serie.append(np.argmin(rutas_mod[:,i+k]))\n",
    "        serie_mod.append(min(rutas_mod[:,i+k]))\n",
    "#         serie_1.append(rutas_mod[0][i])\n",
    "#         serie_2.append(rutas_mod[1][i])\n",
    "        for j in range(len(rutas)):\n",
    "            serie_ent[j].append(rutas_mod[j][i])\n",
    "\n",
    "print(len(serie_ent[1]), len(serie_ent[2]), len(serie))\n",
    "# print(serie_1)\n",
    "# print(serie)\n",
    "# print(serie_mod)\n",
    "# print(rutas_mod[0])\n",
    "# print(rutas_mod[1])\n",
    "\n",
    "tiempo=list(range(T))*int(largo_ent-T+1)\n",
    "print(len(tiempo))\n",
    "\n"
   ]
  },
  {
   "cell_type": "code",
   "execution_count": null,
   "metadata": {},
   "outputs": [],
   "source": [
    "measures = {'tiempo': tiempo, 'ruta 1': serie_ent[0], 'ruta 2': serie_ent[1], 'ruta 3': serie_ent[2], 'ruteo': serie}\n",
    "\n",
    "df = pd.DataFrame(measures,columns= ['tiempo', 'ruta 1', 'ruta 2', 'ruta 3', 'ruteo'])\n",
    "print (df)"
   ]
  },
  {
   "cell_type": "code",
   "execution_count": null,
   "metadata": {},
   "outputs": [],
   "source": [
    "X = df[['tiempo', 'ruta 1', 'ruta 2', 'ruta 3']]\n",
    "y = df['ruteo']"
   ]
  },
  {
   "cell_type": "code",
   "execution_count": null,
   "metadata": {},
   "outputs": [],
   "source": [
    "X_train,X_test,y_train,y_test = train_test_split(X,y,test_size=0.20,random_state=0)"
   ]
  },
  {
   "cell_type": "code",
   "execution_count": null,
   "metadata": {},
   "outputs": [],
   "source": [
    "clf = RandomForestClassifier(n_estimators=10)\n",
    "clf.fit(X_train,y_train)\n",
    "y_pred=clf.predict(X_test)"
   ]
  },
  {
   "cell_type": "code",
   "execution_count": null,
   "metadata": {},
   "outputs": [],
   "source": [
    "print('Accuracy: ',metrics.accuracy_score(y_test, y_pred))"
   ]
  },
  {
   "cell_type": "code",
   "execution_count": null,
   "metadata": {},
   "outputs": [],
   "source": [
    "# tengo que ver como armar el vector de entrada para realizar las predicciones\n",
    "prediction=[]\n",
    "# print(len(rutas_mod[1]))\n",
    "for i in range(largo_test):\n",
    "    [ruta]=clf.predict([[i%T, rutas_mod[0][largo_ent+(i-i%T)], rutas_mod[1][largo_ent+(i-i%T)], rutas_mod[2][largo_ent+(i-i%T)]]])\n",
    "    # si elijo la ruta 1\n",
    "#     print(ruta)\n",
    "    prediction.append(rutas_mod[ruta][largo_ent+i])\n",
    "\n",
    "costo_medida_T=(largo_test/T)*costs[0]"
   ]
  },
  {
   "cell_type": "code",
   "execution_count": null,
   "metadata": {},
   "outputs": [],
   "source": [
    "# infile = open('DatosH3_NOoneroute.pickle','rb')\n",
    "# benchmarks = pickle.load(infile)\n",
    "# infile.close()\n",
    "#print(new_dict)"
   ]
  },
  {
   "cell_type": "code",
   "execution_count": null,
   "metadata": {},
   "outputs": [],
   "source": []
  },
  {
   "cell_type": "code",
   "execution_count": null,
   "metadata": {},
   "outputs": [],
   "source": []
  },
  {
   "cell_type": "code",
   "execution_count": null,
   "metadata": {},
   "outputs": [],
   "source": [
    "# print(scenario.models)\n",
    "# print(sim.timeseries)\n",
    "legend_properties = {'weight':'bold', 'size':'24'}\n",
    "proxies={'Paris_Tokyo': ['IP path', 'via Calgary'], 'Singapore_HongKong': ['IP path', 'via Tokyo', 'via Narita'], 'Haifa_Santiago': ['IP path', 'via Curitiva', 'via Dublin', 'via Boston'], 'Paris_Santiago': ['IP path', 'via Cocoa', 'via Boston', 'via Dublin']}\n",
    "for scenario, benchmark in benchmarks.items():\n",
    "    print(scenario)\n",
    "    print(benchmark)\n",
    "    fig=plt.figure(figsize=(16,16))\n",
    "    ax=fig.add_subplot(1,1,1)\n",
    "    for policy, log in benchmark['logs'].items():\n",
    "#         print(policy)\n",
    "#         print(log)\n",
    "        if policy=='Static Route 0 / Never Measure':\n",
    "            ax.plot(log.get('delay'), label='IP path')\n",
    "        else:\n",
    "            ax.plot(log.get('delay'), 'o', label=policy)\n",
    "    print(series_temp[scenario][0])\n",
    "    for paths in range(1, len(proxies[scenario])):\n",
    "        print(series_temp[scenario][paths])\n",
    "        ax.plot(series_temp[scenario][paths], label=proxies[scenario][paths])\n",
    "    ax.set_xlabel('Time (minutes)', fontsize=24, weight='bold')\n",
    "    ax.set_ylabel('Delay (ms)', fontsize=24, weight='bold')\n",
    "    ax.set_title(str(scenario), fontsize=24, weight='bold')\n",
    "    plt.legend(prop=legend_properties)\n",
    "    plt.savefig('Delay'+str(scenario)+'.pdf')\n",
    "#     plt.show()"
   ]
  },
  {
   "cell_type": "code",
   "execution_count": null,
   "metadata": {},
   "outputs": [],
   "source": [
    "# print(scenario.models)\n",
    "# print(sim.timeseries)\n",
    "for scenario, benchmark in benchmarks.items():\n",
    "    print(scenario)\n",
    "#     print(benchmark['logs'].items())\n",
    "    for policy, log in benchmark['logs'].items():\n",
    "        gap=0\n",
    "        no_min=0\n",
    "        delay=log.get('delay')\n",
    "        minimo=[]\n",
    "#         minimo=delay\n",
    "#         print(minimo)\n",
    "        for i in range(len(delay)):\n",
    "            menor=False\n",
    "            minimo.append(delay[i])\n",
    "            for j in range(len(series_temp[scenario])):\n",
    "                if delay[i]>series_temp[scenario][j][i]:\n",
    "                    menor=True\n",
    "                    minimo[i]=series_temp[scenario][j][i]\n",
    "            gap+=(delay[i]-minimo[i])/minimo[i]\n",
    "            if menor==True:\n",
    "                no_min+=1\n",
    "        print(policy, 1-no_min*1./len(delay), gap*1./len(delay))"
   ]
  },
  {
   "cell_type": "code",
   "execution_count": null,
   "metadata": {},
   "outputs": [],
   "source": [
    "def get_benchmark_df(benchmarks):\n",
    "    records = []\n",
    "\n",
    "    for scenario, benchmark in benchmarks.items():\n",
    "        for policy, log in benchmark['logs'].items():\n",
    "            records.append({\n",
    "                'scenario': scenario,\n",
    "                'policy': policy,\n",
    "                'avg_delay': log.avg_delay(),\n",
    "                'avg_cost': log.avg_cost(),\n",
    "                'avg_processing_time': log.avg_processing_time() / 1e3,\n",
    "                'avg_n_measures': log.avg_n_measures()\n",
    "            })\n",
    "\n",
    "    return pd.DataFrame.from_records(records)"
   ]
  },
  {
   "cell_type": "code",
   "execution_count": null,
   "metadata": {},
   "outputs": [],
   "source": [
    "get_benchmark_df(benchmarks)"
   ]
  },
  {
   "cell_type": "code",
   "execution_count": null,
   "metadata": {},
   "outputs": [],
   "source": []
  },
  {
   "cell_type": "code",
   "execution_count": null,
   "metadata": {},
   "outputs": [],
   "source": []
  },
  {
   "cell_type": "code",
   "execution_count": 18,
   "metadata": {},
   "outputs": [],
   "source": [
    "import pickle\n",
    "filename = 'Paris_Tokyo'\n",
    "outfile = open(filename,'wb')\n",
    "pickle.dump(benchmarks,outfile)\n",
    "outfile.close()"
   ]
  },
  {
   "cell_type": "code",
   "execution_count": null,
   "metadata": {},
   "outputs": [],
   "source": []
  },
  {
   "cell_type": "code",
   "execution_count": null,
   "metadata": {},
   "outputs": [],
   "source": []
  },
  {
   "cell_type": "code",
   "execution_count": 12,
   "metadata": {},
   "outputs": [
    {
     "name": "stdout",
     "output_type": "stream",
     "text": [
      "{'Haifa_Santiago': {'logs': {'Static Route 0 / Never Measure': <lib.simulator.Logbook object at 0x7fc53c1a3590>, 'Minimal Delay / RH(ρ=0.99,H=3)': <lib.simulator.Logbook object at 0x7fc535f1aa10>}}}\n"
     ]
    }
   ],
   "source": [
    "infile = open(filename,'rb')\n",
    "new_dict = pickle.load(infile)\n",
    "infile.close()\n",
    "print(new_dict)"
   ]
  },
  {
   "cell_type": "code",
   "execution_count": null,
   "metadata": {},
   "outputs": [],
   "source": []
  },
  {
   "cell_type": "code",
   "execution_count": 60,
   "metadata": {},
   "outputs": [
    {
     "data": {
      "text/plain": [
       "<matplotlib.axes._subplots.AxesSubplot at 0x7f343fe91f10>"
      ]
     },
     "execution_count": 60,
     "metadata": {},
     "output_type": "execute_result"
    },
    {
     "data": {
      "image/png": "[encoded data removed]",
      "text/plain": [
       "<Figure size 1152x576 with 1 Axes>"
      ]
     },
     "metadata": {
      "needs_background": "light"
     },
     "output_type": "display_data"
    }
   ],
   "source": [
    "df = get_benchmark_df(benchmarks)\n",
    "plt.figure(figsize=(16,8))\n",
    "sns.barplot(x='scenario', y='avg_delay', hue='policy', data=df)\n",
    "# plt.savefig('../figures/benchmark_delay_v2.png', bbox_inches='tight', dpi=300)"
   ]
  },
  {
   "cell_type": "code",
   "execution_count": 61,
   "metadata": {},
   "outputs": [
    {
     "data": {
      "text/plain": [
       "<matplotlib.axes._subplots.AxesSubplot at 0x7f34441f7b10>"
      ]
     },
     "execution_count": 61,
     "metadata": {},
     "output_type": "execute_result"
    },
    {
     "data": {
      "image/png": "[encoded data removed]",
      "text/plain": [
       "<Figure size 1152x576 with 1 Axes>"
      ]
     },
     "metadata": {
      "needs_background": "light"
     },
     "output_type": "display_data"
    }
   ],
   "source": [
    "df = get_benchmark_df(benchmarks)\n",
    "plt.figure(figsize=(16,8))\n",
    "sns.barplot(x='scenario', y='avg_n_measures', hue='policy', data=df)\n",
    "# plt.savefig('../figures/benchmark_cost_v2.png', bbox_inches='tight', dpi=300)"
   ]
  },
  {
   "cell_type": "code",
   "execution_count": 62,
   "metadata": {},
   "outputs": [
    {
     "data": {
      "text/plain": [
       "<matplotlib.axes._subplots.AxesSubplot at 0x7f34442104d0>"
      ]
     },
     "execution_count": 62,
     "metadata": {},
     "output_type": "execute_result"
    },
    {
     "data": {
      "image/png": "[encoded data removed]",
      "text/plain": [
       "<Figure size 1152x576 with 1 Axes>"
      ]
     },
     "metadata": {
      "needs_background": "light"
     },
     "output_type": "display_data"
    }
   ],
   "source": [
    "df = get_benchmark_df(benchmarks)\n",
    "plt.figure(figsize=(16,8))\n",
    "sns.barplot(x='scenario', y='avg_cost', hue='policy', data=df)\n",
    "# plt.savefig('../figures/benchmark_cost_v2.png', bbox_inches='tight', dpi=300)"
   ]
  },
  {
   "cell_type": "code",
   "execution_count": 63,
   "metadata": {},
   "outputs": [
    {
     "data": {
      "text/plain": [
       "<matplotlib.axes._subplots.AxesSubplot at 0x7f344410f4d0>"
      ]
     },
     "execution_count": 63,
     "metadata": {},
     "output_type": "execute_result"
    },
    {
     "data": {
      "image/png": "[encoded data removed]",
      "text/plain": [
       "<Figure size 1152x576 with 1 Axes>"
      ]
     },
     "metadata": {
      "needs_background": "light"
     },
     "output_type": "display_data"
    }
   ],
   "source": [
    "df = get_benchmark_df(benchmarks)\n",
    "plt.figure(figsize=(16,8))\n",
    "sns.barplot(x='scenario', y='avg_processing_time', hue='policy', data=df)\n",
    "# plt.savefig('../figures/benchmark_acc_v2.png', bbox_inches='tight', dpi=300)"
   ]
  },
  {
   "cell_type": "code",
   "execution_count": null,
   "metadata": {},
   "outputs": [],
   "source": []
  },
  {
   "cell_type": "code",
   "execution_count": null,
   "metadata": {},
   "outputs": [],
   "source": []
  }
 ],
 "metadata": {
  "kernelspec": {
   "display_name": "Python 3",
   "language": "python",
   "name": "python3"
  },
  "language_info": {
   "codemirror_mode": {
    "name": "ipython",
    "version": 3
   },
   "file_extension": ".py",
   "mimetype": "text/x-python",
   "name": "python",
   "nbconvert_exporter": "python",
   "pygments_lexer": "ipython3",
   "version": "3.7.5"
  }
 },
 "nbformat": 4,
 "nbformat_minor": 4
}
